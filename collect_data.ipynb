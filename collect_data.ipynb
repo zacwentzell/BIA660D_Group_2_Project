{
 "cells": [
  {
   "cell_type": "code",
   "execution_count": 1,
   "metadata": {
    "collapsed": true
   },
   "outputs": [],
   "source": [
    "import numpy as np\n",
    "import pandas as pd\n",
    "import os\n",
    "import glob"
   ]
  },
  {
   "cell_type": "code",
   "execution_count": 127,
   "metadata": {},
   "outputs": [],
   "source": [
    "# initialize file folder and series to contain reviews/ ratings inside each file\n",
    "akg_path = \"data_gathering/AKG data folder\"\n",
    "akg_files = glob.glob(os.path.join(akg_path, \"*.csv\"))\n",
    "dataframe = pd.DataFrame()\n",
    "akg_reviews_series = pd.Series()\n",
    "akg_rating_series = pd.Series()\n",
    "for file_ in akg_files:\n",
    "    df = pd.read_csv(file_, header=0)\n",
    "    akg_reviews_series = pd.concat([akg_reviews_series,df['Review Contents']], axis=0)\n",
    "    akg_rating_series = pd.concat([akg_rating_series,df['Score']], axis=0)\n",
    "# assign series to dataframe\n",
    "dataframe = dataframe.assign(Reviews=akg_reviews_series.values)\n",
    "dataframe = dataframe.assign(Ratings=akg_rating_series.values)"
   ]
  },
  {
   "cell_type": "code",
   "execution_count": 149,
   "metadata": {},
   "outputs": [
    {
     "data": {
      "text/plain": [
       "(360, 2)"
      ]
     },
     "execution_count": 149,
     "metadata": {},
     "output_type": "execute_result"
    }
   ],
   "source": [
    "dataframe.shape"
   ]
  },
  {
   "cell_type": "code",
   "execution_count": 150,
   "metadata": {
    "collapsed": true
   },
   "outputs": [
    {
     "data": {
      "text/html": [
       "<div>\n",
       "<style>\n",
       "    .dataframe thead tr:only-child th {\n",
       "        text-align: right;\n",
       "    }\n",
       "\n",
       "    .dataframe thead th {\n",
       "        text-align: left;\n",
       "    }\n",
       "\n",
       "    .dataframe tbody tr th {\n",
       "        vertical-align: top;\n",
       "    }\n",
       "</style>\n",
       "<table border=\"1\" class=\"dataframe\">\n",
       "  <thead>\n",
       "    <tr style=\"text-align: right;\">\n",
       "      <th></th>\n",
       "      <th>Reviews</th>\n",
       "      <th>Ratings</th>\n",
       "    </tr>\n",
       "  </thead>\n",
       "  <tbody>\n",
       "    <tr>\n",
       "      <th>0</th>\n",
       "      <td>Cans sound fine, but the AKG branded audio cab...</td>\n",
       "      <td>1.0 out of 5 stars</td>\n",
       "    </tr>\n",
       "    <tr>\n",
       "      <th>1</th>\n",
       "      <td>I bought these for my Futaba Sakura cosplay, b...</td>\n",
       "      <td>5.0 out of 5 stars</td>\n",
       "    </tr>\n",
       "    <tr>\n",
       "      <th>2</th>\n",
       "      <td>Holy cow, what a set of cans. These are some n...</td>\n",
       "      <td>5.0 out of 5 stars</td>\n",
       "    </tr>\n",
       "    <tr>\n",
       "      <th>3</th>\n",
       "      <td>Love this headphone but the left side is loude...</td>\n",
       "      <td>1.0 out of 5 stars</td>\n",
       "    </tr>\n",
       "    <tr>\n",
       "      <th>4</th>\n",
       "      <td>Sound leakage - nil/mildSound Isolation - Epic...</td>\n",
       "      <td>5.0 out of 5 stars</td>\n",
       "    </tr>\n",
       "  </tbody>\n",
       "</table>\n",
       "</div>"
      ],
      "text/plain": [
       "                                             Reviews             Ratings\n",
       "0  Cans sound fine, but the AKG branded audio cab...  1.0 out of 5 stars\n",
       "1  I bought these for my Futaba Sakura cosplay, b...  5.0 out of 5 stars\n",
       "2  Holy cow, what a set of cans. These are some n...  5.0 out of 5 stars\n",
       "3  Love this headphone but the left side is loude...  1.0 out of 5 stars\n",
       "4  Sound leakage - nil/mildSound Isolation - Epic...  5.0 out of 5 stars"
      ]
     },
     "execution_count": 150,
     "metadata": {},
     "output_type": "execute_result"
    }
   ],
   "source": [
    "dataframe.head()"
   ]
  },
  {
   "cell_type": "code",
   "execution_count": 147,
   "metadata": {},
   "outputs": [],
   "source": [
    "Sennheiser_path = \"data_gathering/Sennheiser+Mpow data folder/Mpow data\"\n",
    "Sennheiser_files = glob.glob(os.path.join(Sennheiser_path, \"*.csv\"))\n",
    "Sennheiser_reviews_series = pd.Series()\n",
    "Sennheiser_rating_series = pd.Series()\n",
    "for file_ in Sennheiser_files:\n",
    "    df = pd.read_csv(file_, header=0)\n",
    "    Sennheiser_reviews_series = pd.concat([Sennheiser_reviews_series,df['Review Contents']], axis=0)\n",
    "    Sennheiser_rating_series = pd.concat([Sennheiser_rating_series,df['Score']], axis=0)\n",
    "# append series to existing series columnwise\n",
    "Sennheiser_dataframe = pd.DataFrame({'Reviews': Sennheiser_reviews_series, 'Ratings': Sennheiser_rating_series})"
   ]
  },
  {
   "cell_type": "code",
   "execution_count": 170,
   "metadata": {
    "scrolled": true
   },
   "outputs": [],
   "source": [
    "dataframe = dataframe.append(Sennheiser_dataframe,ignore_index=True)"
   ]
  },
  {
   "cell_type": "code",
   "execution_count": 168,
   "metadata": {},
   "outputs": [],
   "source": [
    "Otium_path = \"data_gathering/Scrapped_Data/Otium\"\n",
    "Otium_files = glob.glob(os.path.join(Otium_path, \"*.csv\"))\n",
    "Otium_reviews_series = pd.Series()\n",
    "Otium_rating_series = pd.Series()\n",
    "for file_ in Otium_files:\n",
    "    df = pd.read_csv(file_, header=0)\n",
    "    Otium_reviews_series = pd.concat([Otium_reviews_series,df['Reviews']], axis=0)\n",
    "    Otium_rating_series = pd.concat([Otium_rating_series,df['Ratings']], axis=0)\n",
    "Otium_dataframe = pd.DataFrame({'Reviews': Otium_reviews_series, 'Ratings': Otium_rating_series})"
   ]
  },
  {
   "cell_type": "code",
   "execution_count": 172,
   "metadata": {},
   "outputs": [
    {
     "data": {
      "text/plain": [
       "(35040, 2)"
      ]
     },
     "execution_count": 172,
     "metadata": {},
     "output_type": "execute_result"
    }
   ],
   "source": [
    "dataframe = dataframe.append(Otium_dataframe,ignore_index=True)\n",
    "dataframe.shape"
   ]
  },
  {
   "cell_type": "code",
   "execution_count": 173,
   "metadata": {
    "collapsed": true
   },
   "outputs": [],
   "source": [
    "Shure_path = \"data_gathering/Scrapped_Data/Shure\"\n",
    "Shure_files = glob.glob(os.path.join(Shure_path, \"*.csv\"))\n",
    "Shure_reviews_series = pd.Series()\n",
    "Shure_rating_series = pd.Series()\n",
    "for file_ in Shure_files:\n",
    "    df = pd.read_csv(file_, header=0)\n",
    "    Shure_reviews_series = pd.concat([Shure_reviews_series,df['Reviews']], axis=0)\n",
    "    Shure_rating_series = pd.concat([Shure_rating_series,df['Ratings']], axis=0)\n",
    "Shure_dataframe = pd.DataFrame({'Reviews': Shure_reviews_series, 'Ratings': Shure_rating_series})"
   ]
  },
  {
   "cell_type": "code",
   "execution_count": 174,
   "metadata": {},
   "outputs": [
    {
     "data": {
      "text/plain": [
       "(40233, 2)"
      ]
     },
     "execution_count": 174,
     "metadata": {},
     "output_type": "execute_result"
    }
   ],
   "source": [
    "dataframe = dataframe.append(Shure_dataframe,ignore_index=True)\n",
    "dataframe.shape"
   ]
  },
  {
   "cell_type": "code",
   "execution_count": 216,
   "metadata": {
    "collapsed": true
   },
   "outputs": [],
   "source": [
    "Ailhen_path = \"data_gathering/Scrapped_Data/AILHEN\"\n",
    "Ailhen_files = glob.glob(os.path.join(Ailhen_path, \"*.csv\"))\n",
    "Ailhen_reviews_series = pd.Series()\n",
    "Ailhen_rating_series = pd.Series()\n",
    "for file_ in Ailhen_files:\n",
    "    df = pd.read_csv(file_, header=0)\n",
    "    Ailhen_reviews_series = pd.concat([Ailhen_reviews_series,df['Reviews']], axis=0)\n",
    "    Ailhen_rating_series = pd.concat([Ailhen_rating_series,df['Ratings']], axis=0)\n",
    "Ailhen_dataframe = pd.DataFrame({'Reviews': Ailhen_reviews_series, 'Ratings': Ailhen_rating_series})"
   ]
  },
  {
   "cell_type": "code",
   "execution_count": 217,
   "metadata": {},
   "outputs": [
    {
     "data": {
      "text/plain": [
       "(48039, 2)"
      ]
     },
     "execution_count": 217,
     "metadata": {},
     "output_type": "execute_result"
    }
   ],
   "source": [
    "dataframe = dataframe.append(Ailhen_dataframe,ignore_index=True)\n",
    "dataframe.shape"
   ]
  },
  {
   "cell_type": "code",
   "execution_count": 218,
   "metadata": {
    "collapsed": true
   },
   "outputs": [],
   "source": [
    "dataframe.to_csv('All_Data')"
   ]
  },
  {
   "cell_type": "code",
   "execution_count": 213,
   "metadata": {
    "collapsed": true
   },
   "outputs": [],
   "source": [
    "BoseAudio_path = \"data_gathering/New_Bose_Audio-Technica\"\n",
    "BoseAudio_files = glob.glob(os.path.join(BoseAudio_path, \"*.pickle\"))\n",
    "review_list = []\n",
    "rating_list = []\n",
    "BoseAudio_reviews_series = pd.Series()\n",
    "BoseAudio_rating_series = pd.Series()\n",
    "len_review = 0\n",
    "len_rating = 0\n",
    "for file_ in BoseAudio_files:\n",
    "    df = pd.read_pickle(file_)\n",
    "    len_review += len(df['reviews'])\n",
    "    len_rating += len(df['ratings'])\n",
    "    review_list += df['reviews']\n",
    "    ratings_list += df['ratings']\n",
    "# BoseAudio_reviews_series = pd.concat([BoseAudio_reviews_series,df['Reviews']], axis=0)\n",
    "# BoseAudio_rating_series = pd.concat([BoseAudio_rating_series,df['Ratings']], axis=0)\n",
    "# BoseAudio_dataframe = pd.DataFrame({'Reviews': BoseAudio_reviews_series, 'Ratings': BoseAudio_rating_series})"
   ]
  },
  {
   "cell_type": "code",
   "execution_count": null,
   "metadata": {
    "collapsed": true
   },
   "outputs": [],
   "source": []
  }
 ],
 "metadata": {
  "kernelspec": {
   "display_name": "Python 3",
   "language": "python",
   "name": "python3"
  },
  "language_info": {
   "codemirror_mode": {
    "name": "ipython",
    "version": 3
   },
   "file_extension": ".py",
   "mimetype": "text/x-python",
   "name": "python",
   "nbconvert_exporter": "python",
   "pygments_lexer": "ipython3",
   "version": "3.6.4"
  }
 },
 "nbformat": 4,
 "nbformat_minor": 2
}
