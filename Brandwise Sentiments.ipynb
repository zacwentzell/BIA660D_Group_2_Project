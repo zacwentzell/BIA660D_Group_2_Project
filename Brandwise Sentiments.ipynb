{
 "cells": [
  {
   "cell_type": "code",
   "execution_count": 1,
   "metadata": {},
   "outputs": [
    {
     "name": "stderr",
     "output_type": "stream",
     "text": [
      "C:\\Users\\Shivi\\Anaconda3\\envs\\MachineLearning\\lib\\site-packages\\statsmodels\\compat\\pandas.py:56: FutureWarning: The pandas.core.datetools module is deprecated and will be removed in a future version. Please use the pandas.tseries module instead.\n",
      "  from pandas.core import datetools\n"
     ]
    }
   ],
   "source": [
    "import re\n",
    "import itertools\n",
    "from __future__ import print_function\n",
    "import pandas as pd\n",
    "import datetime as dt\n",
    "import numpy as np\n",
    "import nltk\n",
    "import string\n",
    "import scipy.sparse as sparse\n",
    "import seaborn as sns\n",
    "import statsmodels.api as sm\n",
    "import statsmodels.formula.api as smf\n",
    "import matplotlib.pyplot as plt\n",
    "\n",
    "%matplotlib inline\n",
    "plt.style.use('seaborn-white')\n",
    "\n",
    "re_spaces = re.compile(r'\\s+')\n",
    "\n",
    "from mpl_toolkits.mplot3d import axes3d"
   ]
  },
  {
   "cell_type": "code",
   "execution_count": 2,
   "metadata": {},
   "outputs": [],
   "source": [
    "def cleaned_reviews(x):\n",
    "    #return(''.join(re.sub('[^a-zA-Z_]', ' ', x)))\n",
    "    return (x.replace(':',' ').lower().replace('\\r',' ').replace('!',' ').replace('\\n',' '))"
   ]
  },
  {
   "cell_type": "code",
   "execution_count": 3,
   "metadata": {},
   "outputs": [],
   "source": [
    "import spacy\n",
    "import en_core_web_sm\n",
    "\n",
    "nlp = en_core_web_sm.load()"
   ]
  },
  {
   "cell_type": "code",
   "execution_count": 12,
   "metadata": {},
   "outputs": [],
   "source": [
    "from nltk.corpus import stopwords\n",
    "from nltk.collocations import BigramCollocationFinder\n",
    "from nltk.metrics import BigramAssocMeasures\n",
    "\n",
    "from nltk.tokenize import RegexpTokenizer\n",
    "def get_bigram_likelihood(statements, freq_filter=3, nbest=200):\n",
    "    \"\"\"\n",
    "    Returns n (likelihood ratio) bi-grams from a group of documents\n",
    "    :param        statements: list of strings\n",
    "    :param output_file: output path for saved file\n",
    "    :param freq_filter: filter for # of appearances in bi-gram\n",
    "    :param       nbest: likelihood ratio for bi-grams\n",
    "    \"\"\"\n",
    "\n",
    "    #words = list()\n",
    "    #tokenize sentence into words\n",
    "    #for statement in statements:\n",
    "        # remove non-words\n",
    "    tokenizer = RegexpTokenizer(r'\\w+')\n",
    "    words = tokenizer.tokenize(statements)\n",
    "\n",
    "    bigram_measures = nltk.collocations.BigramAssocMeasures()\n",
    "    bigram_finder = BigramCollocationFinder.from_words(words)\n",
    "\n",
    "    # only bi-grams that appear n+ times\n",
    "    bigram_finder.apply_freq_filter(freq_filter)\n",
    "\n",
    "    # TODO: use custom stop words\n",
    "    bigram_finder.apply_word_filter(lambda w: len(w) < 3 or w.lower() in nltk.corpus.stopwords.words('english'))\n",
    "\n",
    "    #bigram_results = bigram_finder.nbest(bigram_measures.likelihood_ratio, nbest)\n",
    "\n",
    "    return bigram_finder.nbest(bigram_measures.likelihood_ratio, nbest)\n",
    "\n",
    "#bigram_finder.score_ngrams(bigram_measures.likelihood_ratio)"
   ]
  },
  {
   "cell_type": "code",
   "execution_count": 5,
   "metadata": {},
   "outputs": [],
   "source": [
    "Bose = pd.read_csv(r'C:\\Users\\Shivi\\PycharmProjects\\BIA660D_Group_2_Project\\Brandwise_files\\BoseAudio_headphones.csv') "
   ]
  },
  {
   "cell_type": "code",
   "execution_count": 6,
   "metadata": {},
   "outputs": [],
   "source": [
    "Bose = Bose.rename(index=str, columns={\"Unnamed: 0\": \"ID\"})"
   ]
  },
  {
   "cell_type": "code",
   "execution_count": 7,
   "metadata": {},
   "outputs": [],
   "source": [
    "Bose['Reviews'] = Bose['Reviews'].apply(lambda x : cleaned_reviews(str(x)))"
   ]
  },
  {
   "cell_type": "code",
   "execution_count": 8,
   "metadata": {},
   "outputs": [],
   "source": [
    "bose_data = Bose['Reviews'].tolist()"
   ]
  },
  {
   "cell_type": "code",
   "execution_count": 9,
   "metadata": {},
   "outputs": [],
   "source": [
    "bose_data = ''.join(bose_data)"
   ]
  },
  {
   "cell_type": "code",
   "execution_count": null,
   "metadata": {},
   "outputs": [],
   "source": [
    "bose_data"
   ]
  },
  {
   "cell_type": "code",
   "execution_count": 13,
   "metadata": {},
   "outputs": [],
   "source": [
    "bose_bigrams = get_bigram_likelihood(bose_data, freq_filter=3, nbest=200 )"
   ]
  },
  {
   "cell_type": "code",
   "execution_count": null,
   "metadata": {},
   "outputs": [],
   "source": [
    "bose_bigrams"
   ]
  },
  {
   "cell_type": "code",
   "execution_count": 15,
   "metadata": {},
   "outputs": [],
   "source": [
    "def sample_reviews(id):\n",
    "    bigrams = [('better', 'portability'),('noise', 'cancellation'), ('battery', 'life'), ('sound', 'quality'), ('noise', 'canceling')]\n",
    "    review_texts = Bose[Bose['ID'] == id]['Reviews'].values\n",
    "    #review_texts = Bose['Reviews'].values\n",
    "    sample_reviews = []\n",
    "    for bigram in bigrams:\n",
    "        sample_review_list = list(filter(lambda txt: \" \".join(bigram) in txt, review_texts))\n",
    "        num_reviews = len(sample_review_list)\n",
    "        if num_reviews != 0:\n",
    "            sample_review = sample_review_list[0]\n",
    "            sample_review = sample_review.replace(\" \".join(bigram), \"****\" + \"_\".join(bigram) + \"****\")\n",
    "            start_index = sample_review.index(\"****\")\n",
    "            sample_text = sample_review[start_index - len(sample_review): start_index + len(sample_review)]\n",
    "            sample_reviews.append(sample_text)\n",
    "    return sample_reviews"
   ]
  },
  {
   "cell_type": "code",
   "execution_count": 16,
   "metadata": {},
   "outputs": [],
   "source": [
    "Bose['Featured_reviews'] = Bose['ID'].apply(lambda x: sample_reviews(x))"
   ]
  },
  {
   "cell_type": "code",
   "execution_count": null,
   "metadata": {
    "scrolled": true
   },
   "outputs": [],
   "source": [
    "Bose['Featured_reviews']"
   ]
  },
  {
   "cell_type": "code",
   "execution_count": 18,
   "metadata": {},
   "outputs": [],
   "source": [
    "def filter_reviews(x):\n",
    "    features = ['noise_cancellation', 'battery_life', 'sound_quality', 'noise_canceling']\n",
    "    for word in x:\n",
    "        if any(feature in word for feature in features):\n",
    "            return 'Yes'"
   ]
  },
  {
   "cell_type": "code",
   "execution_count": 19,
   "metadata": {},
   "outputs": [],
   "source": [
    "Bose['Featured_Class'] = Bose['Featured_reviews'].apply(lambda x : filter_reviews(x))"
   ]
  },
  {
   "cell_type": "code",
   "execution_count": 20,
   "metadata": {},
   "outputs": [],
   "source": [
    "Bose['Featured_Class'] = Bose['Featured_Class'].replace('None',np.nan)"
   ]
  },
  {
   "cell_type": "code",
   "execution_count": 21,
   "metadata": {},
   "outputs": [],
   "source": [
    "df = Bose.dropna()"
   ]
  },
  {
   "cell_type": "code",
   "execution_count": 22,
   "metadata": {},
   "outputs": [],
   "source": [
    "df = df.loc[:,['ID','Ratings','Reviews']]"
   ]
  },
  {
   "cell_type": "code",
   "execution_count": 23,
   "metadata": {},
   "outputs": [
    {
     "name": "stdout",
     "output_type": "stream",
     "text": [
      "[nltk_data] Downloading package vader_lexicon to\n",
      "[nltk_data]     C:\\Users\\Shivi\\AppData\\Roaming\\nltk_data...\n",
      "[nltk_data]   Package vader_lexicon is already up-to-date!\n"
     ]
    },
    {
     "data": {
      "text/plain": [
       "True"
      ]
     },
     "execution_count": 23,
     "metadata": {},
     "output_type": "execute_result"
    }
   ],
   "source": [
    "import nltk\n",
    "nltk.download('vader_lexicon')"
   ]
  },
  {
   "cell_type": "code",
   "execution_count": 24,
   "metadata": {},
   "outputs": [
    {
     "name": "stderr",
     "output_type": "stream",
     "text": [
      "C:\\Users\\Shivi\\Anaconda3\\envs\\MachineLearning\\lib\\site-packages\\nltk\\twitter\\__init__.py:20: UserWarning: The twython library has not been installed. Some functionality from the twitter package will not be available.\n",
      "  warnings.warn(\"The twython library has not been installed. \"\n"
     ]
    }
   ],
   "source": [
    "from nltk.sentiment.vader import SentimentIntensityAnalyzer\n",
    "analyser = SentimentIntensityAnalyzer()"
   ]
  },
  {
   "cell_type": "code",
   "execution_count": 25,
   "metadata": {},
   "outputs": [],
   "source": [
    "def review_sentiment(string):\n",
    "    sent = analyser.polarity_scores(string)\n",
    "    return sent"
   ]
  },
  {
   "cell_type": "code",
   "execution_count": 26,
   "metadata": {},
   "outputs": [],
   "source": [
    "df['Sentiments'] = df['Reviews'].apply(lambda x: review_sentiment(x))"
   ]
  },
  {
   "cell_type": "code",
   "execution_count": 27,
   "metadata": {},
   "outputs": [],
   "source": [
    "df = pd.concat([df.drop(['Sentiments'], axis=1), df['Sentiments'].apply(pd.Series)], axis=1)"
   ]
  },
  {
   "cell_type": "code",
   "execution_count": 28,
   "metadata": {},
   "outputs": [
    {
     "name": "stdout",
     "output_type": "stream",
     "text": [
      "29.678\n",
      "84.773\n",
      "407.551\n"
     ]
    }
   ],
   "source": [
    "negativity = df['neg'].sum()\n",
    "print(negativity)\n",
    "positivity = df['pos'].sum()\n",
    "print(positivity)\n",
    "nuetrality = df['neu'].sum()\n",
    "print(nuetrality)"
   ]
  },
  {
   "cell_type": "code",
   "execution_count": null,
   "metadata": {},
   "outputs": [],
   "source": []
  }
 ],
 "metadata": {
  "kernelspec": {
   "display_name": "Python 3",
   "language": "python",
   "name": "python3"
  },
  "language_info": {
   "codemirror_mode": {
    "name": "ipython",
    "version": 3
   },
   "file_extension": ".py",
   "mimetype": "text/x-python",
   "name": "python",
   "nbconvert_exporter": "python",
   "pygments_lexer": "ipython3",
   "version": "3.6.5"
  }
 },
 "nbformat": 4,
 "nbformat_minor": 2
}
