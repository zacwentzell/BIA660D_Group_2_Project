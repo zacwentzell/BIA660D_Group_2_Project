{
 "cells": [
  {
   "cell_type": "code",
   "execution_count": 69,
   "metadata": {},
   "outputs": [],
   "source": [
    "import numpy as np\n",
    "import pandas as pd\n",
    "import os\n",
    "import glob"
   ]
  },
  {
   "cell_type": "code",
   "execution_count": 70,
   "metadata": {},
   "outputs": [],
   "source": [
    "# initialize file folder and series to contain reviews/ ratings inside each file\n",
    "akg_path = \"data_gathering/AKG data folder\"\n",
    "akg_files = glob.glob(os.path.join(akg_path, \"*.csv\"))\n",
    "dataframe = pd.DataFrame()\n",
    "akg_reviews_series = pd.Series()\n",
    "akg_rating_series = pd.Series()\n",
    "for file_ in akg_files:\n",
    "    df = pd.read_csv(file_, header=0)\n",
    "    akg_reviews_series = pd.concat([akg_reviews_series,df['Review Contents']], axis=0)\n",
    "    akg_rating_series = pd.concat([akg_rating_series,df['Score']], axis=0)\n",
    "# assign series to dataframe\n",
    "dataframe = dataframe.assign(Reviews=akg_reviews_series.values)\n",
    "dataframe = dataframe.assign(Ratings=akg_rating_series.values)"
   ]
  },
  {
   "cell_type": "code",
   "execution_count": 71,
   "metadata": {},
   "outputs": [
    {
     "data": {
      "text/plain": [
       "(360, 2)"
      ]
     },
     "execution_count": 71,
     "metadata": {},
     "output_type": "execute_result"
    }
   ],
   "source": [
    "dataframe.shape"
   ]
  },
  {
   "cell_type": "code",
   "execution_count": 72,
   "metadata": {},
   "outputs": [
    {
     "data": {
      "text/html": [
       "<div>\n",
       "<style scoped>\n",
       "    .dataframe tbody tr th:only-of-type {\n",
       "        vertical-align: middle;\n",
       "    }\n",
       "\n",
       "    .dataframe tbody tr th {\n",
       "        vertical-align: top;\n",
       "    }\n",
       "\n",
       "    .dataframe thead th {\n",
       "        text-align: right;\n",
       "    }\n",
       "</style>\n",
       "<table border=\"1\" class=\"dataframe\">\n",
       "  <thead>\n",
       "    <tr style=\"text-align: right;\">\n",
       "      <th></th>\n",
       "      <th>Reviews</th>\n",
       "      <th>Ratings</th>\n",
       "    </tr>\n",
       "  </thead>\n",
       "  <tbody>\n",
       "    <tr>\n",
       "      <th>0</th>\n",
       "      <td>Cans sound fine, but the AKG branded audio cab...</td>\n",
       "      <td>1.0 out of 5 stars</td>\n",
       "    </tr>\n",
       "    <tr>\n",
       "      <th>1</th>\n",
       "      <td>I bought these for my Futaba Sakura cosplay, b...</td>\n",
       "      <td>5.0 out of 5 stars</td>\n",
       "    </tr>\n",
       "    <tr>\n",
       "      <th>2</th>\n",
       "      <td>Holy cow, what a set of cans. These are some n...</td>\n",
       "      <td>5.0 out of 5 stars</td>\n",
       "    </tr>\n",
       "    <tr>\n",
       "      <th>3</th>\n",
       "      <td>Love this headphone but the left side is loude...</td>\n",
       "      <td>1.0 out of 5 stars</td>\n",
       "    </tr>\n",
       "    <tr>\n",
       "      <th>4</th>\n",
       "      <td>Sound leakage - nil/mildSound Isolation - Epic...</td>\n",
       "      <td>5.0 out of 5 stars</td>\n",
       "    </tr>\n",
       "  </tbody>\n",
       "</table>\n",
       "</div>"
      ],
      "text/plain": [
       "                                             Reviews             Ratings\n",
       "0  Cans sound fine, but the AKG branded audio cab...  1.0 out of 5 stars\n",
       "1  I bought these for my Futaba Sakura cosplay, b...  5.0 out of 5 stars\n",
       "2  Holy cow, what a set of cans. These are some n...  5.0 out of 5 stars\n",
       "3  Love this headphone but the left side is loude...  1.0 out of 5 stars\n",
       "4  Sound leakage - nil/mildSound Isolation - Epic...  5.0 out of 5 stars"
      ]
     },
     "execution_count": 72,
     "metadata": {},
     "output_type": "execute_result"
    }
   ],
   "source": [
    "dataframe.head()"
   ]
  },
  {
   "cell_type": "code",
   "execution_count": 73,
   "metadata": {},
   "outputs": [],
   "source": [
    "Sennheiser_path = \"data_gathering/Sennheiser+Mpow data folder/Mpow data\"\n",
    "Sennheiser_files = glob.glob(os.path.join(Sennheiser_path, \"*.csv\"))\n",
    "Sennheiser_reviews_series = pd.Series()\n",
    "Sennheiser_rating_series = pd.Series()\n",
    "for file_ in Sennheiser_files:\n",
    "    df = pd.read_csv(file_, header=0)\n",
    "    Sennheiser_reviews_series = pd.concat([Sennheiser_reviews_series,df['Review Contents']], axis=0)\n",
    "    Sennheiser_rating_series = pd.concat([Sennheiser_rating_series,df['Score']], axis=0)\n",
    "# append series to existing series columnwise\n",
    "Sennheiser_dataframe = pd.DataFrame({'Reviews': Sennheiser_reviews_series, 'Ratings': Sennheiser_rating_series})"
   ]
  },
  {
   "cell_type": "code",
   "execution_count": 74,
   "metadata": {
    "scrolled": true
   },
   "outputs": [],
   "source": [
    "dataframe = dataframe.append(Sennheiser_dataframe,ignore_index=True)"
   ]
  },
  {
   "cell_type": "code",
   "execution_count": 75,
   "metadata": {},
   "outputs": [],
   "source": [
    "Otium_path = \"data_gathering/Scrapped_Data/Otium\"\n",
    "Otium_files = glob.glob(os.path.join(Otium_path, \"*.csv\"))\n",
    "Otium_reviews_series = pd.Series()\n",
    "Otium_rating_series = pd.Series()\n",
    "for file_ in Otium_files:\n",
    "    df = pd.read_csv(file_, header=0)\n",
    "    Otium_reviews_series = pd.concat([Otium_reviews_series,df['Reviews']], axis=0)\n",
    "    Otium_rating_series = pd.concat([Otium_rating_series,df['Ratings']], axis=0)\n",
    "Otium_dataframe = pd.DataFrame({'Reviews': Otium_reviews_series, 'Ratings': Otium_rating_series})"
   ]
  },
  {
   "cell_type": "code",
   "execution_count": 76,
   "metadata": {},
   "outputs": [
    {
     "data": {
      "text/plain": [
       "(35040, 2)"
      ]
     },
     "execution_count": 76,
     "metadata": {},
     "output_type": "execute_result"
    }
   ],
   "source": [
    "dataframe = dataframe.append(Otium_dataframe,ignore_index=True)\n",
    "dataframe.shape"
   ]
  },
  {
   "cell_type": "code",
   "execution_count": 77,
   "metadata": {},
   "outputs": [],
   "source": [
    "Shure_path = \"data_gathering/Scrapped_Data/Shure\"\n",
    "Shure_files = glob.glob(os.path.join(Shure_path, \"*.csv\"))\n",
    "Shure_reviews_series = pd.Series()\n",
    "Shure_rating_series = pd.Series()\n",
    "for file_ in Shure_files:\n",
    "    df = pd.read_csv(file_, header=0)\n",
    "    Shure_reviews_series = pd.concat([Shure_reviews_series,df['Reviews']], axis=0)\n",
    "    Shure_rating_series = pd.concat([Shure_rating_series,df['Ratings']], axis=0)\n",
    "Shure_dataframe = pd.DataFrame({'Reviews': Shure_reviews_series, 'Ratings': Shure_rating_series})"
   ]
  },
  {
   "cell_type": "code",
   "execution_count": 78,
   "metadata": {},
   "outputs": [
    {
     "data": {
      "text/plain": [
       "(40233, 2)"
      ]
     },
     "execution_count": 78,
     "metadata": {},
     "output_type": "execute_result"
    }
   ],
   "source": [
    "dataframe = dataframe.append(Shure_dataframe,ignore_index=True)\n",
    "dataframe.shape"
   ]
  },
  {
   "cell_type": "code",
   "execution_count": 79,
   "metadata": {},
   "outputs": [],
   "source": [
    "Ailhen_path = \"data_gathering/Scrapped_Data/AILHEN\"\n",
    "Ailhen_files = glob.glob(os.path.join(Ailhen_path, \"*.csv\"))\n",
    "Ailhen_reviews_series = pd.Series()\n",
    "Ailhen_rating_series = pd.Series()\n",
    "for file_ in Ailhen_files:\n",
    "    df = pd.read_csv(file_, header=0)\n",
    "    Ailhen_reviews_series = pd.concat([Ailhen_reviews_series,df['Reviews']], axis=0)\n",
    "    Ailhen_rating_series = pd.concat([Ailhen_rating_series,df['Ratings']], axis=0)\n",
    "Ailhen_dataframe = pd.DataFrame({'Reviews': Ailhen_reviews_series, 'Ratings': Ailhen_rating_series})"
   ]
  },
  {
   "cell_type": "code",
   "execution_count": 80,
   "metadata": {},
   "outputs": [
    {
     "data": {
      "text/plain": [
       "(48039, 2)"
      ]
     },
     "execution_count": 80,
     "metadata": {},
     "output_type": "execute_result"
    }
   ],
   "source": [
    "dataframe = dataframe.append(Ailhen_dataframe,ignore_index=True)\n",
    "dataframe.shape"
   ]
  },
  {
   "cell_type": "code",
   "execution_count": 81,
   "metadata": {},
   "outputs": [],
   "source": [
    "sony_path = \"data_gathering/Scrapped_Data/sony\"\n",
    "sony_files = glob.glob(os.path.join(sony_path, \"*.csv\"))\n",
    "sony_reviews_series = pd.Series()\n",
    "sony_rating_series = pd.Series()\n",
    "for file_ in sony_files:\n",
    "    df = pd.read_csv(file_, header=0)\n",
    "    sony_reviews_series = pd.concat([sony_reviews_series,df['Reviews']], axis=0)\n",
    "    sony_rating_series = pd.concat([sony_rating_series,df['Ratings']], axis=0)\n",
    "sony_dataframe = pd.DataFrame({'Reviews': sony_reviews_series, 'Ratings': sony_rating_series})"
   ]
  },
  {
   "cell_type": "code",
   "execution_count": 82,
   "metadata": {},
   "outputs": [
    {
     "data": {
      "text/plain": [
       "(54276, 2)"
      ]
     },
     "execution_count": 82,
     "metadata": {},
     "output_type": "execute_result"
    }
   ],
   "source": [
    "dataframe = dataframe.append(sony_dataframe,ignore_index=True)\n",
    "dataframe.shape"
   ]
  },
  {
   "cell_type": "code",
   "execution_count": null,
   "metadata": {},
   "outputs": [],
   "source": [
    "Panasonic_path = \"data_gathering/Scrapped_Data/Panasonic\"\n",
    "Panasonic_files = glob.glob(os.path.join(sony_path, \"*.csv\"))\n",
    "Panasonic_reviews_series = pd.Series()\n",
    "Panasonic_rating_series = pd.Series()\n",
    "for file_ in sony_files:\n",
    "    df = pd.read_csv(file_, header=0)\n",
    "    sony_reviews_series = pd.concat([Panasonic_reviews_series,df['Reviews']], axis=0)\n",
    "    sony_rating_series = pd.concat([Panasonic_rating_series,df['Ratings']], axis=0)\n",
    "sony_dataframe = pd.DataFrame({'Reviews': sony_reviews_series, 'Ratings': sony_rating_series})"
   ]
  },
  {
   "cell_type": "code",
   "execution_count": null,
   "metadata": {},
   "outputs": [],
   "source": []
  },
  {
   "cell_type": "code",
   "execution_count": 15,
   "metadata": {},
   "outputs": [],
   "source": [
    "#dataframe.to_csv('All_Data')"
   ]
  },
  {
   "cell_type": "code",
   "execution_count": 83,
   "metadata": {},
   "outputs": [],
   "source": [
    "BoseAudio_path = \"data_gathering/New_Bose_Audio-Technica\"\n",
    "BoseAudio_files = glob.glob(os.path.join(BoseAudio_path, \"*.pickle\"))\n",
    "#review_list = []\n",
    "#rating_list = []\n",
    "#file_list = []\n",
    "#BoseAudio_reviews_series = pd.Series()\n",
    "#BoseAudio_rating_series = pd.Series()\n",
    "#len_review = 0\n",
    "#len_rating = 0\n",
    "for file_ in BoseAudio_files:\n",
    "    df = pd.read_pickle(file_)   \n",
    "    file_list.append(df)\n",
    "    #len_review += len(df['reviews'])\n",
    "    #len_rating += len(df['ratings'])\n",
    "    #review_list += df['reviews']\n",
    "    #rating_list += df['ratings']\n",
    "    #BoseAudio_reviews_series = pd.concat([BoseAudio_reviews_series,df['reviews']], axis=0)\n",
    "    #BoseAudio_rating_series = pd.concat([BoseAudio_rating_series,df['ratings']], axis=0)\n",
    "#BoseAudio_dataframe = pd.DataFrame({'Reviews': BoseAudio_reviews_series, 'Ratings': BoseAudio_rating_series})\n",
    "#print(file_list[0])"
   ]
  },
  {
   "cell_type": "code",
   "execution_count": 84,
   "metadata": {},
   "outputs": [],
   "source": [
    "getValues = lambda key,inputData: [subVal[key] for subVal in inputData if key in subVal]\n",
    "\n",
    "Ratings = getValues('ratings', file_list)\n",
    "Reviews = getValues('reviews', file_list)\n",
    "\n",
    "flat_ratings = []\n",
    "for Rating in Ratings:\n",
    "    for rates in Rating:\n",
    "        flat_ratings.append(rates)\n",
    "\n",
    "flat_reviews = []\n",
    "for Review in Reviews:\n",
    "    for review in Review:\n",
    "        flat_reviews.append(review)\n",
    "        \n",
    "#print(len(flat_ratings))\n",
    "#print(len(flat_reviews))\n",
    "\n",
    "BoseAudio_reviews_series = pd.DataFrame({'Reviews': flat_reviews})\n",
    "BoseAudio_rating_series = pd.DataFrame({'Ratings': flat_ratings})\n",
    "BoseAudio_dataframe = pd.concat([BoseAudio_reviews_series,BoseAudio_rating_series], ignore_index=True, axis = 1)"
   ]
  },
  {
   "cell_type": "code",
   "execution_count": 87,
   "metadata": {
    "scrolled": true
   },
   "outputs": [
    {
     "data": {
      "text/plain": [
       "(4232, 2)"
      ]
     },
     "execution_count": 87,
     "metadata": {},
     "output_type": "execute_result"
    }
   ],
   "source": [
    "BoseAudio_dataframe.dropna(subset=[0], inplace=True)\n",
    "BoseAudio_dataframe.shape"
   ]
  },
  {
   "cell_type": "code",
   "execution_count": 88,
   "metadata": {},
   "outputs": [
    {
     "data": {
      "text/plain": [
       "(58508, 4)"
      ]
     },
     "execution_count": 88,
     "metadata": {},
     "output_type": "execute_result"
    }
   ],
   "source": [
    "dataframe = dataframe.append(BoseAudio_dataframe,ignore_index=True)\n",
    "dataframe.shape"
   ]
  },
  {
   "cell_type": "code",
   "execution_count": 89,
   "metadata": {},
   "outputs": [],
   "source": [
    "dataframe.to_csv('All_Data')"
   ]
  },
  {
   "cell_type": "code",
   "execution_count": null,
   "metadata": {},
   "outputs": [],
   "source": []
  }
 ],
 "metadata": {
  "kernelspec": {
   "display_name": "Python 3",
   "language": "python",
   "name": "python3"
  },
  "language_info": {
   "codemirror_mode": {
    "name": "ipython",
    "version": 3
   },
   "file_extension": ".py",
   "mimetype": "text/x-python",
   "name": "python",
   "nbconvert_exporter": "python",
   "pygments_lexer": "ipython3",
   "version": "3.6.5"
  }
 },
 "nbformat": 4,
 "nbformat_minor": 2
}
