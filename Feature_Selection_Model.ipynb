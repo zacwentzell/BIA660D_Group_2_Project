{
 "cells": [
  {
   "cell_type": "raw",
   "metadata": {},
   "source": [
    "This is a poject to extract collocations in the text\n",
    "Here is the list of all the packages for text mining"
   ]
  },
  {
   "cell_type": "code",
   "execution_count": 1,
   "metadata": {
    "collapsed": true
   },
   "outputs": [],
   "source": [
    "\"\"\"Here is the first package that \"\"\"\n",
    "import spacy\n",
    "\n",
    "nlp = spacy.load('en')"
   ]
  },
  {
   "cell_type": "code",
   "execution_count": 4,
   "metadata": {},
   "outputs": [
    {
     "data": {
      "text/plain": [
       "Joe likes Mary."
      ]
     },
     "execution_count": 4,
     "metadata": {},
     "output_type": "execute_result"
    }
   ],
   "source": [
    "sent ='Joe likes Mary.'\n",
    "doc = nlp(sent)\n",
    "doc"
   ]
  },
  {
   "cell_type": "code",
   "execution_count": 5,
   "metadata": {
    "collapsed": true
   },
   "outputs": [],
   "source": [
    "from spacy import displacy"
   ]
  },
  {
   "cell_type": "code",
   "execution_count": 6,
   "metadata": {},
   "outputs": [
    {
     "data": {
      "text/html": [
       "<svg xmlns=\"http://www.w3.org/2000/svg\" xmlns:xlink=\"http://www.w3.org/1999/xlink\" id=\"0\" class=\"displacy\" width=\"575\" height=\"224.5\" style=\"max-width: none; height: 224.5px; color: #000000; background: #ffffff; font-family: Arial\">\n",
       "<text class=\"displacy-token\" fill=\"currentColor\" text-anchor=\"middle\" y=\"134.5\">\n",
       "    <tspan class=\"displacy-word\" fill=\"currentColor\" x=\"50\">Joe</tspan>\n",
       "    <tspan class=\"displacy-tag\" dy=\"2em\" fill=\"currentColor\" x=\"50\">PROPN</tspan>\n",
       "</text>\n",
       "\n",
       "<text class=\"displacy-token\" fill=\"currentColor\" text-anchor=\"middle\" y=\"134.5\">\n",
       "    <tspan class=\"displacy-word\" fill=\"currentColor\" x=\"225\">likes</tspan>\n",
       "    <tspan class=\"displacy-tag\" dy=\"2em\" fill=\"currentColor\" x=\"225\">VERB</tspan>\n",
       "</text>\n",
       "\n",
       "<text class=\"displacy-token\" fill=\"currentColor\" text-anchor=\"middle\" y=\"134.5\">\n",
       "    <tspan class=\"displacy-word\" fill=\"currentColor\" x=\"400\">Mary.</tspan>\n",
       "    <tspan class=\"displacy-tag\" dy=\"2em\" fill=\"currentColor\" x=\"400\">PROPN</tspan>\n",
       "</text>\n",
       "\n",
       "<g class=\"displacy-arrow\">\n",
       "    <path class=\"displacy-arc\" id=\"arrow-0-0\" stroke-width=\"2px\" d=\"M70,89.5 C70,2.0 225.0,2.0 225.0,89.5\" fill=\"none\" stroke=\"currentColor\"/>\n",
       "    <text dy=\"1.25em\" style=\"font-size: 0.8em; letter-spacing: 1px\">\n",
       "        <textPath xlink:href=\"#arrow-0-0\" class=\"displacy-label\" startOffset=\"50%\" fill=\"currentColor\" text-anchor=\"middle\">nsubj</textPath>\n",
       "    </text>\n",
       "    <path class=\"displacy-arrowhead\" d=\"M70,91.5 L62,79.5 78,79.5\" fill=\"currentColor\"/>\n",
       "</g>\n",
       "\n",
       "<g class=\"displacy-arrow\">\n",
       "    <path class=\"displacy-arc\" id=\"arrow-0-1\" stroke-width=\"2px\" d=\"M245,89.5 C245,2.0 400.0,2.0 400.0,89.5\" fill=\"none\" stroke=\"currentColor\"/>\n",
       "    <text dy=\"1.25em\" style=\"font-size: 0.8em; letter-spacing: 1px\">\n",
       "        <textPath xlink:href=\"#arrow-0-1\" class=\"displacy-label\" startOffset=\"50%\" fill=\"currentColor\" text-anchor=\"middle\">dobj</textPath>\n",
       "    </text>\n",
       "    <path class=\"displacy-arrowhead\" d=\"M400.0,91.5 L408.0,79.5 392.0,79.5\" fill=\"currentColor\"/>\n",
       "</g>\n",
       "</svg>"
      ],
      "text/plain": [
       "<IPython.core.display.HTML object>"
      ]
     },
     "metadata": {},
     "output_type": "display_data"
    }
   ],
   "source": [
    "displacy.render(doc, style='dep', jupyter=True)"
   ]
  },
  {
   "cell_type": "code",
   "execution_count": 31,
   "metadata": {},
   "outputs": [
    {
     "data": {
      "text/html": [
       "<svg xmlns=\"http://www.w3.org/2000/svg\" xmlns:xlink=\"http://www.w3.org/1999/xlink\" id=\"0\" class=\"displacy\" width=\"7750\" height=\"1099.5\" style=\"max-width: none; height: 1099.5px; color: #000000; background: #ffffff; font-family: Arial\">\n",
       "<text class=\"displacy-token\" fill=\"currentColor\" text-anchor=\"middle\" y=\"1009.5\">\n",
       "    <tspan class=\"displacy-word\" fill=\"currentColor\" x=\"50\">I</tspan>\n",
       "    <tspan class=\"displacy-tag\" dy=\"2em\" fill=\"currentColor\" x=\"50\">PRON</tspan>\n",
       "</text>\n",
       "\n",
       "<text class=\"displacy-token\" fill=\"currentColor\" text-anchor=\"middle\" y=\"1009.5\">\n",
       "    <tspan class=\"displacy-word\" fill=\"currentColor\" x=\"225\">'ve</tspan>\n",
       "    <tspan class=\"displacy-tag\" dy=\"2em\" fill=\"currentColor\" x=\"225\">VERB</tspan>\n",
       "</text>\n",
       "\n",
       "<text class=\"displacy-token\" fill=\"currentColor\" text-anchor=\"middle\" y=\"1009.5\">\n",
       "    <tspan class=\"displacy-word\" fill=\"currentColor\" x=\"400\">actually</tspan>\n",
       "    <tspan class=\"displacy-tag\" dy=\"2em\" fill=\"currentColor\" x=\"400\">ADV</tspan>\n",
       "</text>\n",
       "\n",
       "<text class=\"displacy-token\" fill=\"currentColor\" text-anchor=\"middle\" y=\"1009.5\">\n",
       "    <tspan class=\"displacy-word\" fill=\"currentColor\" x=\"575\">bought</tspan>\n",
       "    <tspan class=\"displacy-tag\" dy=\"2em\" fill=\"currentColor\" x=\"575\">VERB</tspan>\n",
       "</text>\n",
       "\n",
       "<text class=\"displacy-token\" fill=\"currentColor\" text-anchor=\"middle\" y=\"1009.5\">\n",
       "    <tspan class=\"displacy-word\" fill=\"currentColor\" x=\"750\">many</tspan>\n",
       "    <tspan class=\"displacy-tag\" dy=\"2em\" fill=\"currentColor\" x=\"750\">ADJ</tspan>\n",
       "</text>\n",
       "\n",
       "<text class=\"displacy-token\" fill=\"currentColor\" text-anchor=\"middle\" y=\"1009.5\">\n",
       "    <tspan class=\"displacy-word\" fill=\"currentColor\" x=\"925\">pairs</tspan>\n",
       "    <tspan class=\"displacy-tag\" dy=\"2em\" fill=\"currentColor\" x=\"925\">NOUN</tspan>\n",
       "</text>\n",
       "\n",
       "<text class=\"displacy-token\" fill=\"currentColor\" text-anchor=\"middle\" y=\"1009.5\">\n",
       "    <tspan class=\"displacy-word\" fill=\"currentColor\" x=\"1100\">of (</tspan>\n",
       "    <tspan class=\"displacy-tag\" dy=\"2em\" fill=\"currentColor\" x=\"1100\">ADP</tspan>\n",
       "</text>\n",
       "\n",
       "<text class=\"displacy-token\" fill=\"currentColor\" text-anchor=\"middle\" y=\"1009.5\">\n",
       "    <tspan class=\"displacy-word\" fill=\"currentColor\" x=\"1275\">Sony</tspan>\n",
       "    <tspan class=\"displacy-tag\" dy=\"2em\" fill=\"currentColor\" x=\"1275\">PROPN</tspan>\n",
       "</text>\n",
       "\n",
       "<text class=\"displacy-token\" fill=\"currentColor\" text-anchor=\"middle\" y=\"1009.5\">\n",
       "    <tspan class=\"displacy-word\" fill=\"currentColor\" x=\"1450\">or</tspan>\n",
       "    <tspan class=\"displacy-tag\" dy=\"2em\" fill=\"currentColor\" x=\"1450\">CCONJ</tspan>\n",
       "</text>\n",
       "\n",
       "<text class=\"displacy-token\" fill=\"currentColor\" text-anchor=\"middle\" y=\"1009.5\">\n",
       "    <tspan class=\"displacy-word\" fill=\"currentColor\" x=\"1625\">Panasonic)</tspan>\n",
       "    <tspan class=\"displacy-tag\" dy=\"2em\" fill=\"currentColor\" x=\"1625\">PROPN</tspan>\n",
       "</text>\n",
       "\n",
       "<text class=\"displacy-token\" fill=\"currentColor\" text-anchor=\"middle\" y=\"1009.5\">\n",
       "    <tspan class=\"displacy-word\" fill=\"currentColor\" x=\"1800\">these</tspan>\n",
       "    <tspan class=\"displacy-tag\" dy=\"2em\" fill=\"currentColor\" x=\"1800\">DET</tspan>\n",
       "</text>\n",
       "\n",
       "<text class=\"displacy-token\" fill=\"currentColor\" text-anchor=\"middle\" y=\"1009.5\">\n",
       "    <tspan class=\"displacy-word\" fill=\"currentColor\" x=\"1975\">headphones</tspan>\n",
       "    <tspan class=\"displacy-tag\" dy=\"2em\" fill=\"currentColor\" x=\"1975\">NOUN</tspan>\n",
       "</text>\n",
       "\n",
       "<text class=\"displacy-token\" fill=\"currentColor\" text-anchor=\"middle\" y=\"1009.5\">\n",
       "    <tspan class=\"displacy-word\" fill=\"currentColor\" x=\"2150\">for</tspan>\n",
       "    <tspan class=\"displacy-tag\" dy=\"2em\" fill=\"currentColor\" x=\"2150\">ADP</tspan>\n",
       "</text>\n",
       "\n",
       "<text class=\"displacy-token\" fill=\"currentColor\" text-anchor=\"middle\" y=\"1009.5\">\n",
       "    <tspan class=\"displacy-word\" fill=\"currentColor\" x=\"2325\">myself</tspan>\n",
       "    <tspan class=\"displacy-tag\" dy=\"2em\" fill=\"currentColor\" x=\"2325\">PRON</tspan>\n",
       "</text>\n",
       "\n",
       "<text class=\"displacy-token\" fill=\"currentColor\" text-anchor=\"middle\" y=\"1009.5\">\n",
       "    <tspan class=\"displacy-word\" fill=\"currentColor\" x=\"2500\">and</tspan>\n",
       "    <tspan class=\"displacy-tag\" dy=\"2em\" fill=\"currentColor\" x=\"2500\">CCONJ</tspan>\n",
       "</text>\n",
       "\n",
       "<text class=\"displacy-token\" fill=\"currentColor\" text-anchor=\"middle\" y=\"1009.5\">\n",
       "    <tspan class=\"displacy-word\" fill=\"currentColor\" x=\"2675\">others,</tspan>\n",
       "    <tspan class=\"displacy-tag\" dy=\"2em\" fill=\"currentColor\" x=\"2675\">NOUN</tspan>\n",
       "</text>\n",
       "\n",
       "<text class=\"displacy-token\" fill=\"currentColor\" text-anchor=\"middle\" y=\"1009.5\">\n",
       "    <tspan class=\"displacy-word\" fill=\"currentColor\" x=\"2850\">and</tspan>\n",
       "    <tspan class=\"displacy-tag\" dy=\"2em\" fill=\"currentColor\" x=\"2850\">CCONJ</tspan>\n",
       "</text>\n",
       "\n",
       "<text class=\"displacy-token\" fill=\"currentColor\" text-anchor=\"middle\" y=\"1009.5\">\n",
       "    <tspan class=\"displacy-word\" fill=\"currentColor\" x=\"3025\">all</tspan>\n",
       "    <tspan class=\"displacy-tag\" dy=\"2em\" fill=\"currentColor\" x=\"3025\">DET</tspan>\n",
       "</text>\n",
       "\n",
       "<text class=\"displacy-token\" fill=\"currentColor\" text-anchor=\"middle\" y=\"1009.5\">\n",
       "    <tspan class=\"displacy-word\" fill=\"currentColor\" x=\"3200\">have</tspan>\n",
       "    <tspan class=\"displacy-tag\" dy=\"2em\" fill=\"currentColor\" x=\"3200\">VERB</tspan>\n",
       "</text>\n",
       "\n",
       "<text class=\"displacy-token\" fill=\"currentColor\" text-anchor=\"middle\" y=\"1009.5\">\n",
       "    <tspan class=\"displacy-word\" fill=\"currentColor\" x=\"3375\">been</tspan>\n",
       "    <tspan class=\"displacy-tag\" dy=\"2em\" fill=\"currentColor\" x=\"3375\">VERB</tspan>\n",
       "</text>\n",
       "\n",
       "<text class=\"displacy-token\" fill=\"currentColor\" text-anchor=\"middle\" y=\"1009.5\">\n",
       "    <tspan class=\"displacy-word\" fill=\"currentColor\" x=\"3550\">of</tspan>\n",
       "    <tspan class=\"displacy-tag\" dy=\"2em\" fill=\"currentColor\" x=\"3550\">ADP</tspan>\n",
       "</text>\n",
       "\n",
       "<text class=\"displacy-token\" fill=\"currentColor\" text-anchor=\"middle\" y=\"1009.5\">\n",
       "    <tspan class=\"displacy-word\" fill=\"currentColor\" x=\"3725\">very</tspan>\n",
       "    <tspan class=\"displacy-tag\" dy=\"2em\" fill=\"currentColor\" x=\"3725\">ADV</tspan>\n",
       "</text>\n",
       "\n",
       "<text class=\"displacy-token\" fill=\"currentColor\" text-anchor=\"middle\" y=\"1009.5\">\n",
       "    <tspan class=\"displacy-word\" fill=\"currentColor\" x=\"3900\">high</tspan>\n",
       "    <tspan class=\"displacy-tag\" dy=\"2em\" fill=\"currentColor\" x=\"3900\">ADJ</tspan>\n",
       "</text>\n",
       "\n",
       "<text class=\"displacy-token\" fill=\"currentColor\" text-anchor=\"middle\" y=\"1009.5\">\n",
       "    <tspan class=\"displacy-word\" fill=\"currentColor\" x=\"4075\">initial</tspan>\n",
       "    <tspan class=\"displacy-tag\" dy=\"2em\" fill=\"currentColor\" x=\"4075\">ADJ</tspan>\n",
       "</text>\n",
       "\n",
       "<text class=\"displacy-token\" fill=\"currentColor\" text-anchor=\"middle\" y=\"1009.5\">\n",
       "    <tspan class=\"displacy-word\" fill=\"currentColor\" x=\"4250\">quality,</tspan>\n",
       "    <tspan class=\"displacy-tag\" dy=\"2em\" fill=\"currentColor\" x=\"4250\">NOUN</tspan>\n",
       "</text>\n",
       "\n",
       "<text class=\"displacy-token\" fill=\"currentColor\" text-anchor=\"middle\" y=\"1009.5\">\n",
       "    <tspan class=\"displacy-word\" fill=\"currentColor\" x=\"4425\">and</tspan>\n",
       "    <tspan class=\"displacy-tag\" dy=\"2em\" fill=\"currentColor\" x=\"4425\">CCONJ</tspan>\n",
       "</text>\n",
       "\n",
       "<text class=\"displacy-token\" fill=\"currentColor\" text-anchor=\"middle\" y=\"1009.5\">\n",
       "    <tspan class=\"displacy-word\" fill=\"currentColor\" x=\"4600\">of</tspan>\n",
       "    <tspan class=\"displacy-tag\" dy=\"2em\" fill=\"currentColor\" x=\"4600\">ADP</tspan>\n",
       "</text>\n",
       "\n",
       "<text class=\"displacy-token\" fill=\"currentColor\" text-anchor=\"middle\" y=\"1009.5\">\n",
       "    <tspan class=\"displacy-word\" fill=\"currentColor\" x=\"4775\">good</tspan>\n",
       "    <tspan class=\"displacy-tag\" dy=\"2em\" fill=\"currentColor\" x=\"4775\">ADJ</tspan>\n",
       "</text>\n",
       "\n",
       "<text class=\"displacy-token\" fill=\"currentColor\" text-anchor=\"middle\" y=\"1009.5\">\n",
       "    <tspan class=\"displacy-word\" fill=\"currentColor\" x=\"4950\">durability,</tspan>\n",
       "    <tspan class=\"displacy-tag\" dy=\"2em\" fill=\"currentColor\" x=\"4950\">NOUN</tspan>\n",
       "</text>\n",
       "\n",
       "<text class=\"displacy-token\" fill=\"currentColor\" text-anchor=\"middle\" y=\"1009.5\">\n",
       "    <tspan class=\"displacy-word\" fill=\"currentColor\" x=\"5125\">with</tspan>\n",
       "    <tspan class=\"displacy-tag\" dy=\"2em\" fill=\"currentColor\" x=\"5125\">ADP</tspan>\n",
       "</text>\n",
       "\n",
       "<text class=\"displacy-token\" fill=\"currentColor\" text-anchor=\"middle\" y=\"1009.5\">\n",
       "    <tspan class=\"displacy-word\" fill=\"currentColor\" x=\"5300\">the</tspan>\n",
       "    <tspan class=\"displacy-tag\" dy=\"2em\" fill=\"currentColor\" x=\"5300\">DET</tspan>\n",
       "</text>\n",
       "\n",
       "<text class=\"displacy-token\" fill=\"currentColor\" text-anchor=\"middle\" y=\"1009.5\">\n",
       "    <tspan class=\"displacy-word\" fill=\"currentColor\" x=\"5475\">price</tspan>\n",
       "    <tspan class=\"displacy-tag\" dy=\"2em\" fill=\"currentColor\" x=\"5475\">NOUN</tspan>\n",
       "</text>\n",
       "\n",
       "<text class=\"displacy-token\" fill=\"currentColor\" text-anchor=\"middle\" y=\"1009.5\">\n",
       "    <tspan class=\"displacy-word\" fill=\"currentColor\" x=\"5650\">ranging</tspan>\n",
       "    <tspan class=\"displacy-tag\" dy=\"2em\" fill=\"currentColor\" x=\"5650\">VERB</tspan>\n",
       "</text>\n",
       "\n",
       "<text class=\"displacy-token\" fill=\"currentColor\" text-anchor=\"middle\" y=\"1009.5\">\n",
       "    <tspan class=\"displacy-word\" fill=\"currentColor\" x=\"5825\">up</tspan>\n",
       "    <tspan class=\"displacy-tag\" dy=\"2em\" fill=\"currentColor\" x=\"5825\">ADP</tspan>\n",
       "</text>\n",
       "\n",
       "<text class=\"displacy-token\" fill=\"currentColor\" text-anchor=\"middle\" y=\"1009.5\">\n",
       "    <tspan class=\"displacy-word\" fill=\"currentColor\" x=\"6000\">to</tspan>\n",
       "    <tspan class=\"displacy-tag\" dy=\"2em\" fill=\"currentColor\" x=\"6000\">PART</tspan>\n",
       "</text>\n",
       "\n",
       "<text class=\"displacy-token\" fill=\"currentColor\" text-anchor=\"middle\" y=\"1009.5\">\n",
       "    <tspan class=\"displacy-word\" fill=\"currentColor\" x=\"6175\">$</tspan>\n",
       "    <tspan class=\"displacy-tag\" dy=\"2em\" fill=\"currentColor\" x=\"6175\">SYM</tspan>\n",
       "</text>\n",
       "\n",
       "<text class=\"displacy-token\" fill=\"currentColor\" text-anchor=\"middle\" y=\"1009.5\">\n",
       "    <tspan class=\"displacy-word\" fill=\"currentColor\" x=\"6350\">12</tspan>\n",
       "    <tspan class=\"displacy-tag\" dy=\"2em\" fill=\"currentColor\" x=\"6350\">NUM</tspan>\n",
       "</text>\n",
       "\n",
       "<text class=\"displacy-token\" fill=\"currentColor\" text-anchor=\"middle\" y=\"1009.5\">\n",
       "    <tspan class=\"displacy-word\" fill=\"currentColor\" x=\"6525\">and</tspan>\n",
       "    <tspan class=\"displacy-tag\" dy=\"2em\" fill=\"currentColor\" x=\"6525\">CCONJ</tspan>\n",
       "</text>\n",
       "\n",
       "<text class=\"displacy-token\" fill=\"currentColor\" text-anchor=\"middle\" y=\"1009.5\">\n",
       "    <tspan class=\"displacy-word\" fill=\"currentColor\" x=\"6700\">back</tspan>\n",
       "    <tspan class=\"displacy-tag\" dy=\"2em\" fill=\"currentColor\" x=\"6700\">VERB</tspan>\n",
       "</text>\n",
       "\n",
       "<text class=\"displacy-token\" fill=\"currentColor\" text-anchor=\"middle\" y=\"1009.5\">\n",
       "    <tspan class=\"displacy-word\" fill=\"currentColor\" x=\"6875\">down</tspan>\n",
       "    <tspan class=\"displacy-tag\" dy=\"2em\" fill=\"currentColor\" x=\"6875\">ADV</tspan>\n",
       "</text>\n",
       "\n",
       "<text class=\"displacy-token\" fill=\"currentColor\" text-anchor=\"middle\" y=\"1009.5\">\n",
       "    <tspan class=\"displacy-word\" fill=\"currentColor\" x=\"7050\">to</tspan>\n",
       "    <tspan class=\"displacy-tag\" dy=\"2em\" fill=\"currentColor\" x=\"7050\">ADP</tspan>\n",
       "</text>\n",
       "\n",
       "<text class=\"displacy-token\" fill=\"currentColor\" text-anchor=\"middle\" y=\"1009.5\">\n",
       "    <tspan class=\"displacy-word\" fill=\"currentColor\" x=\"7225\">around</tspan>\n",
       "    <tspan class=\"displacy-tag\" dy=\"2em\" fill=\"currentColor\" x=\"7225\">ADP</tspan>\n",
       "</text>\n",
       "\n",
       "<text class=\"displacy-token\" fill=\"currentColor\" text-anchor=\"middle\" y=\"1009.5\">\n",
       "    <tspan class=\"displacy-word\" fill=\"currentColor\" x=\"7400\">$</tspan>\n",
       "    <tspan class=\"displacy-tag\" dy=\"2em\" fill=\"currentColor\" x=\"7400\">SYM</tspan>\n",
       "</text>\n",
       "\n",
       "<text class=\"displacy-token\" fill=\"currentColor\" text-anchor=\"middle\" y=\"1009.5\">\n",
       "    <tspan class=\"displacy-word\" fill=\"currentColor\" x=\"7575\">7.</tspan>\n",
       "    <tspan class=\"displacy-tag\" dy=\"2em\" fill=\"currentColor\" x=\"7575\">NUM</tspan>\n",
       "</text>\n",
       "\n",
       "<g class=\"displacy-arrow\">\n",
       "    <path class=\"displacy-arc\" id=\"arrow-0-0\" stroke-width=\"2px\" d=\"M70,964.5 C70,702.0 535.0,702.0 535.0,964.5\" fill=\"none\" stroke=\"currentColor\"/>\n",
       "    <text dy=\"1.25em\" style=\"font-size: 0.8em; letter-spacing: 1px\">\n",
       "        <textPath xlink:href=\"#arrow-0-0\" class=\"displacy-label\" startOffset=\"50%\" fill=\"currentColor\" text-anchor=\"middle\">nsubj</textPath>\n",
       "    </text>\n",
       "    <path class=\"displacy-arrowhead\" d=\"M70,966.5 L62,954.5 78,954.5\" fill=\"currentColor\"/>\n",
       "</g>\n",
       "\n",
       "<g class=\"displacy-arrow\">\n",
       "    <path class=\"displacy-arc\" id=\"arrow-0-1\" stroke-width=\"2px\" d=\"M245,964.5 C245,789.5 530.0,789.5 530.0,964.5\" fill=\"none\" stroke=\"currentColor\"/>\n",
       "    <text dy=\"1.25em\" style=\"font-size: 0.8em; letter-spacing: 1px\">\n",
       "        <textPath xlink:href=\"#arrow-0-1\" class=\"displacy-label\" startOffset=\"50%\" fill=\"currentColor\" text-anchor=\"middle\">aux</textPath>\n",
       "    </text>\n",
       "    <path class=\"displacy-arrowhead\" d=\"M245,966.5 L237,954.5 253,954.5\" fill=\"currentColor\"/>\n",
       "</g>\n",
       "\n",
       "<g class=\"displacy-arrow\">\n",
       "    <path class=\"displacy-arc\" id=\"arrow-0-2\" stroke-width=\"2px\" d=\"M420,964.5 C420,877.0 525.0,877.0 525.0,964.5\" fill=\"none\" stroke=\"currentColor\"/>\n",
       "    <text dy=\"1.25em\" style=\"font-size: 0.8em; letter-spacing: 1px\">\n",
       "        <textPath xlink:href=\"#arrow-0-2\" class=\"displacy-label\" startOffset=\"50%\" fill=\"currentColor\" text-anchor=\"middle\">advmod</textPath>\n",
       "    </text>\n",
       "    <path class=\"displacy-arrowhead\" d=\"M420,966.5 L412,954.5 428,954.5\" fill=\"currentColor\"/>\n",
       "</g>\n",
       "\n",
       "<g class=\"displacy-arrow\">\n",
       "    <path class=\"displacy-arc\" id=\"arrow-0-3\" stroke-width=\"2px\" d=\"M770,964.5 C770,877.0 875.0,877.0 875.0,964.5\" fill=\"none\" stroke=\"currentColor\"/>\n",
       "    <text dy=\"1.25em\" style=\"font-size: 0.8em; letter-spacing: 1px\">\n",
       "        <textPath xlink:href=\"#arrow-0-3\" class=\"displacy-label\" startOffset=\"50%\" fill=\"currentColor\" text-anchor=\"middle\">amod</textPath>\n",
       "    </text>\n",
       "    <path class=\"displacy-arrowhead\" d=\"M770,966.5 L762,954.5 778,954.5\" fill=\"currentColor\"/>\n",
       "</g>\n",
       "\n",
       "<g class=\"displacy-arrow\">\n",
       "    <path class=\"displacy-arc\" id=\"arrow-0-4\" stroke-width=\"2px\" d=\"M595,964.5 C595,789.5 880.0,789.5 880.0,964.5\" fill=\"none\" stroke=\"currentColor\"/>\n",
       "    <text dy=\"1.25em\" style=\"font-size: 0.8em; letter-spacing: 1px\">\n",
       "        <textPath xlink:href=\"#arrow-0-4\" class=\"displacy-label\" startOffset=\"50%\" fill=\"currentColor\" text-anchor=\"middle\">dobj</textPath>\n",
       "    </text>\n",
       "    <path class=\"displacy-arrowhead\" d=\"M880.0,966.5 L888.0,954.5 872.0,954.5\" fill=\"currentColor\"/>\n",
       "</g>\n",
       "\n",
       "<g class=\"displacy-arrow\">\n",
       "    <path class=\"displacy-arc\" id=\"arrow-0-5\" stroke-width=\"2px\" d=\"M945,964.5 C945,877.0 1050.0,877.0 1050.0,964.5\" fill=\"none\" stroke=\"currentColor\"/>\n",
       "    <text dy=\"1.25em\" style=\"font-size: 0.8em; letter-spacing: 1px\">\n",
       "        <textPath xlink:href=\"#arrow-0-5\" class=\"displacy-label\" startOffset=\"50%\" fill=\"currentColor\" text-anchor=\"middle\">prep</textPath>\n",
       "    </text>\n",
       "    <path class=\"displacy-arrowhead\" d=\"M1050.0,966.5 L1058.0,954.5 1042.0,954.5\" fill=\"currentColor\"/>\n",
       "</g>\n",
       "\n",
       "<g class=\"displacy-arrow\">\n",
       "    <path class=\"displacy-arc\" id=\"arrow-0-6\" stroke-width=\"2px\" d=\"M1120,964.5 C1120,877.0 1225.0,877.0 1225.0,964.5\" fill=\"none\" stroke=\"currentColor\"/>\n",
       "    <text dy=\"1.25em\" style=\"font-size: 0.8em; letter-spacing: 1px\">\n",
       "        <textPath xlink:href=\"#arrow-0-6\" class=\"displacy-label\" startOffset=\"50%\" fill=\"currentColor\" text-anchor=\"middle\">pobj</textPath>\n",
       "    </text>\n",
       "    <path class=\"displacy-arrowhead\" d=\"M1225.0,966.5 L1233.0,954.5 1217.0,954.5\" fill=\"currentColor\"/>\n",
       "</g>\n",
       "\n",
       "<g class=\"displacy-arrow\">\n",
       "    <path class=\"displacy-arc\" id=\"arrow-0-7\" stroke-width=\"2px\" d=\"M1295,964.5 C1295,877.0 1400.0,877.0 1400.0,964.5\" fill=\"none\" stroke=\"currentColor\"/>\n",
       "    <text dy=\"1.25em\" style=\"font-size: 0.8em; letter-spacing: 1px\">\n",
       "        <textPath xlink:href=\"#arrow-0-7\" class=\"displacy-label\" startOffset=\"50%\" fill=\"currentColor\" text-anchor=\"middle\">cc</textPath>\n",
       "    </text>\n",
       "    <path class=\"displacy-arrowhead\" d=\"M1400.0,966.5 L1408.0,954.5 1392.0,954.5\" fill=\"currentColor\"/>\n",
       "</g>\n",
       "\n",
       "<g class=\"displacy-arrow\">\n",
       "    <path class=\"displacy-arc\" id=\"arrow-0-8\" stroke-width=\"2px\" d=\"M1295,964.5 C1295,789.5 1580.0,789.5 1580.0,964.5\" fill=\"none\" stroke=\"currentColor\"/>\n",
       "    <text dy=\"1.25em\" style=\"font-size: 0.8em; letter-spacing: 1px\">\n",
       "        <textPath xlink:href=\"#arrow-0-8\" class=\"displacy-label\" startOffset=\"50%\" fill=\"currentColor\" text-anchor=\"middle\">conj</textPath>\n",
       "    </text>\n",
       "    <path class=\"displacy-arrowhead\" d=\"M1580.0,966.5 L1588.0,954.5 1572.0,954.5\" fill=\"currentColor\"/>\n",
       "</g>\n",
       "\n",
       "<g class=\"displacy-arrow\">\n",
       "    <path class=\"displacy-arc\" id=\"arrow-0-9\" stroke-width=\"2px\" d=\"M1820,964.5 C1820,877.0 1925.0,877.0 1925.0,964.5\" fill=\"none\" stroke=\"currentColor\"/>\n",
       "    <text dy=\"1.25em\" style=\"font-size: 0.8em; letter-spacing: 1px\">\n",
       "        <textPath xlink:href=\"#arrow-0-9\" class=\"displacy-label\" startOffset=\"50%\" fill=\"currentColor\" text-anchor=\"middle\">det</textPath>\n",
       "    </text>\n",
       "    <path class=\"displacy-arrowhead\" d=\"M1820,966.5 L1812,954.5 1828,954.5\" fill=\"currentColor\"/>\n",
       "</g>\n",
       "\n",
       "<g class=\"displacy-arrow\">\n",
       "    <path class=\"displacy-arc\" id=\"arrow-0-10\" stroke-width=\"2px\" d=\"M1120,964.5 C1120,527.0 1945.0,527.0 1945.0,964.5\" fill=\"none\" stroke=\"currentColor\"/>\n",
       "    <text dy=\"1.25em\" style=\"font-size: 0.8em; letter-spacing: 1px\">\n",
       "        <textPath xlink:href=\"#arrow-0-10\" class=\"displacy-label\" startOffset=\"50%\" fill=\"currentColor\" text-anchor=\"middle\">pobj</textPath>\n",
       "    </text>\n",
       "    <path class=\"displacy-arrowhead\" d=\"M1945.0,966.5 L1953.0,954.5 1937.0,954.5\" fill=\"currentColor\"/>\n",
       "</g>\n",
       "\n",
       "<g class=\"displacy-arrow\">\n",
       "    <path class=\"displacy-arc\" id=\"arrow-0-11\" stroke-width=\"2px\" d=\"M1995,964.5 C1995,877.0 2100.0,877.0 2100.0,964.5\" fill=\"none\" stroke=\"currentColor\"/>\n",
       "    <text dy=\"1.25em\" style=\"font-size: 0.8em; letter-spacing: 1px\">\n",
       "        <textPath xlink:href=\"#arrow-0-11\" class=\"displacy-label\" startOffset=\"50%\" fill=\"currentColor\" text-anchor=\"middle\">prep</textPath>\n",
       "    </text>\n",
       "    <path class=\"displacy-arrowhead\" d=\"M2100.0,966.5 L2108.0,954.5 2092.0,954.5\" fill=\"currentColor\"/>\n",
       "</g>\n",
       "\n",
       "<g class=\"displacy-arrow\">\n",
       "    <path class=\"displacy-arc\" id=\"arrow-0-12\" stroke-width=\"2px\" d=\"M2170,964.5 C2170,877.0 2275.0,877.0 2275.0,964.5\" fill=\"none\" stroke=\"currentColor\"/>\n",
       "    <text dy=\"1.25em\" style=\"font-size: 0.8em; letter-spacing: 1px\">\n",
       "        <textPath xlink:href=\"#arrow-0-12\" class=\"displacy-label\" startOffset=\"50%\" fill=\"currentColor\" text-anchor=\"middle\">pobj</textPath>\n",
       "    </text>\n",
       "    <path class=\"displacy-arrowhead\" d=\"M2275.0,966.5 L2283.0,954.5 2267.0,954.5\" fill=\"currentColor\"/>\n",
       "</g>\n",
       "\n",
       "<g class=\"displacy-arrow\">\n",
       "    <path class=\"displacy-arc\" id=\"arrow-0-13\" stroke-width=\"2px\" d=\"M2345,964.5 C2345,877.0 2450.0,877.0 2450.0,964.5\" fill=\"none\" stroke=\"currentColor\"/>\n",
       "    <text dy=\"1.25em\" style=\"font-size: 0.8em; letter-spacing: 1px\">\n",
       "        <textPath xlink:href=\"#arrow-0-13\" class=\"displacy-label\" startOffset=\"50%\" fill=\"currentColor\" text-anchor=\"middle\">cc</textPath>\n",
       "    </text>\n",
       "    <path class=\"displacy-arrowhead\" d=\"M2450.0,966.5 L2458.0,954.5 2442.0,954.5\" fill=\"currentColor\"/>\n",
       "</g>\n",
       "\n",
       "<g class=\"displacy-arrow\">\n",
       "    <path class=\"displacy-arc\" id=\"arrow-0-14\" stroke-width=\"2px\" d=\"M2345,964.5 C2345,789.5 2630.0,789.5 2630.0,964.5\" fill=\"none\" stroke=\"currentColor\"/>\n",
       "    <text dy=\"1.25em\" style=\"font-size: 0.8em; letter-spacing: 1px\">\n",
       "        <textPath xlink:href=\"#arrow-0-14\" class=\"displacy-label\" startOffset=\"50%\" fill=\"currentColor\" text-anchor=\"middle\">conj</textPath>\n",
       "    </text>\n",
       "    <path class=\"displacy-arrowhead\" d=\"M2630.0,966.5 L2638.0,954.5 2622.0,954.5\" fill=\"currentColor\"/>\n",
       "</g>\n",
       "\n",
       "<g class=\"displacy-arrow\">\n",
       "    <path class=\"displacy-arc\" id=\"arrow-0-15\" stroke-width=\"2px\" d=\"M595,964.5 C595,89.5 2845.0,89.5 2845.0,964.5\" fill=\"none\" stroke=\"currentColor\"/>\n",
       "    <text dy=\"1.25em\" style=\"font-size: 0.8em; letter-spacing: 1px\">\n",
       "        <textPath xlink:href=\"#arrow-0-15\" class=\"displacy-label\" startOffset=\"50%\" fill=\"currentColor\" text-anchor=\"middle\">cc</textPath>\n",
       "    </text>\n",
       "    <path class=\"displacy-arrowhead\" d=\"M2845.0,966.5 L2853.0,954.5 2837.0,954.5\" fill=\"currentColor\"/>\n",
       "</g>\n",
       "\n",
       "<g class=\"displacy-arrow\">\n",
       "    <path class=\"displacy-arc\" id=\"arrow-0-16\" stroke-width=\"2px\" d=\"M3045,964.5 C3045,789.5 3330.0,789.5 3330.0,964.5\" fill=\"none\" stroke=\"currentColor\"/>\n",
       "    <text dy=\"1.25em\" style=\"font-size: 0.8em; letter-spacing: 1px\">\n",
       "        <textPath xlink:href=\"#arrow-0-16\" class=\"displacy-label\" startOffset=\"50%\" fill=\"currentColor\" text-anchor=\"middle\">nsubj</textPath>\n",
       "    </text>\n",
       "    <path class=\"displacy-arrowhead\" d=\"M3045,966.5 L3037,954.5 3053,954.5\" fill=\"currentColor\"/>\n",
       "</g>\n",
       "\n",
       "<g class=\"displacy-arrow\">\n",
       "    <path class=\"displacy-arc\" id=\"arrow-0-17\" stroke-width=\"2px\" d=\"M3220,964.5 C3220,877.0 3325.0,877.0 3325.0,964.5\" fill=\"none\" stroke=\"currentColor\"/>\n",
       "    <text dy=\"1.25em\" style=\"font-size: 0.8em; letter-spacing: 1px\">\n",
       "        <textPath xlink:href=\"#arrow-0-17\" class=\"displacy-label\" startOffset=\"50%\" fill=\"currentColor\" text-anchor=\"middle\">aux</textPath>\n",
       "    </text>\n",
       "    <path class=\"displacy-arrowhead\" d=\"M3220,966.5 L3212,954.5 3228,954.5\" fill=\"currentColor\"/>\n",
       "</g>\n",
       "\n",
       "<g class=\"displacy-arrow\">\n",
       "    <path class=\"displacy-arc\" id=\"arrow-0-18\" stroke-width=\"2px\" d=\"M595,964.5 C595,2.0 3375.0,2.0 3375.0,964.5\" fill=\"none\" stroke=\"currentColor\"/>\n",
       "    <text dy=\"1.25em\" style=\"font-size: 0.8em; letter-spacing: 1px\">\n",
       "        <textPath xlink:href=\"#arrow-0-18\" class=\"displacy-label\" startOffset=\"50%\" fill=\"currentColor\" text-anchor=\"middle\">conj</textPath>\n",
       "    </text>\n",
       "    <path class=\"displacy-arrowhead\" d=\"M3375.0,966.5 L3383.0,954.5 3367.0,954.5\" fill=\"currentColor\"/>\n",
       "</g>\n",
       "\n",
       "<g class=\"displacy-arrow\">\n",
       "    <path class=\"displacy-arc\" id=\"arrow-0-19\" stroke-width=\"2px\" d=\"M3395,964.5 C3395,877.0 3500.0,877.0 3500.0,964.5\" fill=\"none\" stroke=\"currentColor\"/>\n",
       "    <text dy=\"1.25em\" style=\"font-size: 0.8em; letter-spacing: 1px\">\n",
       "        <textPath xlink:href=\"#arrow-0-19\" class=\"displacy-label\" startOffset=\"50%\" fill=\"currentColor\" text-anchor=\"middle\">prep</textPath>\n",
       "    </text>\n",
       "    <path class=\"displacy-arrowhead\" d=\"M3500.0,966.5 L3508.0,954.5 3492.0,954.5\" fill=\"currentColor\"/>\n",
       "</g>\n",
       "\n",
       "<g class=\"displacy-arrow\">\n",
       "    <path class=\"displacy-arc\" id=\"arrow-0-20\" stroke-width=\"2px\" d=\"M3745,964.5 C3745,877.0 3850.0,877.0 3850.0,964.5\" fill=\"none\" stroke=\"currentColor\"/>\n",
       "    <text dy=\"1.25em\" style=\"font-size: 0.8em; letter-spacing: 1px\">\n",
       "        <textPath xlink:href=\"#arrow-0-20\" class=\"displacy-label\" startOffset=\"50%\" fill=\"currentColor\" text-anchor=\"middle\">advmod</textPath>\n",
       "    </text>\n",
       "    <path class=\"displacy-arrowhead\" d=\"M3745,966.5 L3737,954.5 3753,954.5\" fill=\"currentColor\"/>\n",
       "</g>\n",
       "\n",
       "<g class=\"displacy-arrow\">\n",
       "    <path class=\"displacy-arc\" id=\"arrow-0-21\" stroke-width=\"2px\" d=\"M3920,964.5 C3920,789.5 4205.0,789.5 4205.0,964.5\" fill=\"none\" stroke=\"currentColor\"/>\n",
       "    <text dy=\"1.25em\" style=\"font-size: 0.8em; letter-spacing: 1px\">\n",
       "        <textPath xlink:href=\"#arrow-0-21\" class=\"displacy-label\" startOffset=\"50%\" fill=\"currentColor\" text-anchor=\"middle\">amod</textPath>\n",
       "    </text>\n",
       "    <path class=\"displacy-arrowhead\" d=\"M3920,966.5 L3912,954.5 3928,954.5\" fill=\"currentColor\"/>\n",
       "</g>\n",
       "\n",
       "<g class=\"displacy-arrow\">\n",
       "    <path class=\"displacy-arc\" id=\"arrow-0-22\" stroke-width=\"2px\" d=\"M4095,964.5 C4095,877.0 4200.0,877.0 4200.0,964.5\" fill=\"none\" stroke=\"currentColor\"/>\n",
       "    <text dy=\"1.25em\" style=\"font-size: 0.8em; letter-spacing: 1px\">\n",
       "        <textPath xlink:href=\"#arrow-0-22\" class=\"displacy-label\" startOffset=\"50%\" fill=\"currentColor\" text-anchor=\"middle\">amod</textPath>\n",
       "    </text>\n",
       "    <path class=\"displacy-arrowhead\" d=\"M4095,966.5 L4087,954.5 4103,954.5\" fill=\"currentColor\"/>\n",
       "</g>\n",
       "\n",
       "<g class=\"displacy-arrow\">\n",
       "    <path class=\"displacy-arc\" id=\"arrow-0-23\" stroke-width=\"2px\" d=\"M3570,964.5 C3570,614.5 4215.0,614.5 4215.0,964.5\" fill=\"none\" stroke=\"currentColor\"/>\n",
       "    <text dy=\"1.25em\" style=\"font-size: 0.8em; letter-spacing: 1px\">\n",
       "        <textPath xlink:href=\"#arrow-0-23\" class=\"displacy-label\" startOffset=\"50%\" fill=\"currentColor\" text-anchor=\"middle\">pobj</textPath>\n",
       "    </text>\n",
       "    <path class=\"displacy-arrowhead\" d=\"M4215.0,966.5 L4223.0,954.5 4207.0,954.5\" fill=\"currentColor\"/>\n",
       "</g>\n",
       "\n",
       "<g class=\"displacy-arrow\">\n",
       "    <path class=\"displacy-arc\" id=\"arrow-0-24\" stroke-width=\"2px\" d=\"M3395,964.5 C3395,439.5 4400.0,439.5 4400.0,964.5\" fill=\"none\" stroke=\"currentColor\"/>\n",
       "    <text dy=\"1.25em\" style=\"font-size: 0.8em; letter-spacing: 1px\">\n",
       "        <textPath xlink:href=\"#arrow-0-24\" class=\"displacy-label\" startOffset=\"50%\" fill=\"currentColor\" text-anchor=\"middle\">cc</textPath>\n",
       "    </text>\n",
       "    <path class=\"displacy-arrowhead\" d=\"M4400.0,966.5 L4408.0,954.5 4392.0,954.5\" fill=\"currentColor\"/>\n",
       "</g>\n",
       "\n",
       "<g class=\"displacy-arrow\">\n",
       "    <path class=\"displacy-arc\" id=\"arrow-0-25\" stroke-width=\"2px\" d=\"M3395,964.5 C3395,352.0 4580.0,352.0 4580.0,964.5\" fill=\"none\" stroke=\"currentColor\"/>\n",
       "    <text dy=\"1.25em\" style=\"font-size: 0.8em; letter-spacing: 1px\">\n",
       "        <textPath xlink:href=\"#arrow-0-25\" class=\"displacy-label\" startOffset=\"50%\" fill=\"currentColor\" text-anchor=\"middle\">conj</textPath>\n",
       "    </text>\n",
       "    <path class=\"displacy-arrowhead\" d=\"M4580.0,966.5 L4588.0,954.5 4572.0,954.5\" fill=\"currentColor\"/>\n",
       "</g>\n",
       "\n",
       "<g class=\"displacy-arrow\">\n",
       "    <path class=\"displacy-arc\" id=\"arrow-0-26\" stroke-width=\"2px\" d=\"M4795,964.5 C4795,877.0 4900.0,877.0 4900.0,964.5\" fill=\"none\" stroke=\"currentColor\"/>\n",
       "    <text dy=\"1.25em\" style=\"font-size: 0.8em; letter-spacing: 1px\">\n",
       "        <textPath xlink:href=\"#arrow-0-26\" class=\"displacy-label\" startOffset=\"50%\" fill=\"currentColor\" text-anchor=\"middle\">amod</textPath>\n",
       "    </text>\n",
       "    <path class=\"displacy-arrowhead\" d=\"M4795,966.5 L4787,954.5 4803,954.5\" fill=\"currentColor\"/>\n",
       "</g>\n",
       "\n",
       "<g class=\"displacy-arrow\">\n",
       "    <path class=\"displacy-arc\" id=\"arrow-0-27\" stroke-width=\"2px\" d=\"M4620,964.5 C4620,789.5 4905.0,789.5 4905.0,964.5\" fill=\"none\" stroke=\"currentColor\"/>\n",
       "    <text dy=\"1.25em\" style=\"font-size: 0.8em; letter-spacing: 1px\">\n",
       "        <textPath xlink:href=\"#arrow-0-27\" class=\"displacy-label\" startOffset=\"50%\" fill=\"currentColor\" text-anchor=\"middle\">pobj</textPath>\n",
       "    </text>\n",
       "    <path class=\"displacy-arrowhead\" d=\"M4905.0,966.5 L4913.0,954.5 4897.0,954.5\" fill=\"currentColor\"/>\n",
       "</g>\n",
       "\n",
       "<g class=\"displacy-arrow\">\n",
       "    <path class=\"displacy-arc\" id=\"arrow-0-28\" stroke-width=\"2px\" d=\"M3395,964.5 C3395,177.0 5115.0,177.0 5115.0,964.5\" fill=\"none\" stroke=\"currentColor\"/>\n",
       "    <text dy=\"1.25em\" style=\"font-size: 0.8em; letter-spacing: 1px\">\n",
       "        <textPath xlink:href=\"#arrow-0-28\" class=\"displacy-label\" startOffset=\"50%\" fill=\"currentColor\" text-anchor=\"middle\">prep</textPath>\n",
       "    </text>\n",
       "    <path class=\"displacy-arrowhead\" d=\"M5115.0,966.5 L5123.0,954.5 5107.0,954.5\" fill=\"currentColor\"/>\n",
       "</g>\n",
       "\n",
       "<g class=\"displacy-arrow\">\n",
       "    <path class=\"displacy-arc\" id=\"arrow-0-29\" stroke-width=\"2px\" d=\"M5320,964.5 C5320,877.0 5425.0,877.0 5425.0,964.5\" fill=\"none\" stroke=\"currentColor\"/>\n",
       "    <text dy=\"1.25em\" style=\"font-size: 0.8em; letter-spacing: 1px\">\n",
       "        <textPath xlink:href=\"#arrow-0-29\" class=\"displacy-label\" startOffset=\"50%\" fill=\"currentColor\" text-anchor=\"middle\">det</textPath>\n",
       "    </text>\n",
       "    <path class=\"displacy-arrowhead\" d=\"M5320,966.5 L5312,954.5 5328,954.5\" fill=\"currentColor\"/>\n",
       "</g>\n",
       "\n",
       "<g class=\"displacy-arrow\">\n",
       "    <path class=\"displacy-arc\" id=\"arrow-0-30\" stroke-width=\"2px\" d=\"M5495,964.5 C5495,877.0 5600.0,877.0 5600.0,964.5\" fill=\"none\" stroke=\"currentColor\"/>\n",
       "    <text dy=\"1.25em\" style=\"font-size: 0.8em; letter-spacing: 1px\">\n",
       "        <textPath xlink:href=\"#arrow-0-30\" class=\"displacy-label\" startOffset=\"50%\" fill=\"currentColor\" text-anchor=\"middle\">nsubj</textPath>\n",
       "    </text>\n",
       "    <path class=\"displacy-arrowhead\" d=\"M5495,966.5 L5487,954.5 5503,954.5\" fill=\"currentColor\"/>\n",
       "</g>\n",
       "\n",
       "<g class=\"displacy-arrow\">\n",
       "    <path class=\"displacy-arc\" id=\"arrow-0-31\" stroke-width=\"2px\" d=\"M5145,964.5 C5145,702.0 5610.0,702.0 5610.0,964.5\" fill=\"none\" stroke=\"currentColor\"/>\n",
       "    <text dy=\"1.25em\" style=\"font-size: 0.8em; letter-spacing: 1px\">\n",
       "        <textPath xlink:href=\"#arrow-0-31\" class=\"displacy-label\" startOffset=\"50%\" fill=\"currentColor\" text-anchor=\"middle\">pcomp</textPath>\n",
       "    </text>\n",
       "    <path class=\"displacy-arrowhead\" d=\"M5610.0,966.5 L5618.0,954.5 5602.0,954.5\" fill=\"currentColor\"/>\n",
       "</g>\n",
       "\n",
       "<g class=\"displacy-arrow\">\n",
       "    <path class=\"displacy-arc\" id=\"arrow-0-32\" stroke-width=\"2px\" d=\"M5845,964.5 C5845,702.0 6310.0,702.0 6310.0,964.5\" fill=\"none\" stroke=\"currentColor\"/>\n",
       "    <text dy=\"1.25em\" style=\"font-size: 0.8em; letter-spacing: 1px\">\n",
       "        <textPath xlink:href=\"#arrow-0-32\" class=\"displacy-label\" startOffset=\"50%\" fill=\"currentColor\" text-anchor=\"middle\">quantmod</textPath>\n",
       "    </text>\n",
       "    <path class=\"displacy-arrowhead\" d=\"M5845,966.5 L5837,954.5 5853,954.5\" fill=\"currentColor\"/>\n",
       "</g>\n",
       "\n",
       "<g class=\"displacy-arrow\">\n",
       "    <path class=\"displacy-arc\" id=\"arrow-0-33\" stroke-width=\"2px\" d=\"M6020,964.5 C6020,789.5 6305.0,789.5 6305.0,964.5\" fill=\"none\" stroke=\"currentColor\"/>\n",
       "    <text dy=\"1.25em\" style=\"font-size: 0.8em; letter-spacing: 1px\">\n",
       "        <textPath xlink:href=\"#arrow-0-33\" class=\"displacy-label\" startOffset=\"50%\" fill=\"currentColor\" text-anchor=\"middle\">quantmod</textPath>\n",
       "    </text>\n",
       "    <path class=\"displacy-arrowhead\" d=\"M6020,966.5 L6012,954.5 6028,954.5\" fill=\"currentColor\"/>\n",
       "</g>\n",
       "\n",
       "<g class=\"displacy-arrow\">\n",
       "    <path class=\"displacy-arc\" id=\"arrow-0-34\" stroke-width=\"2px\" d=\"M6195,964.5 C6195,877.0 6300.0,877.0 6300.0,964.5\" fill=\"none\" stroke=\"currentColor\"/>\n",
       "    <text dy=\"1.25em\" style=\"font-size: 0.8em; letter-spacing: 1px\">\n",
       "        <textPath xlink:href=\"#arrow-0-34\" class=\"displacy-label\" startOffset=\"50%\" fill=\"currentColor\" text-anchor=\"middle\">quantmod</textPath>\n",
       "    </text>\n",
       "    <path class=\"displacy-arrowhead\" d=\"M6195,966.5 L6187,954.5 6203,954.5\" fill=\"currentColor\"/>\n",
       "</g>\n",
       "\n",
       "<g class=\"displacy-arrow\">\n",
       "    <path class=\"displacy-arc\" id=\"arrow-0-35\" stroke-width=\"2px\" d=\"M5670,964.5 C5670,614.5 6315.0,614.5 6315.0,964.5\" fill=\"none\" stroke=\"currentColor\"/>\n",
       "    <text dy=\"1.25em\" style=\"font-size: 0.8em; letter-spacing: 1px\">\n",
       "        <textPath xlink:href=\"#arrow-0-35\" class=\"displacy-label\" startOffset=\"50%\" fill=\"currentColor\" text-anchor=\"middle\">dobj</textPath>\n",
       "    </text>\n",
       "    <path class=\"displacy-arrowhead\" d=\"M6315.0,966.5 L6323.0,954.5 6307.0,954.5\" fill=\"currentColor\"/>\n",
       "</g>\n",
       "\n",
       "<g class=\"displacy-arrow\">\n",
       "    <path class=\"displacy-arc\" id=\"arrow-0-36\" stroke-width=\"2px\" d=\"M6370,964.5 C6370,877.0 6475.0,877.0 6475.0,964.5\" fill=\"none\" stroke=\"currentColor\"/>\n",
       "    <text dy=\"1.25em\" style=\"font-size: 0.8em; letter-spacing: 1px\">\n",
       "        <textPath xlink:href=\"#arrow-0-36\" class=\"displacy-label\" startOffset=\"50%\" fill=\"currentColor\" text-anchor=\"middle\">cc</textPath>\n",
       "    </text>\n",
       "    <path class=\"displacy-arrowhead\" d=\"M6475.0,966.5 L6483.0,954.5 6467.0,954.5\" fill=\"currentColor\"/>\n",
       "</g>\n",
       "\n",
       "<g class=\"displacy-arrow\">\n",
       "    <path class=\"displacy-arc\" id=\"arrow-0-37\" stroke-width=\"2px\" d=\"M6370,964.5 C6370,789.5 6655.0,789.5 6655.0,964.5\" fill=\"none\" stroke=\"currentColor\"/>\n",
       "    <text dy=\"1.25em\" style=\"font-size: 0.8em; letter-spacing: 1px\">\n",
       "        <textPath xlink:href=\"#arrow-0-37\" class=\"displacy-label\" startOffset=\"50%\" fill=\"currentColor\" text-anchor=\"middle\">conj</textPath>\n",
       "    </text>\n",
       "    <path class=\"displacy-arrowhead\" d=\"M6655.0,966.5 L6663.0,954.5 6647.0,954.5\" fill=\"currentColor\"/>\n",
       "</g>\n",
       "\n",
       "<g class=\"displacy-arrow\">\n",
       "    <path class=\"displacy-arc\" id=\"arrow-0-38\" stroke-width=\"2px\" d=\"M5670,964.5 C5670,352.0 6855.0,352.0 6855.0,964.5\" fill=\"none\" stroke=\"currentColor\"/>\n",
       "    <text dy=\"1.25em\" style=\"font-size: 0.8em; letter-spacing: 1px\">\n",
       "        <textPath xlink:href=\"#arrow-0-38\" class=\"displacy-label\" startOffset=\"50%\" fill=\"currentColor\" text-anchor=\"middle\">advmod</textPath>\n",
       "    </text>\n",
       "    <path class=\"displacy-arrowhead\" d=\"M6855.0,966.5 L6863.0,954.5 6847.0,954.5\" fill=\"currentColor\"/>\n",
       "</g>\n",
       "\n",
       "<g class=\"displacy-arrow\">\n",
       "    <path class=\"displacy-arc\" id=\"arrow-0-39\" stroke-width=\"2px\" d=\"M5670,964.5 C5670,264.5 7035.0,264.5 7035.0,964.5\" fill=\"none\" stroke=\"currentColor\"/>\n",
       "    <text dy=\"1.25em\" style=\"font-size: 0.8em; letter-spacing: 1px\">\n",
       "        <textPath xlink:href=\"#arrow-0-39\" class=\"displacy-label\" startOffset=\"50%\" fill=\"currentColor\" text-anchor=\"middle\">prep</textPath>\n",
       "    </text>\n",
       "    <path class=\"displacy-arrowhead\" d=\"M7035.0,966.5 L7043.0,954.5 7027.0,954.5\" fill=\"currentColor\"/>\n",
       "</g>\n",
       "\n",
       "<g class=\"displacy-arrow\">\n",
       "    <path class=\"displacy-arc\" id=\"arrow-0-40\" stroke-width=\"2px\" d=\"M7245,964.5 C7245,789.5 7530.0,789.5 7530.0,964.5\" fill=\"none\" stroke=\"currentColor\"/>\n",
       "    <text dy=\"1.25em\" style=\"font-size: 0.8em; letter-spacing: 1px\">\n",
       "        <textPath xlink:href=\"#arrow-0-40\" class=\"displacy-label\" startOffset=\"50%\" fill=\"currentColor\" text-anchor=\"middle\">quantmod</textPath>\n",
       "    </text>\n",
       "    <path class=\"displacy-arrowhead\" d=\"M7245,966.5 L7237,954.5 7253,954.5\" fill=\"currentColor\"/>\n",
       "</g>\n",
       "\n",
       "<g class=\"displacy-arrow\">\n",
       "    <path class=\"displacy-arc\" id=\"arrow-0-41\" stroke-width=\"2px\" d=\"M7420,964.5 C7420,877.0 7525.0,877.0 7525.0,964.5\" fill=\"none\" stroke=\"currentColor\"/>\n",
       "    <text dy=\"1.25em\" style=\"font-size: 0.8em; letter-spacing: 1px\">\n",
       "        <textPath xlink:href=\"#arrow-0-41\" class=\"displacy-label\" startOffset=\"50%\" fill=\"currentColor\" text-anchor=\"middle\">quantmod</textPath>\n",
       "    </text>\n",
       "    <path class=\"displacy-arrowhead\" d=\"M7420,966.5 L7412,954.5 7428,954.5\" fill=\"currentColor\"/>\n",
       "</g>\n",
       "\n",
       "<g class=\"displacy-arrow\">\n",
       "    <path class=\"displacy-arc\" id=\"arrow-0-42\" stroke-width=\"2px\" d=\"M7070,964.5 C7070,702.0 7535.0,702.0 7535.0,964.5\" fill=\"none\" stroke=\"currentColor\"/>\n",
       "    <text dy=\"1.25em\" style=\"font-size: 0.8em; letter-spacing: 1px\">\n",
       "        <textPath xlink:href=\"#arrow-0-42\" class=\"displacy-label\" startOffset=\"50%\" fill=\"currentColor\" text-anchor=\"middle\">pobj</textPath>\n",
       "    </text>\n",
       "    <path class=\"displacy-arrowhead\" d=\"M7535.0,966.5 L7543.0,954.5 7527.0,954.5\" fill=\"currentColor\"/>\n",
       "</g>\n",
       "</svg>"
      ],
      "text/plain": [
       "<IPython.core.display.HTML object>"
      ]
     },
     "metadata": {},
     "output_type": "display_data"
    }
   ],
   "source": [
    "#%%output css=\"width: 50%\"\n",
    "sent = \"I've actually bought many pairs of (Sony or Panasonic) these headphones for myself and others, and all have been of very high initial quality, and of good durability, with the price ranging up to $12 and back down to around $7.\"\n",
    "doc = nlp(sent)\n",
    "displacy.render(doc, style='dep', jupyter=True)"
   ]
  },
  {
   "cell_type": "code",
   "execution_count": 32,
   "metadata": {},
   "outputs": [
    {
     "name": "stdout",
     "output_type": "stream",
     "text": [
      "I've actually bought many pairs of (Sony or Panasonic) these headphones for myself and others, and all have been of very high initial quality, and of good durability, with the price ranging up to $12 and back down to around $7. \n",
      "\n",
      "{I: bought, 've: bought, actually: bought, bought: bought, many: pairs, pairs: bought, of: pairs, (: of, Sony: of, or: Sony, Panasonic: Sony, ): of, these: headphones, headphones: of, for: headphones, myself: for, and: myself, others: myself, ,: bought, and: bought, all: been, have: been, been: bought, of: been, very: high, high: quality, initial: quality, quality: of, ,: been, and: been, of: been, good: durability, durability: of, ,: been, with: been, the: price, price: ranging, ranging: with, up: 12, to: 12, $: 12, 12: ranging, and: 12, back: 12, down: ranging, to: ranging, around: 7, $: 7, 7: to, .: been}\n"
     ]
    }
   ],
   "source": [
    "print(doc,'\\n')\n",
    "doc_dict = {i:doc[i] for i in range(len(doc))}\n",
    "root_doc_dict = {doc[i]:doc[i].head for i in range(len(doc))}\n",
    "#print(doc_dict,'\\n')\n",
    "print(root_doc_dict)"
   ]
  },
  {
   "cell_type": "code",
   "execution_count": 33,
   "metadata": {},
   "outputs": [
    {
     "name": "stdout",
     "output_type": "stream",
     "text": [
      "[pairs, ,, and, been]\n"
     ]
    }
   ],
   "source": [
    "root = [token for token in doc if token.head == token][0]\n",
    "print(list(root.rights))"
   ]
  },
  {
   "cell_type": "code",
   "execution_count": 34,
   "metadata": {},
   "outputs": [
    {
     "data": {
      "text/plain": [
       "bought"
      ]
     },
     "execution_count": 34,
     "metadata": {},
     "output_type": "execute_result"
    }
   ],
   "source": [
    "root"
   ]
  },
  {
   "cell_type": "code",
   "execution_count": 35,
   "metadata": {},
   "outputs": [
    {
     "name": "stdout",
     "output_type": "stream",
     "text": [
      "[I, 've, actually, bought, many, pairs, of, (, Sony, or, Panasonic, ), these, headphones, for, myself, and, others, ,, and, all, have, been, of, very, high, initial, quality, ,, and, of, good, durability, ,, with, the, price, ranging, up, to, $, 12, and, back, down, to, around, $, 7, .]\n",
      "advmod\n",
      "bought\n"
     ]
    }
   ],
   "source": [
    "print(list(doc))\n",
    "print(doc[2].dep_)\n",
    "print(doc[0].head)"
   ]
  },
  {
   "cell_type": "code",
   "execution_count": 36,
   "metadata": {},
   "outputs": [
    {
     "data": {
      "text/plain": [
       "[(Sony, 'ORG'), (Panasonic, 'ORG'), (up to $12, 'MONEY'), (around $7, 'MONEY')]"
      ]
     },
     "execution_count": 36,
     "metadata": {},
     "output_type": "execute_result"
    }
   ],
   "source": [
    "[(e, e.label_) for e in doc.ents]"
   ]
  },
  {
   "cell_type": "code",
   "execution_count": 37,
   "metadata": {},
   "outputs": [
    {
     "data": {
      "text/plain": [
       "(Sony, Panasonic, up to $12, around $7)"
      ]
     },
     "execution_count": 37,
     "metadata": {},
     "output_type": "execute_result"
    }
   ],
   "source": [
    "doc.ents"
   ]
  },
  {
   "cell_type": "code",
   "execution_count": 39,
   "metadata": {},
   "outputs": [
    {
     "name": "stdout",
     "output_type": "stream",
     "text": [
      "[(I, '', 'PRON', '-PRON-'), ('ve, '', 'VERB', 'have'), (actually, '', 'ADV', 'actually'), (bought, '', 'VERB', 'buy'), (many, '', 'ADJ', 'many'), (pairs, '', 'NOUN', 'pair'), (of, '', 'ADP', 'of'), ((, '', 'PUNCT', '('), (Sony, 'ORG', 'PROPN', 'sony'), (or, '', 'CCONJ', 'or'), (Panasonic, 'ORG', 'PROPN', 'panasonic'), (), '', 'PUNCT', ')'), (these, '', 'DET', 'these'), (headphones, '', 'NOUN', 'headphone'), (for, '', 'ADP', 'for'), (myself, '', 'PRON', '-PRON-'), (and, '', 'CCONJ', 'and'), (others, '', 'NOUN', 'other'), (,, '', 'PUNCT', ','), (and, '', 'CCONJ', 'and'), (all, '', 'DET', 'all'), (have, '', 'VERB', 'have'), (been, '', 'VERB', 'be'), (of, '', 'ADP', 'of'), (very, '', 'ADV', 'very'), (high, '', 'ADJ', 'high'), (initial, '', 'ADJ', 'initial'), (quality, '', 'NOUN', 'quality'), (,, '', 'PUNCT', ','), (and, '', 'CCONJ', 'and'), (of, '', 'ADP', 'of'), (good, '', 'ADJ', 'good'), (durability, '', 'NOUN', 'durability'), (,, '', 'PUNCT', ','), (with, '', 'ADP', 'with'), (the, '', 'DET', 'the'), (price, '', 'NOUN', 'price'), (ranging, '', 'VERB', 'range'), (up, 'MONEY', 'ADP', 'up'), (to, 'MONEY', 'PART', 'to'), ($, 'MONEY', 'SYM', '$'), (12, 'MONEY', 'NUM', '12'), (and, '', 'CCONJ', 'and'), (back, '', 'VERB', 'back'), (down, '', 'ADV', 'down'), (to, '', 'ADP', 'to'), (around, 'MONEY', 'ADP', 'around'), ($, 'MONEY', 'SYM', '$'), (7, 'MONEY', 'NUM', '7'), (., '', 'PUNCT', '.')]\n"
     ]
    }
   ],
   "source": [
    "full_data_doc = [(token, token.ent_type_, token.pos_, token.lemma_) for token in doc]\n",
    "print(full_data_doc)"
   ]
  },
  {
   "cell_type": "markdown",
   "metadata": {},
   "source": [
    "Everything about Gensim"
   ]
  },
  {
   "cell_type": "code",
   "execution_count": 11,
   "metadata": {
    "collapsed": true
   },
   "outputs": [],
   "source": [
    "from gensim.models.doc2vec import Doc2Vec"
   ]
  },
  {
   "cell_type": "code",
   "execution_count": 12,
   "metadata": {
    "collapsed": true
   },
   "outputs": [],
   "source": [
    "import gensim"
   ]
  },
  {
   "cell_type": "code",
   "execution_count": 13,
   "metadata": {
    "collapsed": true
   },
   "outputs": [],
   "source": [
    "import logging"
   ]
  },
  {
   "cell_type": "code",
   "execution_count": 14,
   "metadata": {
    "collapsed": true
   },
   "outputs": [],
   "source": [
    "logging.basicConfig(format='%(asctime)s : %(levelname)s : %(message)s', level=logging.INFO)"
   ]
  },
  {
   "cell_type": "code",
   "execution_count": 15,
   "metadata": {
    "collapsed": true
   },
   "outputs": [],
   "source": [
    "from gensim import corpora, models, similarities\n",
    "corpus = [[(0, 1.0), (1, 1.0), (2, 1.0),(10, 4.0)],\n",
    "          [(2, 1.0), (3, 1.0), (4, 1.0), (5, 1.0), (6, 1.0), (8, 1.0)],\n",
    "          [(0, 1.0), (4, 2.0), (7, 1.0),(10, 5.0)],\n",
    "          [(3, 1.0), (5, 1.0), (6, 1.0),(10,2.0)],\n",
    "          [(9, 1.0)],\n",
    "          [(9, 21.0), (10, 1.0)],\n",
    "          [(8, 1.0), (10, 34.0), (11, 1.0)]]"
   ]
  },
  {
   "cell_type": "code",
   "execution_count": 16,
   "metadata": {},
   "outputs": [
    {
     "name": "stderr",
     "output_type": "stream",
     "text": [
      "2018-05-06 23:02:55,239 : INFO : collecting document frequencies\n",
      "2018-05-06 23:02:55,240 : INFO : PROGRESS: processing document #0\n",
      "2018-05-06 23:02:55,243 : INFO : calculating IDF weights for 7 documents and 11 features (24 matrix non-zeros)\n"
     ]
    },
    {
     "name": "stdout",
     "output_type": "stream",
     "text": [
      "TfidfModel(num_docs=7, num_nnz=24)\n"
     ]
    }
   ],
   "source": [
    "tfidf = models.TfidfModel(corpus)\n",
    "print(tfidf)"
   ]
  },
  {
   "cell_type": "code",
   "execution_count": 17,
   "metadata": {},
   "outputs": [
    {
     "name": "stdout",
     "output_type": "stream",
     "text": [
      "[(7, 0.8408204282161674), (0, 0.5413141486183237)]\n",
      "0   [(0, 0.4238306646770182), (1, 0.6583339487328711), (2, 0.4238306646770182), (10, 0.45533674056093837)]\n",
      "1   [(2, 0.408248290463863), (3, 0.408248290463863), (4, 0.408248290463863), (5, 0.408248290463863), (6, 0.408248290463863), (8, 0.408248290463863)]\n",
      "2   [(0, 0.32940105810409875), (4, 0.6588021162081975), (7, 0.5116569360636355), (10, 0.44235946285512356)]\n",
      "3   [(3, 0.5514394016546313), (5, 0.5514394016546313), (6, 0.5514394016546313), (10, 0.29621573035263804)]\n",
      "4   [(9, 1.0)]\n",
      "5   [(9, 0.9999182215652043), (10, 0.012788673968747161)]\n",
      "6   [(8, 0.10733247704467516), (10, 0.9801451541368039), (11, 0.16671897370603997)]\n"
     ]
    }
   ],
   "source": [
    "vec_test = [(7, 21), (0, 21),(18,17)]\n",
    "print(tfidf[vec_test])\n",
    "for i in range(len(corpus)):\n",
    "    vec = corpus[i]\n",
    "    print(i,\" \", tfidf[vec])"
   ]
  },
  {
   "cell_type": "code",
   "execution_count": 18,
   "metadata": {},
   "outputs": [
    {
     "name": "stderr",
     "output_type": "stream",
     "text": [
      "2018-05-06 23:02:58,036 : INFO : creating sparse index\n",
      "2018-05-06 23:02:58,037 : INFO : creating sparse matrix from corpus\n",
      "2018-05-06 23:02:58,039 : INFO : PROGRESS: at document #0\n",
      "2018-05-06 23:02:58,042 : INFO : created <7x12 sparse matrix of type '<class 'numpy.float32'>'\n",
      "\twith 24 stored elements in Compressed Sparse Row format>\n"
     ]
    }
   ],
   "source": [
    "index = similarities.SparseMatrixSimilarity(tfidf[corpus], num_features=12)"
   ]
  },
  {
   "cell_type": "code",
   "execution_count": 19,
   "metadata": {},
   "outputs": [
    {
     "name": "stdout",
     "output_type": "stream",
     "text": [
      "[(0, 0.22942552), (1, 0.0), (2, 0.60852104), (3, 0.0), (4, 0.0), (5, 0.0), (6, 0.0)]\n"
     ]
    }
   ],
   "source": [
    "sims = index[tfidf[vec_test]]\n",
    "print(list(enumerate(sims)))"
   ]
  },
  {
   "cell_type": "code",
   "execution_count": 20,
   "metadata": {
    "collapsed": true
   },
   "outputs": [],
   "source": [
    "import logging\n",
    "logging.basicConfig(format='%(asctime)s : %(levelname)s : %(message)s', level=logging.INFO)"
   ]
  },
  {
   "cell_type": "code",
   "execution_count": 21,
   "metadata": {},
   "outputs": [
    {
     "name": "stdout",
     "output_type": "stream",
     "text": [
      "Folder \"/var/folders/2m/d1x8p4k179j6433svzq39zqh0000gn/T\" will be used to save temporary dictionary and corpus.\n"
     ]
    }
   ],
   "source": [
    "import os\n",
    "import tempfile\n",
    "TEMP_FOLDER = tempfile.gettempdir()\n",
    "print('Folder \"{}\" will be used to save temporary dictionary and corpus.'.format(TEMP_FOLDER))"
   ]
  },
  {
   "cell_type": "code",
   "execution_count": 22,
   "metadata": {
    "collapsed": true
   },
   "outputs": [],
   "source": [
    "from gensim import corpora"
   ]
  },
  {
   "cell_type": "code",
   "execution_count": 23,
   "metadata": {
    "collapsed": true
   },
   "outputs": [],
   "source": [
    "documents = [\"Human machine interface for lab abc computer applications computer\",\n",
    "             \"A survey of user opinion of computer system response time computer\",\n",
    "             \"The EPS user interface management system\",\n",
    "             \"System and human system engineering testing of EPS\",              \n",
    "             \"Relation of user perceived response time to error measurement computer\",\n",
    "             \"The generation of random binary unordered trees computer\",\n",
    "             \"The intersection graph of paths in trees\",\n",
    "             \"Graph minors IV Widths of trees and well quasi ordering volume\",\n",
    "             \"Graph minors A survey computer volume\"]"
   ]
  },
  {
   "cell_type": "code",
   "execution_count": 24,
   "metadata": {},
   "outputs": [
    {
     "name": "stdout",
     "output_type": "stream",
     "text": [
      "[['human', 'interface', 'computer', 'computer'],\n",
      " ['survey', 'user', 'computer', 'system', 'response', 'time', 'computer'],\n",
      " ['eps', 'user', 'interface', 'system'],\n",
      " ['system', 'human', 'system', 'eps'],\n",
      " ['user', 'response', 'time', 'computer'],\n",
      " ['trees', 'computer'],\n",
      " ['graph', 'trees'],\n",
      " ['graph', 'minors', 'trees', 'volume'],\n",
      " ['graph', 'minors', 'survey', 'computer', 'volume']]\n"
     ]
    }
   ],
   "source": [
    "# remove common words and tokenize\n",
    "stoplist = set('for a of the and to in'.split())\n",
    "texts = [[word for word in document.lower().split() if word not in stoplist]\n",
    "         for document in documents]\n",
    "\n",
    "# remove words that appear only once\n",
    "from collections import defaultdict\n",
    "frequency = defaultdict(int)\n",
    "for text in texts:\n",
    "    for token in text:\n",
    "        frequency[token] += 1\n",
    "\n",
    "texts = [[token for token in text if frequency[token] > 1] for text in texts]\n",
    "\n",
    "from pprint import pprint  # pretty-printer\n",
    "pprint(texts)"
   ]
  },
  {
   "cell_type": "code",
   "execution_count": 25,
   "metadata": {},
   "outputs": [
    {
     "name": "stdout",
     "output_type": "stream",
     "text": [
      "workbookDir: /Users/pouria\n"
     ]
    }
   ],
   "source": [
    "if not 'workbookDir' in globals():\n",
    "    workbookDir = os.getcwd()\n",
    "print('workbookDir: ' + workbookDir)"
   ]
  },
  {
   "cell_type": "code",
   "execution_count": 26,
   "metadata": {},
   "outputs": [
    {
     "name": "stdout",
     "output_type": "stream",
     "text": [
      "13\n"
     ]
    }
   ],
   "source": [
    "print(len([f for f in frequency if frequency[f]>1]))"
   ]
  },
  {
   "cell_type": "code",
   "execution_count": 27,
   "metadata": {},
   "outputs": [
    {
     "name": "stderr",
     "output_type": "stream",
     "text": [
      "2018-05-06 23:03:01,975 : INFO : adding document #0 to Dictionary(0 unique tokens: [])\n",
      "2018-05-06 23:03:01,977 : INFO : built Dictionary(13 unique tokens: ['computer', 'human', 'interface', 'response', 'survey']...) from 9 documents (total 36 corpus positions)\n",
      "2018-05-06 23:03:01,978 : INFO : saving Dictionary object under /var/folders/2m/d1x8p4k179j6433svzq39zqh0000gn/T/deerwester.dict, separately None\n",
      "2018-05-06 23:03:01,980 : INFO : saved /var/folders/2m/d1x8p4k179j6433svzq39zqh0000gn/T/deerwester.dict\n"
     ]
    },
    {
     "name": "stdout",
     "output_type": "stream",
     "text": [
      "Dictionary(13 unique tokens: ['computer', 'human', 'interface', 'response', 'survey']...)\n"
     ]
    }
   ],
   "source": [
    "dictionary = corpora.Dictionary(texts)\n",
    "dictionary.save(os.path.join(TEMP_FOLDER, 'deerwester.dict'))  # store the dictionary, for future reference\n",
    "print(dictionary)"
   ]
  },
  {
   "cell_type": "code",
   "execution_count": 28,
   "metadata": {},
   "outputs": [
    {
     "name": "stdout",
     "output_type": "stream",
     "text": [
      "{'computer': 0, 'human': 1, 'interface': 2, 'response': 3, 'survey': 4, 'system': 5, 'time': 6, 'user': 7, 'eps': 8, 'trees': 9, 'graph': 10, 'minors': 11, 'volume': 12}\n"
     ]
    }
   ],
   "source": [
    "print(dictionary.token2id)"
   ]
  },
  {
   "cell_type": "code",
   "execution_count": 29,
   "metadata": {},
   "outputs": [
    {
     "name": "stdout",
     "output_type": "stream",
     "text": [
      "[(0, 1), (1, 1)]\n"
     ]
    }
   ],
   "source": [
    "new_doc = \"Human computer interaction\"\n",
    "new_vec = dictionary.doc2bow(new_doc.lower().split())\n",
    "print(new_vec)  # the word \"interaction\" does not appear in the dictionary and is ignored"
   ]
  },
  {
   "cell_type": "code",
   "execution_count": 30,
   "metadata": {},
   "outputs": [
    {
     "name": "stderr",
     "output_type": "stream",
     "text": [
      "2018-05-06 23:03:03,259 : INFO : storing corpus in Matrix Market format to /var/folders/2m/d1x8p4k179j6433svzq39zqh0000gn/T/deerwester.mm\n",
      "2018-05-06 23:03:03,261 : INFO : saving sparse matrix to /var/folders/2m/d1x8p4k179j6433svzq39zqh0000gn/T/deerwester.mm\n",
      "2018-05-06 23:03:03,262 : INFO : PROGRESS: saving document #0\n",
      "2018-05-06 23:03:03,263 : INFO : saved 9x13 matrix, density=28.205% (33/117)\n",
      "2018-05-06 23:03:03,264 : INFO : saving MmCorpus index to /var/folders/2m/d1x8p4k179j6433svzq39zqh0000gn/T/deerwester.mm.index\n"
     ]
    },
    {
     "name": "stdout",
     "output_type": "stream",
     "text": [
      "[(0, 2), (1, 1), (2, 1)]\n",
      "[(0, 2), (3, 1), (4, 1), (5, 1), (6, 1), (7, 1)]\n",
      "[(2, 1), (5, 1), (7, 1), (8, 1)]\n",
      "[(1, 1), (5, 2), (8, 1)]\n",
      "[(0, 1), (3, 1), (6, 1), (7, 1)]\n",
      "[(0, 1), (9, 1)]\n",
      "[(9, 1), (10, 1)]\n",
      "[(9, 1), (10, 1), (11, 1), (12, 1)]\n",
      "[(0, 1), (4, 1), (10, 1), (11, 1), (12, 1)]\n"
     ]
    }
   ],
   "source": [
    "corpus = [dictionary.doc2bow(text) for text in texts]\n",
    "corpora.MmCorpus.serialize(os.path.join(TEMP_FOLDER, 'deerwester.mm'), corpus)  # store to disk, for later use\n",
    "for c in corpus:\n",
    "    print(c)"
   ]
  },
  {
   "cell_type": "code",
   "execution_count": 31,
   "metadata": {
    "collapsed": true
   },
   "outputs": [],
   "source": [
    "from smart_open import smart_open\n",
    "class MyCorpus(object):\n",
    "    def __iter__(self):\n",
    "        for line in smart_open('B01NAJGGA2.csv', 'rb'):\n",
    "            # assume there's one document per line, tokens separated by whitespace\n",
    "            yield dictionary.doc2bow(line.lower().split())"
   ]
  },
  {
   "cell_type": "code",
   "execution_count": 32,
   "metadata": {},
   "outputs": [
    {
     "name": "stdout",
     "output_type": "stream",
     "text": [
      "<__main__.MyCorpus object at 0x10bf67f98>\n"
     ]
    }
   ],
   "source": [
    "corpus_memory_friendly = MyCorpus() # doesn't load the corpus into memory!\n",
    "print(corpus_memory_friendly)"
   ]
  },
  {
   "cell_type": "code",
   "execution_count": 33,
   "metadata": {},
   "outputs": [
    {
     "name": "stdout",
     "output_type": "stream",
     "text": [
      "[]\n",
      "[]\n",
      "[(12, 1)]\n",
      "[]\n",
      "[]\n",
      "[(12, 2)]\n",
      "[(6, 1), (7, 2), (12, 3)]\n",
      "[]\n",
      "[]\n",
      "[]\n",
      "[]\n",
      "[(6, 1), (12, 4)]\n",
      "[(12, 2)]\n",
      "[]\n",
      "[(12, 2)]\n",
      "[]\n",
      "[]\n",
      "[]\n",
      "[]\n",
      "[(7, 1)]\n",
      "[(6, 2)]\n"
     ]
    }
   ],
   "source": [
    "for vector in corpus_memory_friendly:  # load one vector into memory at a time\n",
    "    print(vector)"
   ]
  },
  {
   "cell_type": "code",
   "execution_count": 34,
   "metadata": {},
   "outputs": [
    {
     "data": {
      "text/plain": [
       "<gensim.corpora.dictionary.Dictionary at 0x111edb828>"
      ]
     },
     "execution_count": 34,
     "metadata": {},
     "output_type": "execute_result"
    }
   ],
   "source": [
    "dictionary"
   ]
  },
  {
   "cell_type": "code",
   "execution_count": 35,
   "metadata": {},
   "outputs": [
    {
     "name": "stderr",
     "output_type": "stream",
     "text": [
      "2018-05-06 23:03:05,556 : INFO : adding document #0 to Dictionary(0 unique tokens: [])\n",
      "2018-05-06 23:03:05,567 : INFO : built Dictionary(1573 unique tokens: [',id,name,reviews', '\"\"video', \"'',\", \"'1,161\", '\\'activated.\\'\"\",']...) from 21 documents (total 5413 corpus positions)\n"
     ]
    },
    {
     "name": "stdout",
     "output_type": "stream",
     "text": [
      "[\"2017',\", 'audio', 'best', 'bit', 'bluetooth', 'built-in', 'but', 'cell', 'comes', 'decent', 'ear,', 'earmuffs,', 'foldable,', 'found', 'good', 'headphones', 'headset,', 'helpful', 'helpful.', 'hi-fi', \"i've\", 'if', 'iphone', 'is', 'it', 'july', 'like', 'listen', 'memory-protein', 'mic', 'mode', 'my', 'no', 'on', 'once', 'out', 'over', 'pc/', 'people', 'phones/', 'pressing', 'quality,', 'quite', 'review', 'soft', 'stereo', 'tested', 'that', \"that's\", \"there's\", 'they', 'this', 'up', 'w/', 'was', 'when', 'wired', 'wireless', 'with', 'work', 'you', 'you?\\')\"', 'your', \"2018',\", '4', '5,', 'adjustable', 'also', 'back', 'battery', 'be', 'break', 'build', 'buttons', 'charge.', 'comfort', 'comfortable', 'comfortable.', 'connected', 'could', 'day.', 'ear', 'ears', 'ears.', 'easily', 'enough', 'ever', 'february', 'find', 'from', 'hard', 'has', 'have', 'head', 'head.', 'headphone', 'hold', 'holding', 'hours', 'how', 'i', 'large', 'last', 'little', 'long', 'lost', 'make', 'many', 'more', 'nice', 'noise', 'or', 'overall', 'perfect', 'phone', 'price.', 'quality', 'see', 'seems', 'several', 'solid', 'sound.', 'still', 'sweaty', 'them', 'these', 'too', 'tv', 'volume', 'watch', 'wear', 'well.', 'without', 'adjust', 'again', 'an', 'average', 'certain', 'charge', 'charged', 'did', 'had', 'hour', 'need', 'not', 'off', 'only', 'so', 'tend', 'tv\",\"(\\'great', 'used', 'week', 'about', 'as', 'by', 'can', \"doesn't\", 'even', 'hear', 'issue', 'job', 'keep', 'may', 'me', 'me,', 'new', 'now', 'one', 'others', 'pretty', 'service', 'thank', '\"\"i\\'ve', 'active', 'all', 'at', 'august', 'balanced', 'bass', 'because', 'control', 'deep', 'do', 'do,', \"don't\", 'especially', 'fast', 'get', 'headphones,', 'know', 'mpow', 'other', 'pair', 'plus', 'probably', 'really', 'some', 'sound', 'start', 'style', 'than', 'then', 'turn', 'turned', 'use', 'voice', 'volume.', 'way', 'what', '&', '1', '2', '3.5mm', 'ability', 'after', 'along', 'another', 'bluetooth,', 'bose', 'both', 'bought', 'cable', 'canceling', 'cancellation', 'clear', 'come', 'confirmation', 'connect', 'device', 'device.', 'do.', 'done', 'ended', 'everyone', 'feel', 'fine', 'fit', 'full', 'handle', \"i\\\\'ve\", 'initial', 'light', 'micro-usb', 'money', 'music', 'needed', 'next', 'nexus', 'operate', 'paired', 'play', 'power', 'price', 'range.', 'recommend', 'red', 'reduce', 'reduction', 'said', 'same', 'set', 'side', 'simple', 'streaming', 'take', 'time', 'time.', 'took', 'top', 'touch', 'track', 'user', 'using', 'value', 'very', 'well', 'were', 'where', 'which', 'while', 'will', 'working', 'would', 'yet', \"aren't\", 'around', \"i'm\", 'just', 'most', 'ok', \"price',\", 'problem', 'says', 'she', 'something', 'strong', 'their', 'wife', 'actually', 'am', 'been', 'charge,', 'cheap', 'definitely', 'great', 'highly', 'impressed', 'january', 'month', 'never', 'play/pause', 'stars', 'super', 'them.', 'though', 'thought', 'under', 'worth', '5', 'any', 'anywhere', 'better', 'between', 'big', 'buy', 'came', 'close', 'deal', 'first', 'headphones.', 'honest', 'include', 'into', 'listening', 'low', 'much', 'music,', 'off,', 'opinion.', 'purchased', 'range', 'should', 'shows', 'sound,', 'terms', 'there', 'through', 'watching', 'who', 'devices', 'extremely', 'headset', \"it's\", 'review.', 'right', 'sounding', 'uncomfortable', 'update', '3.5', 'boost', 'charging', 'extended', 'go', 'going', 'listens', 'made', 'period', 'place', 'point', 'say', 'superior', 'support', 'want', 'being', 'crisp', 'decently', 'does', 'great.', 'head,', 'heavy', 'honestly', 'loud.', 'prefer', 'these.', \"'i\", '-', '13,', 'able', 'always', 'company', 'couple', 'customer', 'got', 'here', 'months', 'october', 'on.', 'received', 'replacement', 'sent', 'stopped', '26,', 'already', 'button.', 'carrying', 'cause', 'contacted', 'give', 'half', 'send', 'similar', \"they're\", \"they've\", 'think', 'went', 'love', 'sennheiser', 'trouble', 'out.', 'real', 'it.']\n"
     ]
    }
   ],
   "source": [
    "from six import iteritems\n",
    "from smart_open import smart_open\n",
    "\n",
    "# collect statistics about all tokens\n",
    "dictionary = corpora.Dictionary(line.lower().split() for line in smart_open('B01NAJGGA2.csv', 'rb'))\n",
    "\n",
    "stoplist = set(\"for a of the and to in 'on 059 '', before 16, are\".split())\n",
    "# remove stop words and words that appear only once\n",
    "stop_ids = [dictionary.token2id[stopword] for stopword in stoplist \n",
    "            if stopword in dictionary.token2id]\n",
    "once_ids = [tokenid for tokenid, docfreq in iteritems(dictionary.dfs) if docfreq == 1]\n",
    "\n",
    "# remove stop words and words that appear only once\n",
    "dictionary.filter_tokens(stop_ids + once_ids)\n",
    "print(list(dictionary.values()))"
   ]
  },
  {
   "cell_type": "code",
   "execution_count": 36,
   "metadata": {},
   "outputs": [
    {
     "name": "stderr",
     "output_type": "stream",
     "text": [
      "2018-05-06 23:03:06,018 : INFO : storing corpus in Matrix Market format to /var/folders/2m/d1x8p4k179j6433svzq39zqh0000gn/T/corpus.mm\n",
      "2018-05-06 23:03:06,020 : INFO : saving sparse matrix to /var/folders/2m/d1x8p4k179j6433svzq39zqh0000gn/T/corpus.mm\n",
      "2018-05-06 23:03:06,021 : INFO : PROGRESS: saving document #0\n",
      "2018-05-06 23:03:06,022 : INFO : saved 2x2 matrix, density=25.000% (1/4)\n",
      "2018-05-06 23:03:06,023 : INFO : saving MmCorpus index to /var/folders/2m/d1x8p4k179j6433svzq39zqh0000gn/T/corpus.mm.index\n"
     ]
    }
   ],
   "source": [
    "# create a toy corpus of 2 documents, as a plain Python list\n",
    "corpus = [[(1, 0.5)], []]  # make one document empty, for the heck of it\n",
    "\n",
    "corpora.MmCorpus.serialize(os.path.join(TEMP_FOLDER, 'corpus.mm'), corpus)"
   ]
  },
  {
   "cell_type": "code",
   "execution_count": 37,
   "metadata": {},
   "outputs": [
    {
     "name": "stderr",
     "output_type": "stream",
     "text": [
      "2018-05-06 23:03:06,528 : INFO : converting corpus to SVMlight format: /var/folders/2m/d1x8p4k179j6433svzq39zqh0000gn/T/corpus.svmlight\n",
      "2018-05-06 23:03:06,529 : INFO : saving SvmLightCorpus index to /var/folders/2m/d1x8p4k179j6433svzq39zqh0000gn/T/corpus.svmlight.index\n",
      "2018-05-06 23:03:06,531 : INFO : no word id mapping provided; initializing from corpus\n",
      "2018-05-06 23:03:06,531 : INFO : storing corpus in Blei's LDA-C format into /var/folders/2m/d1x8p4k179j6433svzq39zqh0000gn/T/corpus.lda-c\n",
      "2018-05-06 23:03:06,533 : INFO : saving vocabulary of 2 words to /var/folders/2m/d1x8p4k179j6433svzq39zqh0000gn/T/corpus.lda-c.vocab\n",
      "2018-05-06 23:03:06,534 : INFO : saving BleiCorpus index to /var/folders/2m/d1x8p4k179j6433svzq39zqh0000gn/T/corpus.lda-c.index\n",
      "2018-05-06 23:03:06,535 : INFO : no word id mapping provided; initializing from corpus\n",
      "2018-05-06 23:03:06,536 : INFO : storing corpus in List-Of-Words format into /var/folders/2m/d1x8p4k179j6433svzq39zqh0000gn/T/corpus.low\n",
      "2018-05-06 23:03:06,537 : WARNING : List-of-words format can only save vectors with integer elements; 1 float entries were truncated to integer value\n",
      "2018-05-06 23:03:06,538 : INFO : saving LowCorpus index to /var/folders/2m/d1x8p4k179j6433svzq39zqh0000gn/T/corpus.low.index\n"
     ]
    }
   ],
   "source": [
    "#File Formats\n",
    "corpora.SvmLightCorpus.serialize(os.path.join(TEMP_FOLDER, 'corpus.svmlight'), corpus)\n",
    "corpora.BleiCorpus.serialize(os.path.join(TEMP_FOLDER, 'corpus.lda-c'), corpus)\n",
    "corpora.LowCorpus.serialize(os.path.join(TEMP_FOLDER, 'corpus.low'), corpus)"
   ]
  },
  {
   "cell_type": "code",
   "execution_count": 38,
   "metadata": {},
   "outputs": [
    {
     "name": "stderr",
     "output_type": "stream",
     "text": [
      "2018-05-06 23:03:06,982 : INFO : loaded corpus index from /var/folders/2m/d1x8p4k179j6433svzq39zqh0000gn/T/corpus.mm.index\n",
      "2018-05-06 23:03:06,986 : INFO : initializing cython corpus reader from /var/folders/2m/d1x8p4k179j6433svzq39zqh0000gn/T/corpus.mm\n",
      "2018-05-06 23:03:06,988 : INFO : accepted corpus with 2 documents, 2 features, 1 non-zero entries\n"
     ]
    }
   ],
   "source": [
    "corpus = corpora.MmCorpus(os.path.join(TEMP_FOLDER, 'corpus.mm'))"
   ]
  },
  {
   "cell_type": "code",
   "execution_count": 39,
   "metadata": {},
   "outputs": [
    {
     "name": "stdout",
     "output_type": "stream",
     "text": [
      "MmCorpus(2 documents, 2 features, 1 non-zero entries)\n"
     ]
    }
   ],
   "source": [
    "print(corpus)"
   ]
  },
  {
   "cell_type": "code",
   "execution_count": 40,
   "metadata": {},
   "outputs": [
    {
     "name": "stdout",
     "output_type": "stream",
     "text": [
      "[[(1, 0.5)], []]\n"
     ]
    }
   ],
   "source": [
    "# one way of printing a corpus: load it entirely into memory\n",
    "print(list(corpus))  # calling list() will convert any sequence to a plain Python list"
   ]
  },
  {
   "cell_type": "code",
   "execution_count": 41,
   "metadata": {},
   "outputs": [
    {
     "name": "stdout",
     "output_type": "stream",
     "text": [
      "[(1, 0.5)]\n",
      "[]\n"
     ]
    }
   ],
   "source": [
    "# another way of doing it: print one document at a time, making use of the streaming interface\n",
    "for doc in corpus:\n",
    "    print(doc)"
   ]
  },
  {
   "cell_type": "code",
   "execution_count": 42,
   "metadata": {},
   "outputs": [
    {
     "name": "stderr",
     "output_type": "stream",
     "text": [
      "2018-05-06 23:03:08,790 : INFO : no word id mapping provided; initializing from corpus\n",
      "2018-05-06 23:03:08,791 : INFO : storing corpus in Blei's LDA-C format into /var/folders/2m/d1x8p4k179j6433svzq39zqh0000gn/T/corpus.lda-c\n",
      "2018-05-06 23:03:08,793 : INFO : saving vocabulary of 2 words to /var/folders/2m/d1x8p4k179j6433svzq39zqh0000gn/T/corpus.lda-c.vocab\n",
      "2018-05-06 23:03:08,794 : INFO : saving BleiCorpus index to /var/folders/2m/d1x8p4k179j6433svzq39zqh0000gn/T/corpus.lda-c.index\n"
     ]
    }
   ],
   "source": [
    "corpora.BleiCorpus.serialize(os.path.join(TEMP_FOLDER, 'corpus.lda-c'), corpus)"
   ]
  },
  {
   "cell_type": "code",
   "execution_count": 43,
   "metadata": {
    "collapsed": true
   },
   "outputs": [],
   "source": [
    "import gensim\n",
    "import numpy as np\n",
    "numpy_matrix = np.random.randint(10, size=[5,2])\n",
    "corpus = gensim.matutils.Dense2Corpus(numpy_matrix)\n",
    "numpy_matrix_dense = gensim.matutils.corpus2dense(corpus, num_terms=10)"
   ]
  },
  {
   "cell_type": "code",
   "execution_count": 44,
   "metadata": {
    "collapsed": true
   },
   "outputs": [],
   "source": [
    "import scipy.sparse\n",
    "scipy_sparse_matrix = scipy.sparse.random(5,2)\n",
    "corpus = gensim.matutils.Sparse2Corpus(scipy_sparse_matrix)\n",
    "scipy_csc_matrix = gensim.matutils.corpus2csc(corpus)"
   ]
  },
  {
   "cell_type": "code",
   "execution_count": 45,
   "metadata": {
    "collapsed": true
   },
   "outputs": [],
   "source": [
    "import logging\n",
    "logging.basicConfig(format='%(asctime)s : %(levelname)s : %(message)s', level=logging.INFO)"
   ]
  },
  {
   "cell_type": "code",
   "execution_count": 46,
   "metadata": {},
   "outputs": [
    {
     "name": "stderr",
     "output_type": "stream",
     "text": [
      "2018-05-06 23:03:10,644 : INFO : loading Dictionary object from /var/folders/2m/d1x8p4k179j6433svzq39zqh0000gn/T/deerwester.dict\n",
      "2018-05-06 23:03:10,646 : INFO : loaded /var/folders/2m/d1x8p4k179j6433svzq39zqh0000gn/T/deerwester.dict\n",
      "2018-05-06 23:03:10,647 : INFO : loaded corpus index from /var/folders/2m/d1x8p4k179j6433svzq39zqh0000gn/T/deerwester.mm.index\n",
      "2018-05-06 23:03:10,648 : INFO : initializing cython corpus reader from /var/folders/2m/d1x8p4k179j6433svzq39zqh0000gn/T/deerwester.mm\n",
      "2018-05-06 23:03:10,649 : INFO : accepted corpus with 9 documents, 13 features, 33 non-zero entries\n"
     ]
    },
    {
     "name": "stdout",
     "output_type": "stream",
     "text": [
      "Used files generated from first tutorial\n"
     ]
    }
   ],
   "source": [
    "from gensim import corpora, models, similarities\n",
    "if (os.path.exists(\"/var/folders/2m/d1x8p4k179j6433svzq39zqh0000gn/T/deerwester.dict\")):\n",
    "    dictionary = corpora.Dictionary.load('/var/folders/2m/d1x8p4k179j6433svzq39zqh0000gn/T/deerwester.dict')\n",
    "    corpus = corpora.MmCorpus('/var/folders/2m/d1x8p4k179j6433svzq39zqh0000gn/T/deerwester.mm')\n",
    "    print(\"Used files generated from first tutorial\")\n",
    "else:\n",
    "    print(\"Please run first tutorial to generate data set\")"
   ]
  },
  {
   "cell_type": "code",
   "execution_count": 47,
   "metadata": {},
   "outputs": [
    {
     "name": "stderr",
     "output_type": "stream",
     "text": [
      "2018-05-06 23:03:11,110 : INFO : collecting document frequencies\n",
      "2018-05-06 23:03:11,111 : INFO : PROGRESS: processing document #0\n",
      "2018-05-06 23:03:11,113 : INFO : calculating IDF weights for 9 documents and 12 features (33 matrix non-zeros)\n"
     ]
    }
   ],
   "source": [
    "tfidf = models.TfidfModel(corpus) # step 1 -- initialize a model"
   ]
  },
  {
   "cell_type": "code",
   "execution_count": 48,
   "metadata": {},
   "outputs": [
    {
     "data": {
      "text/plain": [
       "'\\nLatent Semantic Analysis or Latent Dirichlet Allocation\\nTake a look at the above analysis\\n'"
      ]
     },
     "execution_count": 48,
     "metadata": {},
     "output_type": "execute_result"
    }
   ],
   "source": [
    "\"\"\"\n",
    "Latent Semantic Analysis or Latent Dirichlet Allocation\n",
    "Take a look at the above analysis\n",
    "\"\"\"\n"
   ]
  },
  {
   "cell_type": "code",
   "execution_count": 49,
   "metadata": {},
   "outputs": [
    {
     "name": "stdout",
     "output_type": "stream",
     "text": [
      "{'computer': 0, 'human': 1, 'interface': 2, 'response': 3, 'survey': 4, 'system': 5, 'time': 6, 'user': 7, 'eps': 8, 'trees': 9, 'graph': 10, 'minors': 11, 'volume': 12}\n",
      "[(0, 0.363988296598431), (1, 0.9314035215412129)]\n"
     ]
    }
   ],
   "source": [
    "print(dictionary.token2id)\n",
    "doc_bow = [(0, 1), (1, 1)]\n",
    "print(tfidf[doc_bow]) # step 2 -- use the model to transform vectors\n"
   ]
  },
  {
   "cell_type": "code",
   "execution_count": 50,
   "metadata": {},
   "outputs": [
    {
     "name": "stdout",
     "output_type": "stream",
     "text": [
      "[(0, 0.4837107207386354), (1, 0.6188796080993902), (2, 0.6188796080993902)]\n",
      "[(0, 0.36137090629268726), (3, 0.4623529627861659), (4, 0.4623529627861659), (5, 0.3377131041977531), (6, 0.4623529627861659), (7, 0.3377131041977531)]\n",
      "[(2, 0.5710059809418182), (5, 0.4170757362022777), (7, 0.4170757362022777), (8, 0.5710059809418182)]\n",
      "[(1, 0.49182558987264147), (5, 0.7184811607083769), (8, 0.49182558987264147)]\n",
      "[(0, 0.2384389845229864), (3, 0.6101375014879464), (6, 0.6101375014879464), (7, 0.44565828749810027)]\n",
      "[(0, 0.4717501205285357), (9, 0.8817322857768746)]\n",
      "[(9, 0.7071067811865475), (10, 0.7071067811865475)]\n",
      "[(9, 0.4170757362022777), (10, 0.4170757362022777), (11, 0.5710059809418182), (12, 0.5710059809418182)]\n",
      "[(0, 0.20354377825230757), (4, 0.5208447458989542), (10, 0.38043683094981295), (11, 0.5208447458989542), (12, 0.5208447458989542)]\n"
     ]
    }
   ],
   "source": [
    "corpus\n",
    "corpus_tfidf = tfidf[corpus]\n",
    "for doc in corpus_tfidf:\n",
    "    print(doc)"
   ]
  },
  {
   "cell_type": "code",
   "execution_count": 51,
   "metadata": {
    "collapsed": true
   },
   "outputs": [],
   "source": [
    "#what is latent semantic indexing"
   ]
  },
  {
   "cell_type": "code",
   "execution_count": 52,
   "metadata": {},
   "outputs": [
    {
     "name": "stderr",
     "output_type": "stream",
     "text": [
      "2018-05-06 23:03:13,354 : INFO : using serial LSI version on this node\n",
      "2018-05-06 23:03:13,356 : INFO : updating model with new documents\n",
      "2018-05-06 23:03:13,357 : INFO : preparing a new chunk of documents\n",
      "2018-05-06 23:03:13,358 : INFO : using 100 extra samples and 2 power iterations\n",
      "2018-05-06 23:03:13,359 : INFO : 1st phase: constructing (13, 102) action matrix\n",
      "2018-05-06 23:03:13,361 : INFO : orthonormalizing (13, 102) action matrix\n",
      "2018-05-06 23:03:13,367 : INFO : 2nd phase: running dense svd on (13, 9) matrix\n",
      "2018-05-06 23:03:13,370 : INFO : computing the final decomposition\n",
      "2018-05-06 23:03:13,371 : INFO : keeping 2 factors (discarding 48.041% of energy spectrum)\n",
      "2018-05-06 23:03:13,372 : INFO : processed documents up to #9\n",
      "2018-05-06 23:03:13,373 : INFO : topic #0(1.595): 0.501*\"trees\" + 0.385*\"graph\" + 0.358*\"computer\" + 0.289*\"minors\" + 0.289*\"volume\" + 0.237*\"survey\" + 0.219*\"system\" + 0.211*\"user\" + 0.209*\"response\" + 0.209*\"time\"\n",
      "2018-05-06 23:03:13,374 : INFO : topic #1(1.461): 0.394*\"system\" + -0.390*\"trees\" + -0.331*\"graph\" + 0.314*\"user\" + 0.292*\"eps\" + 0.282*\"interface\" + 0.263*\"time\" + 0.263*\"response\" + 0.240*\"human\" + -0.222*\"minors\"\n"
     ]
    }
   ],
   "source": [
    "lsi = models.LsiModel(corpus_tfidf, id2word=dictionary, num_topics=2) # initialize an LSI transformation\n",
    "corpus_lsi = lsi[corpus_tfidf] # create a double wrapper over the original corpus: bow->tfidf->fold-in-lsi"
   ]
  },
  {
   "cell_type": "code",
   "execution_count": 53,
   "metadata": {},
   "outputs": [
    {
     "name": "stderr",
     "output_type": "stream",
     "text": [
      "2018-05-06 23:03:13,801 : INFO : topic #0(1.595): 0.501*\"trees\" + 0.385*\"graph\" + 0.358*\"computer\" + 0.289*\"minors\" + 0.289*\"volume\" + 0.237*\"survey\" + 0.219*\"system\" + 0.211*\"user\" + 0.209*\"response\" + 0.209*\"time\"\n",
      "2018-05-06 23:03:13,803 : INFO : topic #1(1.461): 0.394*\"system\" + -0.390*\"trees\" + -0.331*\"graph\" + 0.314*\"user\" + 0.292*\"eps\" + 0.282*\"interface\" + 0.263*\"time\" + 0.263*\"response\" + 0.240*\"human\" + -0.222*\"minors\"\n"
     ]
    },
    {
     "data": {
      "text/plain": [
       "[(0,\n",
       "  '0.501*\"trees\" + 0.385*\"graph\" + 0.358*\"computer\" + 0.289*\"minors\" + 0.289*\"volume\" + 0.237*\"survey\" + 0.219*\"system\" + 0.211*\"user\" + 0.209*\"response\" + 0.209*\"time\"'),\n",
       " (1,\n",
       "  '0.394*\"system\" + -0.390*\"trees\" + -0.331*\"graph\" + 0.314*\"user\" + 0.292*\"eps\" + 0.282*\"interface\" + 0.263*\"time\" + 0.263*\"response\" + 0.240*\"human\" + -0.222*\"minors\"')]"
      ]
     },
     "execution_count": 53,
     "metadata": {},
     "output_type": "execute_result"
    }
   ],
   "source": [
    "lsi.print_topics(2)"
   ]
  },
  {
   "cell_type": "code",
   "execution_count": 54,
   "metadata": {},
   "outputs": [
    {
     "name": "stdout",
     "output_type": "stream",
     "text": [
      "[(0, 0.36919500797500837), (1, 0.3960306877277954)]\n",
      "[(0, 0.5778556693487236), (1, 0.5589274223482708)]\n",
      "[(0, 0.3543323881148374), (1, 0.6227621035316967)]\n",
      "[(0, 0.29708759858768186), (1, 0.5447928179634745)]\n",
      "[(0, 0.4350774874150563), (1, 0.4972224754393858)]\n",
      "[(0, 0.6103109125984709), (1, -0.27267540142897545)]\n",
      "[(0, 0.6265098789910939), (1, -0.5099139292711011)]\n",
      "[(0, 0.6996348205819247), (1, -0.5542853128019527)]\n",
      "[(0, 0.6440117084335701), (1, -0.30179267896828305)]\n"
     ]
    }
   ],
   "source": [
    "for doc in corpus_lsi: # both bow->tfidf and tfidf->lsi transformations are actually executed here, on the fly\n",
    "    print(doc)"
   ]
  },
  {
   "cell_type": "code",
   "execution_count": 55,
   "metadata": {},
   "outputs": [
    {
     "name": "stderr",
     "output_type": "stream",
     "text": [
      "2018-05-06 23:03:14,750 : INFO : saving Projection object under /tmp/model.lsi.projection, separately None\n",
      "2018-05-06 23:03:14,753 : INFO : saved /tmp/model.lsi.projection\n",
      "2018-05-06 23:03:14,754 : INFO : saving LsiModel object under /tmp/model.lsi, separately None\n",
      "2018-05-06 23:03:14,755 : INFO : not storing attribute projection\n",
      "2018-05-06 23:03:14,756 : INFO : not storing attribute dispatcher\n",
      "2018-05-06 23:03:14,757 : INFO : saved /tmp/model.lsi\n",
      "2018-05-06 23:03:14,758 : INFO : loading LsiModel object from /tmp/model.lsi\n",
      "2018-05-06 23:03:14,759 : INFO : loading id2word recursively from /tmp/model.lsi.id2word.* with mmap=None\n",
      "2018-05-06 23:03:14,760 : INFO : setting ignored attribute projection to None\n",
      "2018-05-06 23:03:14,761 : INFO : setting ignored attribute dispatcher to None\n",
      "2018-05-06 23:03:14,761 : INFO : loaded /tmp/model.lsi\n",
      "2018-05-06 23:03:14,762 : INFO : loading LsiModel object from /tmp/model.lsi.projection\n",
      "2018-05-06 23:03:14,764 : INFO : loaded /tmp/model.lsi.projection\n"
     ]
    }
   ],
   "source": [
    "lsi.save('/tmp/model.lsi') # same for tfidf, lda, ...\n",
    "lsi = models.LsiModel.load('/tmp/model.lsi')"
   ]
  },
  {
   "cell_type": "code",
   "execution_count": 56,
   "metadata": {},
   "outputs": [
    {
     "name": "stderr",
     "output_type": "stream",
     "text": [
      "2018-05-06 23:03:15,194 : INFO : collecting document frequencies\n",
      "2018-05-06 23:03:15,195 : INFO : PROGRESS: processing document #0\n",
      "2018-05-06 23:03:15,196 : INFO : calculating IDF weights for 9 documents and 12 features (33 matrix non-zeros)\n"
     ]
    }
   ],
   "source": [
    "#available transformation\n",
    "model = models.TfidfModel(corpus, normalize=True)"
   ]
  },
  {
   "cell_type": "code",
   "execution_count": 57,
   "metadata": {},
   "outputs": [
    {
     "name": "stderr",
     "output_type": "stream",
     "text": [
      "2018-05-06 23:03:15,609 : INFO : using serial LSI version on this node\n",
      "2018-05-06 23:03:15,610 : INFO : updating model with new documents\n",
      "2018-05-06 23:03:15,612 : INFO : preparing a new chunk of documents\n",
      "2018-05-06 23:03:15,613 : INFO : using 100 extra samples and 2 power iterations\n",
      "2018-05-06 23:03:15,614 : INFO : 1st phase: constructing (13, 400) action matrix\n",
      "2018-05-06 23:03:15,615 : INFO : orthonormalizing (13, 400) action matrix\n",
      "2018-05-06 23:03:15,617 : INFO : 2nd phase: running dense svd on (13, 9) matrix\n",
      "2018-05-06 23:03:15,618 : INFO : computing the final decomposition\n",
      "2018-05-06 23:03:15,618 : INFO : keeping 9 factors (discarding 0.000% of energy spectrum)\n",
      "2018-05-06 23:03:15,619 : INFO : processed documents up to #9\n",
      "2018-05-06 23:03:15,620 : INFO : topic #0(1.595): 0.501*\"trees\" + 0.385*\"graph\" + 0.358*\"computer\" + 0.289*\"minors\" + 0.289*\"volume\" + 0.237*\"survey\" + 0.219*\"system\" + 0.211*\"user\" + 0.209*\"response\" + 0.209*\"time\"\n",
      "2018-05-06 23:03:15,622 : INFO : topic #1(1.461): 0.394*\"system\" + -0.390*\"trees\" + -0.331*\"graph\" + 0.314*\"user\" + 0.292*\"eps\" + 0.282*\"interface\" + 0.263*\"time\" + 0.263*\"response\" + 0.240*\"human\" + -0.222*\"minors\"\n",
      "2018-05-06 23:03:15,622 : INFO : topic #2(1.198): 0.453*\"time\" + 0.453*\"response\" + -0.370*\"eps\" + -0.360*\"human\" + -0.341*\"interface\" + -0.288*\"system\" + 0.212*\"survey\" + 0.203*\"user\" + -0.151*\"trees\" + 0.102*\"computer\"\n",
      "2018-05-06 23:03:15,623 : INFO : topic #3(1.059): 0.603*\"trees\" + -0.460*\"volume\" + -0.460*\"minors\" + -0.306*\"survey\" + 0.246*\"computer\" + -0.140*\"system\" + -0.121*\"graph\" + -0.115*\"eps\" + 0.072*\"response\" + 0.072*\"time\"\n",
      "2018-05-06 23:03:15,624 : INFO : topic #4(0.881): -0.486*\"computer\" + 0.430*\"system\" + -0.397*\"interface\" + -0.380*\"human\" + 0.366*\"eps\" + 0.206*\"trees\" + 0.180*\"user\" + 0.165*\"graph\" + -0.102*\"volume\" + -0.102*\"minors\"\n"
     ]
    }
   ],
   "source": [
    "model = models.LsiModel(corpus_tfidf, id2word=dictionary, num_topics=300)"
   ]
  },
  {
   "cell_type": "code",
   "execution_count": 58,
   "metadata": {},
   "outputs": [
    {
     "name": "stderr",
     "output_type": "stream",
     "text": [
      "2018-05-06 23:03:16,056 : INFO : using symmetric alpha at 0.01\n",
      "2018-05-06 23:03:16,057 : INFO : using symmetric eta at 0.01\n",
      "2018-05-06 23:03:16,058 : INFO : using serial LDA version on this node\n",
      "2018-05-06 23:03:16,061 : INFO : running online (single-pass) LDA training, 100 topics, 1 passes over the supplied corpus of 9 documents, updating model once every 9 documents, evaluating perplexity every 9 documents, iterating 50x with a convergence threshold of 0.001000\n",
      "2018-05-06 23:03:16,062 : WARNING : too few updates, training might not converge; consider increasing the number of passes or iterations to improve accuracy\n",
      "2018-05-06 23:03:16,068 : INFO : -109.738 per-word bound, 1082282361006363225477246061903872.0 perplexity estimate based on a held-out corpus of 9 documents with 36 words\n",
      "2018-05-06 23:03:16,069 : INFO : PROGRESS: pass 0, at document #9/9\n",
      "2018-05-06 23:03:16,073 : INFO : topic #10 (0.010): 0.077*\"user\" + 0.077*\"time\" + 0.077*\"minors\" + 0.077*\"graph\" + 0.077*\"trees\" + 0.077*\"eps\" + 0.077*\"computer\" + 0.077*\"interface\" + 0.077*\"survey\" + 0.077*\"human\"\n",
      "2018-05-06 23:03:16,074 : INFO : topic #45 (0.010): 0.077*\"user\" + 0.077*\"time\" + 0.077*\"minors\" + 0.077*\"graph\" + 0.077*\"trees\" + 0.077*\"eps\" + 0.077*\"computer\" + 0.077*\"interface\" + 0.077*\"survey\" + 0.077*\"human\"\n",
      "2018-05-06 23:03:16,075 : INFO : topic #70 (0.010): 0.077*\"user\" + 0.077*\"time\" + 0.077*\"minors\" + 0.077*\"graph\" + 0.077*\"trees\" + 0.077*\"eps\" + 0.077*\"computer\" + 0.077*\"interface\" + 0.077*\"survey\" + 0.077*\"human\"\n",
      "2018-05-06 23:03:16,076 : INFO : topic #86 (0.010): 0.077*\"user\" + 0.077*\"time\" + 0.077*\"minors\" + 0.077*\"graph\" + 0.077*\"trees\" + 0.077*\"eps\" + 0.077*\"computer\" + 0.077*\"interface\" + 0.077*\"survey\" + 0.077*\"human\"\n",
      "2018-05-06 23:03:16,077 : INFO : topic #88 (0.010): 0.077*\"user\" + 0.077*\"time\" + 0.077*\"minors\" + 0.077*\"graph\" + 0.077*\"trees\" + 0.077*\"eps\" + 0.077*\"computer\" + 0.077*\"interface\" + 0.077*\"survey\" + 0.077*\"human\"\n",
      "2018-05-06 23:03:16,078 : INFO : topic diff=87.727654, rho=1.000000\n"
     ]
    }
   ],
   "source": [
    "model = models.LdaModel(corpus, id2word=dictionary, num_topics=100)"
   ]
  },
  {
   "cell_type": "code",
   "execution_count": 59,
   "metadata": {},
   "outputs": [
    {
     "name": "stderr",
     "output_type": "stream",
     "text": [
      "2018-05-06 23:03:16,516 : INFO : (0, '0.203*system + 0.182*time + 0.120*response + 0.114*user + 0.110*trees + 0.108*eps + 0.064*interface + 0.033*survey + 0.032*volume + 0.017*computer')\n",
      "2018-05-06 23:03:16,517 : INFO : (1, '0.281*interface + 0.164*trees + 0.131*volume + 0.092*response + 0.072*graph + 0.065*eps + 0.044*time + 0.037*minors + 0.036*computer + 0.025*human')\n",
      "2018-05-06 23:03:16,518 : INFO : (2, '0.170*human + 0.163*eps + 0.163*time + 0.117*graph + 0.114*user + 0.090*interface + 0.090*computer + 0.040*survey + 0.018*trees + 0.015*minors')\n",
      "2018-05-06 23:03:16,519 : INFO : (3, '0.202*graph + 0.198*human + 0.150*user + 0.102*response + 0.068*trees + 0.055*minors + 0.052*survey + 0.048*interface + 0.046*volume + 0.032*computer')\n",
      "2018-05-06 23:03:16,520 : INFO : (4, '0.233*interface + 0.197*minors + 0.091*user + 0.083*survey + 0.081*volume + 0.079*graph + 0.062*eps + 0.053*time + 0.040*response + 0.038*human')\n",
      "2018-05-06 23:03:16,521 : INFO : (5, '0.263*minors + 0.172*user + 0.160*computer + 0.069*response + 0.065*interface + 0.061*human + 0.058*volume + 0.049*trees + 0.046*graph + 0.024*system')\n",
      "2018-05-06 23:03:16,522 : INFO : (6, '0.334*interface + 0.208*survey + 0.155*trees + 0.088*eps + 0.069*user + 0.068*time + 0.026*graph + 0.020*computer + 0.019*system + 0.006*volume')\n",
      "2018-05-06 23:03:16,523 : INFO : (7, '0.169*volume + 0.162*minors + 0.132*response + 0.117*interface + 0.103*computer + 0.077*trees + 0.058*survey + 0.057*user + 0.035*eps + 0.033*system')\n",
      "2018-05-06 23:03:16,524 : INFO : (8, '0.307*time + 0.173*human + 0.146*system + 0.101*interface + 0.081*trees + 0.054*graph + 0.036*minors + 0.024*survey + 0.021*user + 0.020*computer')\n",
      "2018-05-06 23:03:16,524 : INFO : (9, '0.369*graph + 0.267*interface + 0.067*user + 0.066*eps + 0.061*response + 0.047*time + 0.030*human + 0.023*minors + 0.022*trees + 0.021*computer')\n",
      "2018-05-06 23:03:16,525 : INFO : (10, '0.376*system + 0.117*minors + 0.103*computer + 0.082*user + 0.072*time + 0.062*graph + 0.058*eps + 0.043*interface + 0.034*trees + 0.018*human')\n",
      "2018-05-06 23:03:16,526 : INFO : (11, '0.196*volume + 0.162*user + 0.109*human + 0.107*computer + 0.100*survey + 0.071*interface + 0.052*response + 0.047*eps + 0.044*minors + 0.043*graph')\n",
      "2018-05-06 23:03:16,527 : INFO : (12, '0.262*time + 0.197*survey + 0.173*minors + 0.127*computer + 0.080*response + 0.075*eps + 0.042*volume + 0.017*graph + 0.010*user + 0.009*human')\n",
      "2018-05-06 23:03:16,528 : INFO : (13, '0.444*user + 0.167*eps + 0.142*response + 0.080*interface + 0.046*system + 0.036*minors + 0.032*human + 0.030*time + 0.009*graph + 0.004*computer')\n",
      "2018-05-06 23:03:16,529 : INFO : (14, '0.281*time + 0.140*response + 0.138*trees + 0.111*minors + 0.109*system + 0.069*eps + 0.044*volume + 0.040*survey + 0.028*graph + 0.023*user')\n",
      "2018-05-06 23:03:16,530 : INFO : (15, '0.295*survey + 0.240*eps + 0.143*volume + 0.072*response + 0.070*computer + 0.051*user + 0.045*time + 0.044*interface + 0.027*human + 0.008*system')\n",
      "2018-05-06 23:03:16,530 : INFO : (16, '0.163*survey + 0.140*human + 0.128*trees + 0.122*system + 0.120*eps + 0.098*time + 0.072*minors + 0.049*computer + 0.039*graph + 0.029*user')\n",
      "2018-05-06 23:03:16,531 : INFO : (17, '0.178*survey + 0.123*system + 0.104*minors + 0.098*interface + 0.095*human + 0.084*response + 0.084*time + 0.061*eps + 0.061*trees + 0.048*computer')\n",
      "2018-05-06 23:03:16,532 : INFO : (18, '0.280*graph + 0.184*user + 0.133*survey + 0.102*human + 0.092*minors + 0.053*interface + 0.036*eps + 0.034*trees + 0.029*computer + 0.028*response')\n",
      "2018-05-06 23:03:16,533 : INFO : (19, '0.188*volume + 0.171*time + 0.110*interface + 0.108*trees + 0.104*user + 0.075*human + 0.055*eps + 0.050*system + 0.042*minors + 0.039*response')\n"
     ]
    }
   ],
   "source": [
    "model = models.HdpModel(corpus, id2word=dictionary)"
   ]
  },
  {
   "cell_type": "code",
   "execution_count": 60,
   "metadata": {},
   "outputs": [
    {
     "name": "stderr",
     "output_type": "stream",
     "text": [
      "2018-05-06 23:03:16,949 : INFO : loading Dictionary object from /var/folders/2m/d1x8p4k179j6433svzq39zqh0000gn/T/deerwester.dict\n",
      "2018-05-06 23:03:16,951 : INFO : loaded /var/folders/2m/d1x8p4k179j6433svzq39zqh0000gn/T/deerwester.dict\n",
      "2018-05-06 23:03:16,952 : INFO : loaded corpus index from /var/folders/2m/d1x8p4k179j6433svzq39zqh0000gn/T/deerwester.mm.index\n",
      "2018-05-06 23:03:16,953 : INFO : initializing cython corpus reader from /var/folders/2m/d1x8p4k179j6433svzq39zqh0000gn/T/deerwester.mm\n",
      "2018-05-06 23:03:16,954 : INFO : accepted corpus with 9 documents, 13 features, 33 non-zero entries\n"
     ]
    },
    {
     "name": "stdout",
     "output_type": "stream",
     "text": [
      "MmCorpus(9 documents, 13 features, 33 non-zero entries)\n"
     ]
    }
   ],
   "source": [
    "#similary interface\n",
    "from gensim import corpora, models, similarities\n",
    "dictionary = corpora.Dictionary.load('/var/folders/2m/d1x8p4k179j6433svzq39zqh0000gn/T/deerwester.dict')\n",
    "corpus = corpora.MmCorpus('/var/folders/2m/d1x8p4k179j6433svzq39zqh0000gn/T/deerwester.mm') # comes from the first tutorial, \"From strings to vectors\"\n",
    "print(corpus)"
   ]
  },
  {
   "cell_type": "code",
   "execution_count": 61,
   "metadata": {},
   "outputs": [
    {
     "name": "stderr",
     "output_type": "stream",
     "text": [
      "2018-05-06 23:03:17,389 : INFO : using serial LSI version on this node\n",
      "2018-05-06 23:03:17,390 : INFO : updating model with new documents\n",
      "2018-05-06 23:03:17,391 : INFO : preparing a new chunk of documents\n",
      "2018-05-06 23:03:17,392 : INFO : using 100 extra samples and 2 power iterations\n",
      "2018-05-06 23:03:17,393 : INFO : 1st phase: constructing (13, 102) action matrix\n",
      "2018-05-06 23:03:17,394 : INFO : orthonormalizing (13, 102) action matrix\n",
      "2018-05-06 23:03:17,395 : INFO : 2nd phase: running dense svd on (13, 9) matrix\n",
      "2018-05-06 23:03:17,396 : INFO : computing the final decomposition\n",
      "2018-05-06 23:03:17,397 : INFO : keeping 2 factors (discarding 38.462% of energy spectrum)\n",
      "2018-05-06 23:03:17,398 : INFO : processed documents up to #9\n",
      "2018-05-06 23:03:17,400 : INFO : topic #0(4.171): 0.736*\"computer\" + 0.313*\"system\" + 0.300*\"user\" + 0.250*\"response\" + 0.250*\"time\" + 0.235*\"survey\" + 0.152*\"human\" + 0.152*\"interface\" + 0.104*\"graph\" + 0.100*\"eps\"\n",
      "2018-05-06 23:03:17,401 : INFO : topic #1(2.906): -0.522*\"system\" + 0.421*\"graph\" + 0.335*\"volume\" + 0.335*\"minors\" + -0.314*\"eps\" + 0.313*\"trees\" + 0.190*\"computer\" + -0.171*\"human\" + -0.164*\"user\" + 0.141*\"survey\"\n"
     ]
    }
   ],
   "source": [
    "lsi = models.LsiModel(corpus, id2word=dictionary, num_topics=2)"
   ]
  },
  {
   "cell_type": "code",
   "execution_count": 62,
   "metadata": {},
   "outputs": [
    {
     "name": "stdout",
     "output_type": "stream",
     "text": [
      "[(0, 0.8880980919275514), (1, 0.019222306801064376)]\n"
     ]
    }
   ],
   "source": [
    "doc = \"Human computer interaction\"\n",
    "vec_bow = dictionary.doc2bow(doc.lower().split())\n",
    "vec_lsi = lsi[vec_bow] # convert the query to LSI space\n",
    "print(vec_lsi)"
   ]
  },
  {
   "cell_type": "code",
   "execution_count": 63,
   "metadata": {},
   "outputs": [
    {
     "name": "stderr",
     "output_type": "stream",
     "text": [
      "2018-05-06 23:03:18,268 : WARNING : scanning corpus to determine the number of features (consider setting `num_features` explicitly)\n",
      "2018-05-06 23:03:18,270 : INFO : creating matrix with 9 documents and 2 features\n"
     ]
    }
   ],
   "source": [
    "index = similarities.MatrixSimilarity(lsi[corpus]) # transform corpus to LSI space and index it"
   ]
  },
  {
   "cell_type": "code",
   "execution_count": 64,
   "metadata": {},
   "outputs": [
    {
     "name": "stderr",
     "output_type": "stream",
     "text": [
      "2018-05-06 23:03:18,520 : INFO : saving MatrixSimilarity object under /tmp/deerwester.index, separately None\n",
      "2018-05-06 23:03:18,522 : INFO : saved /tmp/deerwester.index\n",
      "2018-05-06 23:03:18,523 : INFO : loading MatrixSimilarity object from /tmp/deerwester.index\n",
      "2018-05-06 23:03:18,524 : INFO : loaded /tmp/deerwester.index\n"
     ]
    }
   ],
   "source": [
    "index.save('/tmp/deerwester.index')\n",
    "index = similarities.MatrixSimilarity.load('/tmp/deerwester.index')"
   ]
  },
  {
   "cell_type": "code",
   "execution_count": 65,
   "metadata": {},
   "outputs": [
    {
     "name": "stdout",
     "output_type": "stream",
     "text": [
      "[(0, 0.9996343), (1, 0.9947771), (2, 0.59238845), (3, 0.47879088), (4, 0.99895525), (5, 0.8620731), (6, 0.26277637), (7, 0.2762391), (8, 0.67984235)]\n"
     ]
    }
   ],
   "source": [
    "sims = index[vec_lsi] # perform a similarity query against the corpus\n",
    "print(list(enumerate(sims))) # print (document_number, document_similarity) 2-tuples"
   ]
  },
  {
   "cell_type": "code",
   "execution_count": 66,
   "metadata": {},
   "outputs": [
    {
     "name": "stdout",
     "output_type": "stream",
     "text": [
      "[(0, 0.9996343), (4, 0.99895525), (1, 0.9947771), (5, 0.8620731), (8, 0.67984235), (2, 0.59238845), (3, 0.47879088), (7, 0.2762391), (6, 0.26277637)]\n"
     ]
    }
   ],
   "source": [
    "sims = sorted(enumerate(sims), key=lambda item: -item[1])\n",
    "print(sims) # print sorted (document number, similarity score) 2-tuples"
   ]
  },
  {
   "cell_type": "code",
   "execution_count": null,
   "metadata": {},
   "outputs": [],
   "source": []
  },
  {
   "cell_type": "code",
   "execution_count": 67,
   "metadata": {
    "collapsed": true
   },
   "outputs": [],
   "source": [
    "#Doc2Vec"
   ]
  },
  {
   "cell_type": "code",
   "execution_count": 68,
   "metadata": {},
   "outputs": [
    {
     "name": "stderr",
     "output_type": "stream",
     "text": [
      "/anaconda/lib/python3.6/site-packages/gensim/models/doc2vec.py:366: UserWarning: The parameter `size` is deprecated, will be removed in 4.0.0, use `vector_size` instead.\n",
      "  warnings.warn(\"The parameter `size` is deprecated, will be removed in 4.0.0, use `vector_size` instead.\")\n",
      "2018-05-06 23:03:22,179 : INFO : collecting all words and their counts\n"
     ]
    },
    {
     "ename": "AttributeError",
     "evalue": "'list' object has no attribute 'words'",
     "output_type": "error",
     "traceback": [
      "\u001b[0;31m---------------------------------------------------------------------------\u001b[0m",
      "\u001b[0;31mAttributeError\u001b[0m                            Traceback (most recent call last)",
      "\u001b[0;32m<ipython-input-68-000de628755a>\u001b[0m in \u001b[0;36m<module>\u001b[0;34m()\u001b[0m\n\u001b[1;32m      1\u001b[0m \u001b[0mDoc2Vec\u001b[0m \u001b[0;34m=\u001b[0m \u001b[0mmodels\u001b[0m\u001b[0;34m.\u001b[0m\u001b[0mDoc2Vec\u001b[0m\u001b[0;34m\u001b[0m\u001b[0m\n\u001b[0;32m----> 2\u001b[0;31m \u001b[0mmodel\u001b[0m \u001b[0;34m=\u001b[0m \u001b[0mDoc2Vec\u001b[0m\u001b[0;34m(\u001b[0m\u001b[0mtexts\u001b[0m\u001b[0;34m,\u001b[0m \u001b[0msize\u001b[0m\u001b[0;34m=\u001b[0m\u001b[0;36m100\u001b[0m\u001b[0;34m,\u001b[0m \u001b[0mwindow\u001b[0m\u001b[0;34m=\u001b[0m\u001b[0;36m8\u001b[0m\u001b[0;34m,\u001b[0m \u001b[0mmin_count\u001b[0m\u001b[0;34m=\u001b[0m\u001b[0;36m5\u001b[0m\u001b[0;34m,\u001b[0m \u001b[0mworkers\u001b[0m\u001b[0;34m=\u001b[0m\u001b[0;36m4\u001b[0m\u001b[0;34m)\u001b[0m\u001b[0;34m\u001b[0m\u001b[0m\n\u001b[0m",
      "\u001b[0;32m/anaconda/lib/python3.6/site-packages/gensim/models/doc2vec.py\u001b[0m in \u001b[0;36m__init__\u001b[0;34m(self, documents, dm_mean, dm, dbow_words, dm_concat, dm_tag_count, docvecs, docvecs_mapfile, comment, trim_rule, callbacks, **kwargs)\u001b[0m\n\u001b[1;32m    401\u001b[0m             \u001b[0;32mif\u001b[0m \u001b[0misinstance\u001b[0m\u001b[0;34m(\u001b[0m\u001b[0mdocuments\u001b[0m\u001b[0;34m,\u001b[0m \u001b[0mGeneratorType\u001b[0m\u001b[0;34m)\u001b[0m\u001b[0;34m:\u001b[0m\u001b[0;34m\u001b[0m\u001b[0m\n\u001b[1;32m    402\u001b[0m                 \u001b[0;32mraise\u001b[0m \u001b[0mTypeError\u001b[0m\u001b[0;34m(\u001b[0m\u001b[0;34m\"You can't pass a generator as the documents argument. Try an iterator.\"\u001b[0m\u001b[0;34m)\u001b[0m\u001b[0;34m\u001b[0m\u001b[0m\n\u001b[0;32m--> 403\u001b[0;31m             \u001b[0mself\u001b[0m\u001b[0;34m.\u001b[0m\u001b[0mbuild_vocab\u001b[0m\u001b[0;34m(\u001b[0m\u001b[0mdocuments\u001b[0m\u001b[0;34m,\u001b[0m \u001b[0mtrim_rule\u001b[0m\u001b[0;34m=\u001b[0m\u001b[0mtrim_rule\u001b[0m\u001b[0;34m)\u001b[0m\u001b[0;34m\u001b[0m\u001b[0m\n\u001b[0m\u001b[1;32m    404\u001b[0m             self.train(\n\u001b[1;32m    405\u001b[0m                 \u001b[0mdocuments\u001b[0m\u001b[0;34m,\u001b[0m \u001b[0mtotal_examples\u001b[0m\u001b[0;34m=\u001b[0m\u001b[0mself\u001b[0m\u001b[0;34m.\u001b[0m\u001b[0mcorpus_count\u001b[0m\u001b[0;34m,\u001b[0m \u001b[0mepochs\u001b[0m\u001b[0;34m=\u001b[0m\u001b[0mself\u001b[0m\u001b[0;34m.\u001b[0m\u001b[0mepochs\u001b[0m\u001b[0;34m,\u001b[0m\u001b[0;34m\u001b[0m\u001b[0m\n",
      "\u001b[0;32m/anaconda/lib/python3.6/site-packages/gensim/models/doc2vec.py\u001b[0m in \u001b[0;36mbuild_vocab\u001b[0;34m(self, documents, update, progress_per, keep_raw_vocab, trim_rule, **kwargs)\u001b[0m\n\u001b[1;32m    727\u001b[0m         \"\"\"\n\u001b[1;32m    728\u001b[0m         total_words, corpus_count = self.vocabulary.scan_vocab(\n\u001b[0;32m--> 729\u001b[0;31m             documents, self.docvecs, progress_per=progress_per, trim_rule=trim_rule)\n\u001b[0m\u001b[1;32m    730\u001b[0m         \u001b[0mself\u001b[0m\u001b[0;34m.\u001b[0m\u001b[0mcorpus_count\u001b[0m \u001b[0;34m=\u001b[0m \u001b[0mcorpus_count\u001b[0m\u001b[0;34m\u001b[0m\u001b[0m\n\u001b[1;32m    731\u001b[0m         report_values = self.vocabulary.prepare_vocab(\n",
      "\u001b[0;32m/anaconda/lib/python3.6/site-packages/gensim/models/doc2vec.py\u001b[0m in \u001b[0;36mscan_vocab\u001b[0;34m(self, documents, docvecs, progress_per, trim_rule)\u001b[0m\n\u001b[1;32m    807\u001b[0m         \u001b[0;32mfor\u001b[0m \u001b[0mdocument_no\u001b[0m\u001b[0;34m,\u001b[0m \u001b[0mdocument\u001b[0m \u001b[0;32min\u001b[0m \u001b[0menumerate\u001b[0m\u001b[0;34m(\u001b[0m\u001b[0mdocuments\u001b[0m\u001b[0;34m)\u001b[0m\u001b[0;34m:\u001b[0m\u001b[0;34m\u001b[0m\u001b[0m\n\u001b[1;32m    808\u001b[0m             \u001b[0;32mif\u001b[0m \u001b[0;32mnot\u001b[0m \u001b[0mchecked_string_types\u001b[0m\u001b[0;34m:\u001b[0m\u001b[0;34m\u001b[0m\u001b[0m\n\u001b[0;32m--> 809\u001b[0;31m                 \u001b[0;32mif\u001b[0m \u001b[0misinstance\u001b[0m\u001b[0;34m(\u001b[0m\u001b[0mdocument\u001b[0m\u001b[0;34m.\u001b[0m\u001b[0mwords\u001b[0m\u001b[0;34m,\u001b[0m \u001b[0mstring_types\u001b[0m\u001b[0;34m)\u001b[0m\u001b[0;34m:\u001b[0m\u001b[0;34m\u001b[0m\u001b[0m\n\u001b[0m\u001b[1;32m    810\u001b[0m                     logger.warning(\n\u001b[1;32m    811\u001b[0m                         \u001b[0;34m\"Each 'words' should be a list of words (usually unicode strings). \"\u001b[0m\u001b[0;34m\u001b[0m\u001b[0m\n",
      "\u001b[0;31mAttributeError\u001b[0m: 'list' object has no attribute 'words'"
     ]
    }
   ],
   "source": [
    "Doc2Vec = models.Doc2Vec\n",
    "model = Doc2Vec(texts, size=100, window=8, min_count=5, workers=4)"
   ]
  },
  {
   "cell_type": "code",
   "execution_count": null,
   "metadata": {
    "collapsed": true
   },
   "outputs": [],
   "source": []
  },
  {
   "cell_type": "code",
   "execution_count": 69,
   "metadata": {},
   "outputs": [
    {
     "name": "stderr",
     "output_type": "stream",
     "text": [
      "2018-05-06 23:04:48,465 : INFO : Processing provided word frequencies\n",
      "2018-05-06 23:04:48,467 : INFO : collected 2 different raw word, with total frequency of 35\n",
      "2018-05-06 23:04:48,467 : INFO : Loading a fresh vocabulary\n",
      "2018-05-06 23:04:48,468 : INFO : min_count=5 retains 2 unique words (100% of original 2, drops 0)\n",
      "2018-05-06 23:04:48,470 : INFO : min_count=5 leaves 35 word corpus (100% of original 35, drops 0)\n",
      "2018-05-06 23:04:48,471 : INFO : deleting the raw counts dictionary of 2 items\n",
      "2018-05-06 23:04:48,472 : INFO : sample=0.001 downsamples 2 most-common words\n",
      "2018-05-06 23:04:48,473 : INFO : downsampling leaves estimated 1 word corpus (4.7% of prior 35)\n",
      "2018-05-06 23:04:48,474 : INFO : estimated required memory for 2 words and 100 dimensions: 2600 bytes\n",
      "2018-05-06 23:04:48,475 : INFO : resetting layer weights\n"
     ]
    }
   ],
   "source": [
    "from gensim.models.word2vec import Word2Vec\n",
    "model= Word2Vec()\n",
    "model.build_vocab_from_freq({\"Word1\": 15, \"Word2\": 20})"
   ]
  },
  {
   "cell_type": "code",
   "execution_count": 147,
   "metadata": {
    "collapsed": true
   },
   "outputs": [],
   "source": [
    "# http://linanqiu.github.io/2015/10/07/word2vec-sentiment/\n",
    "# gensim modules/ take a look at this later\n",
    "from gensim import utils\n",
    "from gensim.models.doc2vec import LabeledSentence\n",
    "from gensim.models import Doc2Vec\n",
    "# numpy\n",
    "import numpy\n",
    "# random\n",
    "from random import shuffle\n",
    "# classifier\n",
    "from sklearn.linear_model import LogisticRegression"
   ]
  },
  {
   "cell_type": "code",
   "execution_count": 148,
   "metadata": {},
   "outputs": [],
   "source": [
    "#shivi code on sentiment analysis\n",
    "import re\n",
    "import itertools\n",
    "from __future__ import print_function\n",
    "import pandas as pd\n",
    "import datetime as dt\n",
    "import numpy as np\n",
    "import nltk\n",
    "import string\n",
    "import scipy.sparse as sparse\n",
    "import seaborn as sns\n",
    "import statsmodels.api as sm\n",
    "import statsmodels.formula.api as smf\n",
    "import matplotlib.pyplot as plt\n",
    "\n",
    "%matplotlib inline\n",
    "plt.style.use('seaborn-white')\n",
    "\n",
    "re_spaces = re.compile(r'\\s+')\n",
    "\n",
    "from mpl_toolkits.mplot3d import axes3d"
   ]
  },
  {
   "cell_type": "code",
   "execution_count": 149,
   "metadata": {},
   "outputs": [],
   "source": [
    "def cleaned_reviews(x):\n",
    "    #return(''.join(re.sub('[^a-zA-Z_@]', ' ', x)))\n",
    "    return (x.replace(':',' ').lower().replace('\\r',' ').replace('!',' ').replace('\\n',' '))"
   ]
  },
  {
   "cell_type": "code",
   "execution_count": 150,
   "metadata": {
    "collapsed": true
   },
   "outputs": [],
   "source": [
    "import spacy\n",
    "import en_core_web_sm\n",
    "\n",
    "nlp = en_core_web_sm.load()"
   ]
  },
  {
   "cell_type": "code",
   "execution_count": 151,
   "metadata": {},
   "outputs": [
    {
     "name": "stdout",
     "output_type": "stream",
     "text": [
      "[nltk_data] Downloading package vader_lexicon to\n",
      "[nltk_data]     /Users/pouria/nltk_data...\n",
      "[nltk_data]   Package vader_lexicon is already up-to-date!\n"
     ]
    }
   ],
   "source": [
    "from nltk.corpus import stopwords\n",
    "from nltk.collocations import BigramCollocationFinder\n",
    "from nltk.metrics import BigramAssocMeasures\n",
    "import nltk\n",
    "nltk.download('vader_lexicon')\n",
    "from nltk.sentiment.vader import SentimentIntensityAnalyzer\n",
    "analyser = SentimentIntensityAnalyzer()\n",
    "\n",
    "from nltk.tokenize import RegexpTokenizer\n",
    "def get_bigram_likelihood(statements, freq_filter=3, nbest=200):\n",
    "    \"\"\"\n",
    "    Returns n (likelihood ratio) bi-grams from a group of documents\n",
    "    :param        statements: list of strings\n",
    "    :param output_file: output path for saved file\n",
    "    :param freq_filter: filter for # of appearances in bi-gram\n",
    "    :param       nbest: likelihood ratio for bi-grams\n",
    "    \"\"\"\n",
    "\n",
    "    #words = list()\n",
    "    #tokenize sentence into words\n",
    "    #for statement in statements:\n",
    "        # remove non-words\n",
    "    tokenizer = RegexpTokenizer(r'\\w+')\n",
    "    words = tokenizer.tokenize(statements)\n",
    "\n",
    "    bigram_measures = nltk.collocations.BigramAssocMeasures()\n",
    "    bigram_finder = BigramCollocationFinder.from_words(words)\n",
    "\n",
    "    # only bi-grams that appear n+ times\n",
    "    bigram_finder.apply_freq_filter(freq_filter)\n",
    "\n",
    "    # TODO: use custom stop words\n",
    "    bigram_finder.apply_word_filter(lambda w: len(w) < 3 or w.lower() in nltk.corpus.stopwords.words('english'))\n",
    "\n",
    "    #bigram_results = bigram_finder.nbest(bigram_measures.likelihood_ratio, nbest)\n",
    "\n",
    "    return bigram_finder.nbest(bigram_measures.likelihood_ratio, nbest)\n",
    "\n",
    "#bigram_finder.score_ngrams(bigram_measures.likelihood_ratio)"
   ]
  },
  {
   "cell_type": "code",
   "execution_count": 152,
   "metadata": {},
   "outputs": [
    {
     "name": "stdout",
     "output_type": "stream",
     "text": [
      "Index(['Unnamed: 0', 'Ratings', 'Reviews'], dtype='object')\n"
     ]
    }
   ],
   "source": [
    "Bose = pd.read_csv('All_Data.txt')\n",
    "print(Bose.columns)\n",
    "Bose = Bose.rename(index=str, columns={\"Unnamed: 0\": \"ID\"})\n",
    "Bose['Reviews'] = Bose['Reviews'].apply(lambda x : cleaned_reviews(str(x)))\n",
    "bose_data = Bose['Reviews'].tolist()\n",
    "bose_data = ''.join(bose_data)\n"
   ]
  },
  {
   "cell_type": "code",
   "execution_count": 153,
   "metadata": {
    "collapsed": true
   },
   "outputs": [],
   "source": [
    "bose_bigrams = get_bigram_likelihood(bose_data, freq_filter=3, nbest=200 )"
   ]
  },
  {
   "cell_type": "code",
   "execution_count": 216,
   "metadata": {},
   "outputs": [],
   "source": [
    "bigrams = [('sound', 'quality'), ('battery', 'life'), ('customer', 'service'), ('noise', 'cancelling'), ('ear', 'buds'), ('noise', 'canceling'), ('outside', 'noise'), ('blue', 'tooth'), ('noise', 'cancellation'), ('build', 'quality'), ('long', 'time'), ('head', 'phones'), ('price', 'point'), ('high', 'end'), ('phone', 'calls'), ('volume', 'control'), ('second', 'pair'), ('light', 'weight'), ('foam', 'tips'), ('noise', 'isolation'), ('ear', 'pieces'), ('battery', 'lasts'), ('sound', 'isolation'), ('low', 'end'), ('high', 'quality'), ('ear', 'pieces'), ('ear', 'canals'), ('long', 'periods'), ('background', 'noise'), ('ear', 'monitors'), ('price', 'range'), ('little', 'bit'), ('bass', 'response'), ('new', 'pair'), ('mid', 'range'), ('audio', 'quality'), ('ear', 'bud'), ('ear', 'pads'), ('ear', 'cups'), ('bluetooth', 'connection'), ('right', 'side'), ('long', 'battery'), ('reasonable', 'prices'), ('left', 'ear'), ('ear', 'phones'), ('right', 'ear'), ('comfortable', 'fit'), ('headphones', 'work'), ('quality', 'sound'), ('headphones', 'sound')]"
   ]
  },
  {
   "cell_type": "code",
   "execution_count": null,
   "metadata": {
    "collapsed": true
   },
   "outputs": [],
   "source": []
  },
  {
   "cell_type": "code",
   "execution_count": 217,
   "metadata": {
    "collapsed": true
   },
   "outputs": [],
   "source": [
    "def filter_reviews(review, bigram):\n",
    "    feature = ' '.join(bigram)\n",
    "    if feature in review:\n",
    "        return True\n",
    "    else:\n",
    "        return False\n",
    "def review_sentiment(string):\n",
    "    sent = analyser.polarity_scores(string)\n",
    "    return sent"
   ]
  },
  {
   "cell_type": "code",
   "execution_count": 218,
   "metadata": {},
   "outputs": [],
   "source": [
    "Final_result = []\n",
    "for bigram in bigrams:\n",
    "    Filtered_list = [review for review in Bose['Reviews'] if filter_reviews(review, bigram)]\n",
    "    #print(bigram)\n",
    "    df = pd.DataFrame({\"Reviews\":Filtered_list})\n",
    "    df['Sentiments'] = df['Reviews'].apply(lambda x: review_sentiment(x))\n",
    "    df = pd.concat([df.drop(['Sentiments'], axis=1), df['Sentiments'].apply(pd.Series)], axis=1)\n",
    "    negativity = df['neg'].sum()\n",
    "    #print(negativity)\n",
    "    positivity = df['pos'].sum()\n",
    "    Final_result.append((bigram,positivity/(positivity+negativity)))\n",
    "    #print(positivity/(positivity+negativity))\n",
    "    #nuetrality = df['neu'].sum()\n",
    "    #print(nuetrality)"
   ]
  },
  {
   "cell_type": "code",
   "execution_count": 219,
   "metadata": {},
   "outputs": [
    {
     "name": "stdout",
     "output_type": "stream",
     "text": [
      "(('left', 'ear'), 0.5723388305847076)\n",
      "(('right', 'side'), 0.5924889013318404)\n",
      "(('right', 'ear'), 0.6080959103848915)\n",
      "(('noise', 'isolation'), 0.6884327156384875)\n",
      "(('sound', 'isolation'), 0.6893484768192951)\n",
      "(('new', 'pair'), 0.6993103448275864)\n",
      "(('ear', 'canals'), 0.7062591302393527)\n",
      "(('ear', 'cups'), 0.7151189329005425)\n",
      "(('low', 'end'), 0.7182497331910352)\n",
      "(('mid', 'range'), 0.7381080045959402)\n",
      "(('audio', 'quality'), 0.7432623865405132)\n",
      "(('bluetooth', 'connection'), 0.7451208676736419)\n",
      "(('ear', 'bud'), 0.7469372972632508)\n",
      "(('background', 'noise'), 0.7550722876928686)\n",
      "(('noise', 'cancelling'), 0.7578433374166329)\n",
      "(('ear', 'buds'), 0.7580738575250283)\n",
      "(('foam', 'tips'), 0.7584724329792615)\n",
      "(('ear', 'phones'), 0.7647035368236373)\n",
      "(('customer', 'service'), 0.7667663022952164)\n",
      "(('long', 'periods'), 0.7676942390849489)\n",
      "(('build', 'quality'), 0.773354307841239)\n",
      "(('reasonable', 'prices'), 0.7753036437246964)\n",
      "(('bass', 'response'), 0.7758839466374018)\n",
      "(('high', 'end'), 0.7849283483641245)\n",
      "(('phone', 'calls'), 0.786385737439222)\n",
      "(('price', 'range'), 0.7867075959537694)\n",
      "(('ear', 'pads'), 0.7883363802559417)\n",
      "(('ear', 'monitors'), 0.7886589894828825)\n",
      "(('ear', 'pieces'), 0.7889873833309883)\n",
      "(('ear', 'pieces'), 0.7889873833309883)\n",
      "(('outside', 'noise'), 0.7950831861697183)\n",
      "(('little', 'bit'), 0.7962934930692211)\n",
      "(('headphones', 'sound'), 0.7973618748363447)\n",
      "(('second', 'pair'), 0.8055941595566892)\n",
      "(('volume', 'control'), 0.8127455974385097)\n",
      "(('noise', 'cancellation'), 0.8212623945063056)\n",
      "(('long', 'time'), 0.8267568136281712)\n",
      "(('price', 'point'), 0.8295592605061698)\n",
      "(('sound', 'quality'), 0.8344192268438204)\n",
      "(('high', 'quality'), 0.8394219670509228)\n",
      "(('noise', 'canceling'), 0.8477373858684774)\n",
      "(('blue', 'tooth'), 0.8560179164860571)\n",
      "(('headphones', 'work'), 0.8589292238201202)\n",
      "(('battery', 'life'), 0.8681687635368643)\n",
      "(('head', 'phones'), 0.8749742250326482)\n",
      "(('quality', 'sound'), 0.8758198568066891)\n",
      "(('battery', 'lasts'), 0.8787312283008402)\n",
      "(('long', 'battery'), 0.8905844620130334)\n",
      "(('light', 'weight'), 0.9074192576978093)\n",
      "(('comfortable', 'fit'), 0.9187786128898839)\n"
     ]
    }
   ],
   "source": [
    "Final_result = sorted(Final_result, key = lambda x:x[1])\n",
    "for b in Final_result:\n",
    "    print(b)"
   ]
  },
  {
   "cell_type": "code",
   "execution_count": 220,
   "metadata": {},
   "outputs": [],
   "source": [
    "#df['Jan'].apply(lambda x : x**2)"
   ]
  },
  {
   "cell_type": "code",
   "execution_count": null,
   "metadata": {
    "collapsed": true
   },
   "outputs": [],
   "source": []
  }
 ],
 "metadata": {
  "kernelspec": {
   "display_name": "Python 3",
   "language": "python",
   "name": "python3"
  },
  "language_info": {
   "codemirror_mode": {
    "name": "ipython",
    "version": 3
   },
   "file_extension": ".py",
   "mimetype": "text/x-python",
   "name": "python",
   "nbconvert_exporter": "python",
   "pygments_lexer": "ipython3",
   "version": "3.6.1"
  }
 },
 "nbformat": 4,
 "nbformat_minor": 2
}
