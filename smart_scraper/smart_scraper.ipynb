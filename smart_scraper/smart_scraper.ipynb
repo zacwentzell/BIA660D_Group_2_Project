{
 "cells": [
  {
   "cell_type": "code",
   "execution_count": 1,
   "metadata": {
    "collapsed": true
   },
   "outputs": [],
   "source": [
    "from selenium import webdriver\n",
    "from selenium.webdriver.support.select import Select\n",
    "from selenium.webdriver.common.keys import Keys\n",
    "#select works to select from an item\n",
    "from selenium.webdriver import ActionChains\n",
    "from selenium.webdriver.common.by import By\n",
    "from selenium.webdriver.support import expected_conditions as EC\n",
    "from selenium.webdriver.support.wait import WebDriverWait\n",
    "import selenium.webdriver.support.ui as ui\n",
    "from selenium.webdriver.common.keys import Keys\n",
    "import pandas as pd\n",
    "import pickle\n",
    "import re"
   ]
  },
  {
   "cell_type": "code",
   "execution_count": 2,
   "metadata": {},
   "outputs": [
    {
     "name": "stdout",
     "output_type": "stream",
     "text": [
      "--- 1.84179 seconds ---\n"
     ]
    }
   ],
   "source": [
    "#To simulate the delay\n",
    "import random\n",
    "import time\n",
    "start_time = time.time()\n",
    "normal_delay = random.normalvariate(2, 0.5)\n",
    "time.sleep(normal_delay)    \n",
    "print(\"--- %.5f seconds ---\" % (time.time() - start_time))\n",
    "\n",
    "def delay(t):\n",
    "    normal_delay = random.normalvariate(t, 0.5)\n",
    "    time.sleep(normal_delay)"
   ]
  },
  {
   "cell_type": "code",
   "execution_count": 4,
   "metadata": {},
   "outputs": [],
   "source": [
    "# Run the Chrome Driver\n",
    "#driver = webdriver.Chrome(executable_path=r'Dropbox/Academic/Courses/Term # 4/Web Analytics/chromedriver')\n",
    "driver = webdriver.Chrome(executable_path=r'chromedriver')"
   ]
  },
  {
   "cell_type": "code",
   "execution_count": 5,
   "metadata": {},
   "outputs": [
    {
     "data": {
      "text/plain": [
       "'\\ndriver.page_source\\n'"
      ]
     },
     "execution_count": 5,
     "metadata": {},
     "output_type": "execute_result"
    }
   ],
   "source": [
    "# Let's go the main page of Amazon website\n",
    "driver.get('http://www.amazon.com')\n",
    "#We can get access the full page source with this line of code\n",
    "\"\"\"\n",
    "driver.page_source\n",
    "\"\"\"\n"
   ]
  },
  {
   "cell_type": "code",
   "execution_count": 6,
   "metadata": {
    "collapsed": true
   },
   "outputs": [],
   "source": [
    "# Let's find the search field and click on it to make it ready to type on\n",
    "delay(4)\n",
    "search_field = driver.find_element_by_id('twotabsearchtextbox')\n",
    "search_field.click()\n",
    "search_field.send_keys('Headphones')\n",
    "delay(3)\n",
    "search_field.send_keys(Keys.ENTER)\n",
    "# READ MORE: http://selenium-python.readthedocs.io/locating-elements.html"
   ]
  },
  {
   "cell_type": "code",
   "execution_count": 7,
   "metadata": {},
   "outputs": [
    {
     "data": {
      "text/plain": [
       "'\\nfirst_index = left_nav_container_words.index(\"Brand\")\\n\\nFeature_index = [i for i in range(len(left_nav_container_words)) if left_nav_container_words[i] == \"Feature\"]\\nfor index in Feature_index:\\n    if left_nav_container_words[index-1]==\"Headphone\":\\n        left_nav_container_words[index-1:index] = [\\' \\'.join(left_nav_container_words[index-1:index+1])]\\nlast_index = left_nav_container_words.index(\"Headphone Feature\")\\nBrands = left_nav_container_words[first_index+1:last_index]\\n'"
      ]
     },
     "execution_count": 7,
     "metadata": {},
     "output_type": "execute_result"
    }
   ],
   "source": [
    "# Finding the list of all brands\n",
    "\n",
    "left_nav_container = driver.find_elements_by_xpath(\".//span[contains(@class, 'a-label a-checkbox-label')]\") \n",
    "\n",
    "Brands = [y.text for y in left_nav_container]\n",
    "Brands = [\"RESET\"] + Brands\n",
    "Brands = [x for x in Brands if len(x)> 0]\n",
    "\"\"\"\n",
    "first_index = left_nav_container_words.index(\"Brand\")\n",
    "\n",
    "Feature_index = [i for i in range(len(left_nav_container_words)) if left_nav_container_words[i] == \"Feature\"]\n",
    "for index in Feature_index:\n",
    "    if left_nav_container_words[index-1]==\"Headphone\":\n",
    "        left_nav_container_words[index-1:index] = [' '.join(left_nav_container_words[index-1:index+1])]\n",
    "last_index = left_nav_container_words.index(\"Headphone Feature\")\n",
    "Brands = left_nav_container_words[first_index+1:last_index]\n",
    "\"\"\""
   ]
  },
  {
   "cell_type": "code",
   "execution_count": 8,
   "metadata": {},
   "outputs": [
    {
     "name": "stdout",
     "output_type": "stream",
     "text": [
      "['AKG']\n"
     ]
    }
   ],
   "source": [
    "intended_checkboxes = ['AKG']\n",
    "print(intended_checkboxes)"
   ]
  },
  {
   "cell_type": "code",
   "execution_count": 9,
   "metadata": {},
   "outputs": [
    {
     "name": "stdout",
     "output_type": "stream",
     "text": [
      ".//input[contains(@name, 'AKG')]\n"
     ]
    },
    {
     "ename": "NoSuchElementException",
     "evalue": "Message: no such element: Unable to locate element: {\"method\":\"xpath\",\"selector\":\".//input[contains(@name, 'AKG')]\"}\n  (Session info: chrome=65.0.3325.181)\n  (Driver info: chromedriver=2.35.528161 (5b82f2d2aae0ca24b877009200ced9065a772e73),platform=Windows NT 10.0.16299 x86_64)\n",
     "output_type": "error",
     "traceback": [
      "\u001b[1;31m---------------------------------------------------------------------------\u001b[0m",
      "\u001b[1;31mNoSuchElementException\u001b[0m                    Traceback (most recent call last)",
      "\u001b[1;32m<ipython-input-9-b6cf66baa4f0>\u001b[0m in \u001b[0;36m<module>\u001b[1;34m()\u001b[0m\n\u001b[0;32m      2\u001b[0m     \u001b[0mstring\u001b[0m \u001b[1;33m=\u001b[0m \u001b[1;34m\".//input[contains(@name, '{}')]\"\u001b[0m\u001b[1;33m.\u001b[0m\u001b[0mformat\u001b[0m\u001b[1;33m(\u001b[0m\u001b[0mccc\u001b[0m\u001b[1;33m)\u001b[0m\u001b[1;33m\u001b[0m\u001b[0m\n\u001b[0;32m      3\u001b[0m     \u001b[0mprint\u001b[0m\u001b[1;33m(\u001b[0m\u001b[0mstring\u001b[0m\u001b[1;33m)\u001b[0m\u001b[1;33m\u001b[0m\u001b[0m\n\u001b[1;32m----> 4\u001b[1;33m     \u001b[0mdriver\u001b[0m\u001b[1;33m.\u001b[0m\u001b[0mfind_element_by_xpath\u001b[0m\u001b[1;33m(\u001b[0m\u001b[0mstring\u001b[0m \u001b[1;33m)\u001b[0m\u001b[1;33m.\u001b[0m\u001b[0mclick\u001b[0m\u001b[1;33m(\u001b[0m\u001b[1;33m)\u001b[0m \u001b[1;31m# and @type='checkbox']\u001b[0m\u001b[1;33m\u001b[0m\u001b[0m\n\u001b[0m\u001b[0;32m      5\u001b[0m     \u001b[0mdelay\u001b[0m\u001b[1;33m(\u001b[0m\u001b[1;36m3\u001b[0m\u001b[1;33m)\u001b[0m\u001b[1;33m\u001b[0m\u001b[0m\n",
      "\u001b[1;32mC:\\Anaconda3\\lib\\site-packages\\selenium\\webdriver\\remote\\webdriver.py\u001b[0m in \u001b[0;36mfind_element_by_xpath\u001b[1;34m(self, xpath)\u001b[0m\n\u001b[0;32m    383\u001b[0m             \u001b[0melement\u001b[0m \u001b[1;33m=\u001b[0m \u001b[0mdriver\u001b[0m\u001b[1;33m.\u001b[0m\u001b[0mfind_element_by_xpath\u001b[0m\u001b[1;33m(\u001b[0m\u001b[1;34m'//div/td[1]'\u001b[0m\u001b[1;33m)\u001b[0m\u001b[1;33m\u001b[0m\u001b[0m\n\u001b[0;32m    384\u001b[0m         \"\"\"\n\u001b[1;32m--> 385\u001b[1;33m         \u001b[1;32mreturn\u001b[0m \u001b[0mself\u001b[0m\u001b[1;33m.\u001b[0m\u001b[0mfind_element\u001b[0m\u001b[1;33m(\u001b[0m\u001b[0mby\u001b[0m\u001b[1;33m=\u001b[0m\u001b[0mBy\u001b[0m\u001b[1;33m.\u001b[0m\u001b[0mXPATH\u001b[0m\u001b[1;33m,\u001b[0m \u001b[0mvalue\u001b[0m\u001b[1;33m=\u001b[0m\u001b[0mxpath\u001b[0m\u001b[1;33m)\u001b[0m\u001b[1;33m\u001b[0m\u001b[0m\n\u001b[0m\u001b[0;32m    386\u001b[0m \u001b[1;33m\u001b[0m\u001b[0m\n\u001b[0;32m    387\u001b[0m     \u001b[1;32mdef\u001b[0m \u001b[0mfind_elements_by_xpath\u001b[0m\u001b[1;33m(\u001b[0m\u001b[0mself\u001b[0m\u001b[1;33m,\u001b[0m \u001b[0mxpath\u001b[0m\u001b[1;33m)\u001b[0m\u001b[1;33m:\u001b[0m\u001b[1;33m\u001b[0m\u001b[0m\n",
      "\u001b[1;32mC:\\Anaconda3\\lib\\site-packages\\selenium\\webdriver\\remote\\webdriver.py\u001b[0m in \u001b[0;36mfind_element\u001b[1;34m(self, by, value)\u001b[0m\n\u001b[0;32m    953\u001b[0m         return self.execute(Command.FIND_ELEMENT, {\n\u001b[0;32m    954\u001b[0m             \u001b[1;34m'using'\u001b[0m\u001b[1;33m:\u001b[0m \u001b[0mby\u001b[0m\u001b[1;33m,\u001b[0m\u001b[1;33m\u001b[0m\u001b[0m\n\u001b[1;32m--> 955\u001b[1;33m             'value': value})['value']\n\u001b[0m\u001b[0;32m    956\u001b[0m \u001b[1;33m\u001b[0m\u001b[0m\n\u001b[0;32m    957\u001b[0m     \u001b[1;32mdef\u001b[0m \u001b[0mfind_elements\u001b[0m\u001b[1;33m(\u001b[0m\u001b[0mself\u001b[0m\u001b[1;33m,\u001b[0m \u001b[0mby\u001b[0m\u001b[1;33m=\u001b[0m\u001b[0mBy\u001b[0m\u001b[1;33m.\u001b[0m\u001b[0mID\u001b[0m\u001b[1;33m,\u001b[0m \u001b[0mvalue\u001b[0m\u001b[1;33m=\u001b[0m\u001b[1;32mNone\u001b[0m\u001b[1;33m)\u001b[0m\u001b[1;33m:\u001b[0m\u001b[1;33m\u001b[0m\u001b[0m\n",
      "\u001b[1;32mC:\\Anaconda3\\lib\\site-packages\\selenium\\webdriver\\remote\\webdriver.py\u001b[0m in \u001b[0;36mexecute\u001b[1;34m(self, driver_command, params)\u001b[0m\n\u001b[0;32m    310\u001b[0m         \u001b[0mresponse\u001b[0m \u001b[1;33m=\u001b[0m \u001b[0mself\u001b[0m\u001b[1;33m.\u001b[0m\u001b[0mcommand_executor\u001b[0m\u001b[1;33m.\u001b[0m\u001b[0mexecute\u001b[0m\u001b[1;33m(\u001b[0m\u001b[0mdriver_command\u001b[0m\u001b[1;33m,\u001b[0m \u001b[0mparams\u001b[0m\u001b[1;33m)\u001b[0m\u001b[1;33m\u001b[0m\u001b[0m\n\u001b[0;32m    311\u001b[0m         \u001b[1;32mif\u001b[0m \u001b[0mresponse\u001b[0m\u001b[1;33m:\u001b[0m\u001b[1;33m\u001b[0m\u001b[0m\n\u001b[1;32m--> 312\u001b[1;33m             \u001b[0mself\u001b[0m\u001b[1;33m.\u001b[0m\u001b[0merror_handler\u001b[0m\u001b[1;33m.\u001b[0m\u001b[0mcheck_response\u001b[0m\u001b[1;33m(\u001b[0m\u001b[0mresponse\u001b[0m\u001b[1;33m)\u001b[0m\u001b[1;33m\u001b[0m\u001b[0m\n\u001b[0m\u001b[0;32m    313\u001b[0m             response['value'] = self._unwrap_value(\n\u001b[0;32m    314\u001b[0m                 response.get('value', None))\n",
      "\u001b[1;32mC:\\Anaconda3\\lib\\site-packages\\selenium\\webdriver\\remote\\errorhandler.py\u001b[0m in \u001b[0;36mcheck_response\u001b[1;34m(self, response)\u001b[0m\n\u001b[0;32m    240\u001b[0m                 \u001b[0malert_text\u001b[0m \u001b[1;33m=\u001b[0m \u001b[0mvalue\u001b[0m\u001b[1;33m[\u001b[0m\u001b[1;34m'alert'\u001b[0m\u001b[1;33m]\u001b[0m\u001b[1;33m.\u001b[0m\u001b[0mget\u001b[0m\u001b[1;33m(\u001b[0m\u001b[1;34m'text'\u001b[0m\u001b[1;33m)\u001b[0m\u001b[1;33m\u001b[0m\u001b[0m\n\u001b[0;32m    241\u001b[0m             \u001b[1;32mraise\u001b[0m \u001b[0mexception_class\u001b[0m\u001b[1;33m(\u001b[0m\u001b[0mmessage\u001b[0m\u001b[1;33m,\u001b[0m \u001b[0mscreen\u001b[0m\u001b[1;33m,\u001b[0m \u001b[0mstacktrace\u001b[0m\u001b[1;33m,\u001b[0m \u001b[0malert_text\u001b[0m\u001b[1;33m)\u001b[0m\u001b[1;33m\u001b[0m\u001b[0m\n\u001b[1;32m--> 242\u001b[1;33m         \u001b[1;32mraise\u001b[0m \u001b[0mexception_class\u001b[0m\u001b[1;33m(\u001b[0m\u001b[0mmessage\u001b[0m\u001b[1;33m,\u001b[0m \u001b[0mscreen\u001b[0m\u001b[1;33m,\u001b[0m \u001b[0mstacktrace\u001b[0m\u001b[1;33m)\u001b[0m\u001b[1;33m\u001b[0m\u001b[0m\n\u001b[0m\u001b[0;32m    243\u001b[0m \u001b[1;33m\u001b[0m\u001b[0m\n\u001b[0;32m    244\u001b[0m     \u001b[1;32mdef\u001b[0m \u001b[0m_value_or_default\u001b[0m\u001b[1;33m(\u001b[0m\u001b[0mself\u001b[0m\u001b[1;33m,\u001b[0m \u001b[0mobj\u001b[0m\u001b[1;33m,\u001b[0m \u001b[0mkey\u001b[0m\u001b[1;33m,\u001b[0m \u001b[0mdefault\u001b[0m\u001b[1;33m)\u001b[0m\u001b[1;33m:\u001b[0m\u001b[1;33m\u001b[0m\u001b[0m\n",
      "\u001b[1;31mNoSuchElementException\u001b[0m: Message: no such element: Unable to locate element: {\"method\":\"xpath\",\"selector\":\".//input[contains(@name, 'AKG')]\"}\n  (Session info: chrome=65.0.3325.181)\n  (Driver info: chromedriver=2.35.528161 (5b82f2d2aae0ca24b877009200ced9065a772e73),platform=Windows NT 10.0.16299 x86_64)\n"
     ]
    }
   ],
   "source": [
    "for ccc in intended_checkboxes:\n",
    "    string = \".//input[contains(@name, '{}')]\".format(ccc)\n",
    "    print(string)\n",
    "    driver.find_element_by_xpath(string ).click() # and @type='checkbox']\n",
    "    delay(3)\n"
   ]
  },
  {
   "cell_type": "code",
   "execution_count": 10,
   "metadata": {
    "collapsed": true
   },
   "outputs": [],
   "source": [
    "#Review scraper function, we use this fu\n",
    "\n",
    "def scrape_reviews(item,product_name):\n",
    "    #item_name = item.text\n",
    "    #send_keys(Keys.COMMAND + Keys.RETURN) in order to open the links in the page\n",
    "    # Remember each item is a link to the page for each product\n",
    "    main_window = driver.current_window_handle\n",
    "    delay(5)\n",
    "    item.send_keys(Keys.COMMAND + Keys.RETURN) \n",
    "    \n",
    "    # Switch tab to the new tab, on the right\n",
    "    delay(4) \n",
    "    driver.find_element_by_tag_name('body').send_keys(Keys.CONTROL + Keys.TAB)    \n",
    "    # It is not enough. We need to put focus on the current visible tab\n",
    "    driver.switch_to_window(driver.window_handles[1])\n",
    "    # We need to get ASIN of the product: a unique code for each product on Amazon website\n",
    "    try:\n",
    "        Product_information_table = driver.find_element_by_id(\"productDetails_detailBullets_sections1\")\n",
    "    except:\n",
    "        Product_information_table = driver.find_element_by_id(\"detail-bullets\")\n",
    "    \n",
    "    Product_information = Product_information_table.text.split()\n",
    "    Cleaned_product_information = [re.sub(':','', x) for x in Product_information]\n",
    "    ASIN_index = Cleaned_product_information.index('ASIN')\n",
    "    product_ID = Cleaned_product_information[ASIN_index+1]\n",
    "    print(\"Product ID: {}\".format(product_ID))\n",
    "    # Now, we are interested to see all the reviews for the product, the following commands do this \n",
    "    delay(5)\n",
    "\n",
    "    # We have multiple pages of reviews each contain almost 10~20 reviews\n",
    "    # We need to sweep all of those pages\n",
    "    \n",
    "\n",
    "    all_reviews = {\"Name\":product_name, \"ID\": product_ID, \"reviews\": []} \n",
    "    #we have a few products without any reviews, let's skip them\n",
    "    try:\n",
    "        see_all = driver.find_element_by_css_selector(\".a-link-emphasis.a-text-bold\")\n",
    "        see_all.click()\n",
    "    except:\n",
    "        return product_ID, all_reviews\n",
    "         \n",
    "    q = 1\n",
    "    while ( True ):\n",
    "        q += 1\n",
    "        if q > 2:\n",
    "            break\n",
    "        # First, let's find the list of links to the classes containing the reviews' text\n",
    "        title_links = driver.find_elements_by_css_selector(\".a-size-base.a-link-normal.review-title.a-color-base.a-text-bold\")\n",
    "        date_links = driver.find_elements_by_css_selector(\".a-size-base.a-color-secondary.review-date\")\n",
    "        review_links = driver.find_elements_by_css_selector(\".a-size-base.review-text\")\n",
    "        rating_links = driver.find_elements_by_xpath(\".//a[contains(@title,  'out of 5 stars')]\")\n",
    "        comment_links = driver.find_elements_by_xpath(\"//*[contains(text(), 'Was this review helpful to you?')]\")\n",
    "        # And add them to the list of all the reviews\n",
    "        titles = [title_link.text for title_link in title_links]\n",
    "        dates = [date_link.text for date_link in date_links]\n",
    "        ratings = [rating_link.get_attribute(\"title\") for rating_link in rating_links]\n",
    "        reviews = [review_link.text for review_link in review_links]\n",
    "        comments = [comment_link.text for comment_link in comment_links]\n",
    "        compact_reviews = zip(titles, dates, ratings, reviews, comments)\n",
    "        all_reviews[\"reviews\"] += compact_reviews\n",
    "        # although we can click on the link to the other pages. \n",
    "        \"\"\"\n",
    "        other_pages = driver.find_elements_by_class_name(\"page-button\")\n",
    "        print([t.text for t in other_pages])\n",
    "        \"\"\"\n",
    "\n",
    "        #print the selected button\n",
    "        current_page = driver.find_element_by_css_selector(\".a-selected.page-button\")\n",
    "        print(\"The reviews on page {} successfully extraced\".format(current_page.text))\n",
    "\n",
    "        # we prefer to use the Next→ button\n",
    "        try:\n",
    "            next_page = driver.find_element_by_class_name(\"a-last\")\n",
    "        except:\n",
    "            next_page = None\n",
    "            \n",
    "        \n",
    "        #We can also use the link text to find the intended links\n",
    "        \n",
    "        \"\"\"\n",
    "        print(driver.find_element_by_link_text('2').text)\n",
    "        \"\"\"\n",
    "        # We continue the sweeping the review pages until getting to the last page\n",
    "        \n",
    "        try:\n",
    "            is_last_page = driver.find_element_by_css_selector(\".a-disabled.a-last\")\n",
    "        except:\n",
    "            is_last_page = None\n",
    "            \n",
    "        if (is_last_page != None):\n",
    "            print(\"All the reviews extracted successfully\")\n",
    "            print(\"-------------------------------------------------\")\n",
    "            break\n",
    "        delay(10)\n",
    "        next_page.click()\n",
    "        delay(5)\n",
    "    # We extracted all the reviews from this page. Let's close the current tab    \n",
    "    delay(4)    \n",
    "    driver.close()\n",
    "    # And remember to put driver focus on current window which will be the window opener\n",
    "    driver.switch_to_window(main_window)\n",
    "    #driver.close()\n",
    "    return product_ID, all_reviews"
   ]
  },
  {
   "cell_type": "code",
   "execution_count": 11,
   "metadata": {
    "collapsed": true
   },
   "outputs": [],
   "source": [
    "def gen(whatever):\n",
    "    for i in whatever:\n",
    "        yield i"
   ]
  },
  {
   "cell_type": "code",
   "execution_count": 12,
   "metadata": {},
   "outputs": [
    {
     "name": "stdout",
     "output_type": "stream",
     "text": [
      "Product Name: TAIR Wireless Bluetooth Headphones with Magnetic Design, In-Ear Earphones, Sweatproof Headsets\n"
     ]
    },
    {
     "ename": "IndexError",
     "evalue": "list index out of range",
     "output_type": "error",
     "traceback": [
      "\u001b[1;31m---------------------------------------------------------------------------\u001b[0m",
      "\u001b[1;31mIndexError\u001b[0m                                Traceback (most recent call last)",
      "\u001b[1;32m<ipython-input-12-a17fbaf62d90>\u001b[0m in \u001b[0;36m<module>\u001b[1;34m()\u001b[0m\n\u001b[0;32m     26\u001b[0m         \u001b[0mprint\u001b[0m\u001b[1;33m(\u001b[0m\u001b[1;34m\"Product Name: {}\"\u001b[0m\u001b[1;33m.\u001b[0m\u001b[0mformat\u001b[0m\u001b[1;33m(\u001b[0m\u001b[0mproduct_name\u001b[0m\u001b[1;33m)\u001b[0m\u001b[1;33m)\u001b[0m\u001b[1;33m\u001b[0m\u001b[0m\n\u001b[0;32m     27\u001b[0m         \u001b[1;32mif\u001b[0m \u001b[0mproduct_name\u001b[0m \u001b[1;32mnot\u001b[0m \u001b[1;32min\u001b[0m \u001b[0mscraped_products\u001b[0m\u001b[1;33m:\u001b[0m\u001b[1;33m\u001b[0m\u001b[0m\n\u001b[1;32m---> 28\u001b[1;33m             \u001b[0mproduct_ID\u001b[0m\u001b[1;33m,\u001b[0m \u001b[0mall_reviews\u001b[0m \u001b[1;33m=\u001b[0m \u001b[0mscrape_reviews\u001b[0m\u001b[1;33m(\u001b[0m\u001b[0mitem\u001b[0m\u001b[1;33m,\u001b[0m \u001b[0mproduct_name\u001b[0m\u001b[1;33m)\u001b[0m\u001b[1;33m\u001b[0m\u001b[0m\n\u001b[0m\u001b[0;32m     29\u001b[0m             \u001b[1;31m#df = pd.DataFrame.from_dict(all_reviews, orient='columns', dtype=None)\u001b[0m\u001b[1;33m\u001b[0m\u001b[1;33m\u001b[0m\u001b[0m\n\u001b[0;32m     30\u001b[0m             \u001b[1;31m#df.to_csv('{}.csv'.format(list(all_items_reviews.keys())[0]))\u001b[0m\u001b[1;33m\u001b[0m\u001b[1;33m\u001b[0m\u001b[0m\n",
      "\u001b[1;32m<ipython-input-10-c793fb7d1a4e>\u001b[0m in \u001b[0;36mscrape_reviews\u001b[1;34m(item, product_name)\u001b[0m\n\u001b[0;32m     13\u001b[0m     \u001b[0mdriver\u001b[0m\u001b[1;33m.\u001b[0m\u001b[0mfind_element_by_tag_name\u001b[0m\u001b[1;33m(\u001b[0m\u001b[1;34m'body'\u001b[0m\u001b[1;33m)\u001b[0m\u001b[1;33m.\u001b[0m\u001b[0msend_keys\u001b[0m\u001b[1;33m(\u001b[0m\u001b[0mKeys\u001b[0m\u001b[1;33m.\u001b[0m\u001b[0mCONTROL\u001b[0m \u001b[1;33m+\u001b[0m \u001b[0mKeys\u001b[0m\u001b[1;33m.\u001b[0m\u001b[0mTAB\u001b[0m\u001b[1;33m)\u001b[0m\u001b[1;33m\u001b[0m\u001b[0m\n\u001b[0;32m     14\u001b[0m     \u001b[1;31m# It is not enough. We need to put focus on the current visible tab\u001b[0m\u001b[1;33m\u001b[0m\u001b[1;33m\u001b[0m\u001b[0m\n\u001b[1;32m---> 15\u001b[1;33m     \u001b[0mdriver\u001b[0m\u001b[1;33m.\u001b[0m\u001b[0mswitch_to_window\u001b[0m\u001b[1;33m(\u001b[0m\u001b[0mdriver\u001b[0m\u001b[1;33m.\u001b[0m\u001b[0mwindow_handles\u001b[0m\u001b[1;33m[\u001b[0m\u001b[1;36m1\u001b[0m\u001b[1;33m]\u001b[0m\u001b[1;33m)\u001b[0m\u001b[1;33m\u001b[0m\u001b[0m\n\u001b[0m\u001b[0;32m     16\u001b[0m     \u001b[1;31m# We need to get ASIN of the product: a unique code for each product on Amazon website\u001b[0m\u001b[1;33m\u001b[0m\u001b[1;33m\u001b[0m\u001b[0m\n\u001b[0;32m     17\u001b[0m     \u001b[1;32mtry\u001b[0m\u001b[1;33m:\u001b[0m\u001b[1;33m\u001b[0m\u001b[0m\n",
      "\u001b[1;31mIndexError\u001b[0m: list index out of range"
     ]
    }
   ],
   "source": [
    "#Now we selected the intended list of products and want to sweep the list of shown product\n",
    "\"\"\"now we are ready to get reviews, but first we should click on the items one-by-one\"\"\"\n",
    "main_window = driver.current_window_handle\n",
    "driver.switch_to_window(main_window)\n",
    "\n",
    "items_names = []\n",
    "\n",
    "try:\n",
    "    with open('successfully_scraped_products.pickle', 'rb') as handle:\n",
    "        scraped_products = pickle.load(handle)\n",
    "except:\n",
    "    scraped_products = []\n",
    "    with open('successfully_scraped_products.pickle', 'wb') as handle:\n",
    "        pickle.dump([], handle, protocol=pickle.HIGHEST_PROTOCOL)\n",
    "\n",
    "\n",
    "while(True):\n",
    "    search_items_links = driver.find_elements_by_css_selector(\".a-link-normal.s-access-detail-page.s-color-twister-title-link.a-text-normal\")\n",
    "    \n",
    "    items_names += [ link.text for link in search_items_links]\n",
    "\n",
    "    item_generator = gen(items_names)\n",
    "    \n",
    "    for item in search_items_links:\n",
    "        product_name = next(item_generator)\n",
    "        print(\"Product Name: {}\".format(product_name))\n",
    "        if product_name not in scraped_products:\n",
    "            product_ID, all_reviews = scrape_reviews(item, product_name)        \n",
    "            #df = pd.DataFrame.from_dict(all_reviews, orient='columns', dtype=None)\n",
    "            #df.to_csv('{}.csv'.format(list(all_items_reviews.keys())[0]))\n",
    "            #df.to_csv('{}.csv'.format(product_ID))\n",
    "            with open('{}.pickle'.format(product_ID), 'wb') as fp:\n",
    "                pickle.dump(all_reviews, fp)\n",
    "            scraped_products += [product_name]\n",
    "            with open('successfully_scraped_products.pickle', 'wb') as handle:\n",
    "                pickle.dump(scraped_products, handle, protocol=pickle.HIGHEST_PROTOCOL)\n",
    "\n",
    "    try:\n",
    "        next_page = driver.find_element_by_class_name(\"pagnRA\")\n",
    "    except:\n",
    "        next_page = None\n",
    "\n",
    "        \n",
    "    try:\n",
    "        is_last_page = driver.find_element_by_css_selector(\"pagnRA1\")\n",
    "    except:\n",
    "        is_last_page = None\n",
    "\n",
    "    if (is_last_page != None or next_page == None):\n",
    "        print(\"All the products' reviews extracted successfully\")\n",
    "        print(\"-------------------------------------------------\")\n",
    "        break\n",
    "    next_page.click()\n",
    "    delay(5)\n",
    "\n",
    "# an important point to manage class names containing space\n",
    "# we need to substitute spaces with periods\n",
    "# Here we get all the items showed in the first respose page\n",
    "# At the moment we just sweep the items at the first page\n",
    "\n",
    "\n"
   ]
  },
  {
   "cell_type": "code",
   "execution_count": 27,
   "metadata": {
    "collapsed": true
   },
   "outputs": [],
   "source": [
    "# We can also use the represented text to find intended classes\n",
    "\"\"\"\n",
    "X = driver.find_elements_by_xpath(\"//*[contains(text(), '5.0 out of 5 stars')]\")\n",
    "\"\"\""
   ]
  }
 ],
 "metadata": {
  "kernelspec": {
   "display_name": "Python 3",
   "language": "python",
   "name": "python3"
  },
  "language_info": {
   "codemirror_mode": {
    "name": "ipython",
    "version": 3
   },
   "file_extension": ".py",
   "mimetype": "text/x-python",
   "name": "python",
   "nbconvert_exporter": "python",
   "pygments_lexer": "ipython3",
   "version": "3.6.4"
  }
 },
 "nbformat": 4,
 "nbformat_minor": 2
}
