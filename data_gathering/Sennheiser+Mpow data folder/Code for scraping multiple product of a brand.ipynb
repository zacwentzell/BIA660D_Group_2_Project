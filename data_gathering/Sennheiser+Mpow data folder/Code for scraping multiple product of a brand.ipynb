{
 "cells": [
  {
   "cell_type": "code",
   "execution_count": 1,
   "metadata": {
    "collapsed": true
   },
   "outputs": [],
   "source": [
    "from selenium import webdriver\n",
    "from selenium.webdriver.support.select import Select\n",
    "from selenium.webdriver.common.keys import Keys\n",
    "#select works to select from an item\n",
    "from selenium.webdriver import ActionChains\n",
    "from selenium.webdriver.common.by import By\n",
    "from selenium.webdriver.support import expected_conditions as EC\n",
    "from selenium.webdriver.support.wait import WebDriverWait\n",
    "import selenium.webdriver.support.ui as ui\n",
    "from selenium.webdriver.common.keys import Keys\n",
    "from bs4 import BeautifulSoup as BS\n",
    "import numpy as np\n",
    "import pandas as pd\n",
    "import spacy\n",
    "from selenium.common.exceptions import NoSuchElementException"
   ]
  },
  {
   "cell_type": "code",
   "execution_count": 2,
   "metadata": {
    "collapsed": true
   },
   "outputs": [],
   "source": [
    "#To simulate the delay\n",
    "import random\n",
    "import time\n",
    "start_time = time.time()\n",
    "normal_delay = random.normalvariate(2, 0.5)\n",
    "time.sleep(normal_delay)    \n",
    "# print(\"--- %.5f seconds ---\" % (time.time() - start_time))\n",
    "\n",
    "def delay(t):\n",
    "    normal_delay = random.normalvariate(t, 0.5)\n",
    "    time.sleep(normal_delay)"
   ]
  },
  {
   "cell_type": "code",
   "execution_count": 3,
   "metadata": {
    "collapsed": true
   },
   "outputs": [],
   "source": [
    "# Run the Chrome Driver\n",
    "driver = webdriver.Chrome('D:\\ChromeDriver\\chromedriver.exe')"
   ]
  },
  {
   "cell_type": "code",
   "execution_count": 4,
   "metadata": {
    "collapsed": true
   },
   "outputs": [],
   "source": [
    "# Let's go the main page of Amazon website\n",
    "driver.get('http://www.amazon.com')\n",
    "#We can get access the full page source with this line of code\n",
    "\"\"\"\n",
    "driver.page_source\n",
    "\"\"\"\n",
    "# Let's find the search field and click on it to make it ready to type on\n",
    "delay(4)\n",
    "search_field = driver.find_element_by_id('twotabsearchtextbox')\n",
    "search_field.click()\n",
    "delay(3)"
   ]
  },
  {
   "cell_type": "code",
   "execution_count": 5,
   "metadata": {
    "collapsed": true
   },
   "outputs": [],
   "source": [
    "# Here we feed the keyword in search field\n",
    "search_field.send_keys('Mpow headphones')\n",
    "search_field.send_keys(Keys.ENTER)\n",
    "delay(3)"
   ]
  },
  {
   "cell_type": "code",
   "execution_count": 6,
   "metadata": {
    "collapsed": true
   },
   "outputs": [],
   "source": [
    "def find_str(s, char):\n",
    "    index = 0\n",
    "    if char in s:\n",
    "        c = char[0]\n",
    "        for ch in s:\n",
    "            if ch == c:\n",
    "                if s[index:index+len(char)] == char:\n",
    "                    return index\n",
    "            index += 1\n",
    "    return -1"
   ]
  },
  {
   "cell_type": "code",
   "execution_count": 8,
   "metadata": {
    "collapsed": true
   },
   "outputs": [],
   "source": [
    "# find headphone feature on amazon page and narrow down searches into wireless headphones only\n",
    "#wireless = driver.find_element_by_xpath('//*[@id=\"leftNavContainer\"]/ul[7]/div/li[4]/span/span/div/label/span/span')\n",
    "wireless = driver.find_element_by_xpath('//*[@id=\"leftNavContainer\"]/ul[7]/div/li[1]/span/a/span')\n",
    "wireless.click()\n",
    "delay(3)\n"
   ]
  },
  {
   "cell_type": "code",
   "execution_count": 14,
   "metadata": {
    "collapsed": true
   },
   "outputs": [],
   "source": [
    "# current page to html\n",
    "current_page = driver.page_source\n",
    "current_page_html = BS(current_page, 'html5lib')\n",
    "# find ul list containing products by id\n",
    "ul_list = current_page_html.find(\"ul\", {\"id\": \"s-results-list-atf\"})\n",
    "# initialize asin list to store all asin and product link to store all product links\n",
    "asin_list = []\n",
    "product_list = []\n",
    "for li in ul_list:\n",
    "    asin = li['data-asin']\n",
    "    asin_list.append(asin)\n",
    "    a_tag = li.find('a', attrs={'class': 'a-link-normal'},href=True)['href']\n",
    "#     print(a_tag)\n",
    "    product_list.append(a_tag)"
   ]
  },
  {
   "cell_type": "code",
   "execution_count": 15,
   "metadata": {},
   "outputs": [
    {
     "ename": "AttributeError",
     "evalue": "'NoneType' object has no attribute 'find_all'",
     "output_type": "error",
     "traceback": [
      "\u001b[1;31m---------------------------------------------------------------------------\u001b[0m",
      "\u001b[1;31mAttributeError\u001b[0m                            Traceback (most recent call last)",
      "\u001b[1;32m<ipython-input-15-45d137e36c45>\u001b[0m in \u001b[0;36m<module>\u001b[1;34m()\u001b[0m\n\u001b[0;32m     37\u001b[0m             \u001b[1;31m# get div containing all reviews body\u001b[0m\u001b[1;33m\u001b[0m\u001b[1;33m\u001b[0m\u001b[0m\n\u001b[0;32m     38\u001b[0m             \u001b[0mreviews_soup_div\u001b[0m \u001b[1;33m=\u001b[0m \u001b[0mall_cust_reviews_soup\u001b[0m\u001b[1;33m.\u001b[0m\u001b[0mfind\u001b[0m\u001b[1;33m(\u001b[0m\u001b[1;34m'div'\u001b[0m\u001b[1;33m,\u001b[0m \u001b[0mattrs\u001b[0m\u001b[1;33m=\u001b[0m\u001b[1;33m{\u001b[0m\u001b[1;34m'id'\u001b[0m\u001b[1;33m:\u001b[0m\u001b[1;34m'cm_cr-review_list'\u001b[0m\u001b[1;33m}\u001b[0m\u001b[1;33m)\u001b[0m\u001b[1;33m\u001b[0m\u001b[0m\n\u001b[1;32m---> 39\u001b[1;33m             \u001b[0mreviews_soup_div_data\u001b[0m \u001b[1;33m=\u001b[0m \u001b[0mreviews_soup_div\u001b[0m\u001b[1;33m.\u001b[0m\u001b[0mfind_all\u001b[0m\u001b[1;33m(\u001b[0m\u001b[1;34m'div'\u001b[0m\u001b[1;33m,\u001b[0m \u001b[0mattrs\u001b[0m\u001b[1;33m=\u001b[0m\u001b[1;33m{\u001b[0m\u001b[1;34m'class'\u001b[0m\u001b[1;33m:\u001b[0m \u001b[1;34m'a-section review'\u001b[0m\u001b[1;33m}\u001b[0m\u001b[1;33m)\u001b[0m\u001b[1;33m\u001b[0m\u001b[0m\n\u001b[0m\u001b[0;32m     40\u001b[0m             \u001b[0mnum_of_reviews\u001b[0m \u001b[1;33m=\u001b[0m \u001b[0mlen\u001b[0m\u001b[1;33m(\u001b[0m\u001b[0mreviews_soup_div_data\u001b[0m\u001b[1;33m)\u001b[0m\u001b[1;33m\u001b[0m\u001b[0m\n\u001b[0;32m     41\u001b[0m             \u001b[1;31m# for loop through reviews_soup_div_data\u001b[0m\u001b[1;33m\u001b[0m\u001b[1;33m\u001b[0m\u001b[0m\n",
      "\u001b[1;31mAttributeError\u001b[0m: 'NoneType' object has no attribute 'find_all'"
     ]
    }
   ],
   "source": [
    "for asin, prod in zip(asin_list, product_list):\n",
    "    driver.get(prod)\n",
    "    delay(3)\n",
    "    # spot [see all customer reviews]\n",
    "    try:\n",
    "        all_cust_reviews_link = driver.find_element_by_id('reviewSummary').find_element_by_id('dp-summary-see-all-reviews')\n",
    "        all_cust_reviews_link.click()\n",
    "        delay(3)\n",
    "        # get review page url\n",
    "        current_url = driver.current_url\n",
    "        index= find_str(current_url, '&reviewerType')\n",
    "        string = current_url[0:index] + \"&pageNumber=\" + current_url[index:]\n",
    "        # current page to HTML\n",
    "        all_cust_reviews_page = driver.page_source\n",
    "        all_cust_reviews_soup = BS(all_cust_reviews_page, 'html5lib')\n",
    "        # get total review counts\n",
    "        review_counts = all_cust_reviews_soup.find('span', attrs={'data-hook': 'total-review-count'}).get_text()\n",
    "        # remove , in counts\n",
    "        review_counts = int(review_counts.replace(',',''))\n",
    "        # # of pages\n",
    "        num_of_page = int(np.ceil(review_counts / 10))\n",
    "\n",
    "        add_eacpage_score_list = []\n",
    "        add_eacpage_date_list = []\n",
    "        add_eacpage_title_list = []\n",
    "        add_eacpage_review_list = []\n",
    "        add_eacpage_vote_list = []\n",
    "\n",
    "        for i in range(1,num_of_page+2):\n",
    "            # define page link\n",
    "            review_page_link = current_url[0:index] + \"&pageNumber=\" + str(i) + current_url[index:]\n",
    "            driver.get(review_page_link)\n",
    "            delay(2)\n",
    "            # current page to HTML\n",
    "            all_cust_reviews_page = driver.page_source\n",
    "            all_cust_reviews_soup = BS(all_cust_reviews_page, 'html5lib')\n",
    "            # get div containing all reviews body\n",
    "            reviews_soup_div = all_cust_reviews_soup.find('div', attrs={'id':'cm_cr-review_list'})\n",
    "            reviews_soup_div_data = reviews_soup_div.find_all('div', attrs={'class': 'a-section review'})\n",
    "            num_of_reviews = len(reviews_soup_div_data)\n",
    "            # for loop through reviews_soup_div_data\n",
    "            score_list = []\n",
    "            date_list = []\n",
    "            title_list = []\n",
    "            review_list = []\n",
    "            vote_list = []\n",
    "\n",
    "            for i in range(0, num_of_reviews):\n",
    "                review = reviews_soup_div_data[i].find('div', attrs={'class': 'a-section celwidget'})\n",
    "                # retrieve title score and append it to score_list\n",
    "                score = review.find('a', attrs={'class': 'a-link-normal'})['title'].encode(\"utf-8\")\n",
    "                score_list.append(score)\n",
    "                # retrieve date\n",
    "                date = review.find('span', attrs={'data-hook': 'review-date'}).get_text().encode(\"utf-8\")\n",
    "                date_list.append(date)\n",
    "                # retrieve title and append it to title_list\n",
    "                title = review.find('a', attrs={'data-hook': 'review-title'}).get_text().encode(\"utf-8\")\n",
    "                title_list.append(title)\n",
    "                # get review data and store in review_list\n",
    "                review_body = review.find('span', attrs={'data-hook': 'review-body'}).get_text().encode(\"utf-8\")\n",
    "                review_list.append(review_body)\n",
    "                # get [how many people found helpful]\n",
    "                vote = \"\"\n",
    "                if review.find('span', attrs={'data-hook': 'helpful-vote-statement'}):\n",
    "                    vote = review.find('span', attrs={'data-hook': 'helpful-vote-statement'}).get_text().encode(\"utf-8\")\n",
    "                vote_list.append(vote)\n",
    "            add_eacpage_score_list.extend(score_list)\n",
    "            add_eacpage_date_list.extend(date_list)\n",
    "            add_eacpage_title_list.extend(title_list)\n",
    "            add_eacpage_review_list.extend(review_list)\n",
    "            add_eacpage_vote_list.extend(vote_list)\n",
    "\n",
    "        df = pd.DataFrame({'Title':add_eacpage_title_list, 'Date': add_eacpage_date_list, 'Score': add_eacpage_score_list, 'Review Contents': add_eacpage_review_list, 'How Helpful': add_eacpage_vote_list})\n",
    "    #     df.to_csv(asin + '.csv')\n",
    "        df.to_csv(asin + \".csv\")\n",
    "    except NoSuchElementException:\n",
    "        driver.execute_script(\"window.history.go(-1)\")"
   ]
  },
  {
   "cell_type": "code",
   "execution_count": null,
   "metadata": {
    "collapsed": true
   },
   "outputs": [],
   "source": []
  }
 ],
 "metadata": {
  "kernelspec": {
   "display_name": "Python 3",
   "language": "python",
   "name": "python3"
  },
  "language_info": {
   "codemirror_mode": {
    "name": "ipython",
    "version": 3
   },
   "file_extension": ".py",
   "mimetype": "text/x-python",
   "name": "python",
   "nbconvert_exporter": "python",
   "pygments_lexer": "ipython3",
   "version": "3.6.3"
  }
 },
 "nbformat": 4,
 "nbformat_minor": 2
}
