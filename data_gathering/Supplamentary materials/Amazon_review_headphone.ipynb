{
 "cells": [
  {
   "cell_type": "code",
   "execution_count": 9,
   "metadata": {
    "collapsed": true
   },
   "outputs": [],
   "source": [
    "from selenium import webdriver\n",
    "from selenium.webdriver.support.select import Select\n",
    "from selenium.webdriver.common.keys import Keys\n",
    "#select works to select from an item\n",
    "from selenium.webdriver import ActionChains\n",
    "from selenium.webdriver.common.by import By\n",
    "from selenium.webdriver.support import expected_conditions as EC\n",
    "from selenium.webdriver.support.wait import WebDriverWait\n",
    "import selenium.webdriver.support.ui as ui\n",
    "from selenium.webdriver.common.keys import Keys\n",
    "from bs4 import BeautifulSoup as BS"
   ]
  },
  {
   "cell_type": "code",
   "execution_count": 2,
   "metadata": {
    "collapsed": true
   },
   "outputs": [],
   "source": [
    "#To simulate the delay\n",
    "import random\n",
    "import time\n",
    "start_time = time.time()\n",
    "normal_delay = random.normalvariate(2, 0.5)\n",
    "time.sleep(normal_delay)    \n",
    "# print(\"--- %.5f seconds ---\" % (time.time() - start_time))\n",
    "\n",
    "def delay(t):\n",
    "    normal_delay = random.normalvariate(t, 0.5)\n",
    "    time.sleep(normal_delay)"
   ]
  },
  {
   "cell_type": "code",
   "execution_count": 3,
   "metadata": {
    "collapsed": true
   },
   "outputs": [],
   "source": [
    "# Run the Chrome Driver\n",
    "driver = webdriver.Chrome(executable_path=r'/chromedriver')"
   ]
  },
  {
   "cell_type": "code",
   "execution_count": 5,
   "metadata": {},
   "outputs": [],
   "source": [
    "# Let's go to Amazon product page\n",
    "driver.get('https://www.amazon.com/COWIN-Cancelling-Headphones-Microphone-Comfortable/dp/B019U00D7K/ref=zg_bs_electronics_51?_encoding=UTF8&psc=1&refRID=H4R0ZZKXFYWRFTGZJ4SQ')\n",
    "#We can get access the full page source with this line of code\n",
    "\"\"\"\n",
    "driver.page_source\n",
    "\"\"\"\n",
    "delay(2)"
   ]
  },
  {
   "cell_type": "code",
   "execution_count": 7,
   "metadata": {
    "collapsed": true
   },
   "outputs": [],
   "source": [
    "# spot [see all customer reviews]\n",
    "all_cust_reviews_div = driver.find_element_by_id('reviewSummary')\n",
    "all_cust_reviews_link = driver.find_element_by_id('dp-summary-see-all-reviews')\n",
    "all_cust_reviews_link.click()"
   ]
  },
  {
   "cell_type": "code",
   "execution_count": 10,
   "metadata": {},
   "outputs": [],
   "source": [
    "# current page to HTML\n",
    "all_cust_reviews_page = driver.page_source\n",
    "all_cust_reviews_soup = BS(all_cust_reviews_page, 'html5lib')"
   ]
  },
  {
   "cell_type": "code",
   "execution_count": 39,
   "metadata": {},
   "outputs": [
    {
     "name": "stdout",
     "output_type": "stream",
     "text": [
      "10\n"
     ]
    }
   ],
   "source": [
    "# get div containing all reviews body\n",
    "reviews_soup_div = all_cust_reviews_soup.find('div', attrs={'id':'cm_cr-review_list'})\n",
    "reviews_soup_div_data = reviews_soup_div.find_all('div', attrs={'class': 'a-section review'})\n",
    "num_of_reviews = len(reviews_soup_div_data)\n",
    "# for loop through reviews_soup_div_data\n",
    "score_list = []\n",
    "title_list = []\n",
    "review_list = []\n",
    "for i in range(0, num_of_reviews):\n",
    "    review = reviews_soup_div_data[i].find('div', attrs={'class': 'a-section celwidget'})\n",
    "    # retrieve title score and append it to score_list\n",
    "    score = review.find('a', attrs={'class': 'a-link-normal'})['title']\n",
    "    score_list.append(score)\n",
    "    # retrieve title and append it to title_list\n",
    "    title = review.find('a', attrs={'data-hook': 'review-title'}).get_text()\n",
    "    title_list.append(title)\n",
    "    # get review data and store in review_list\n",
    "    review_body = review.find('span', attrs={'data-hook': 'review-body'}).get_text()\n",
    "    review_list.append(review_body)"
   ]
  },
  {
   "cell_type": "code",
   "execution_count": null,
   "metadata": {
    "collapsed": true
   },
   "outputs": [],
   "source": []
  }
 ],
 "metadata": {
  "kernelspec": {
   "display_name": "Python 3",
   "language": "python",
   "name": "python3"
  },
  "language_info": {
   "codemirror_mode": {
    "name": "ipython",
    "version": 3
   },
   "file_extension": ".py",
   "mimetype": "text/x-python",
   "name": "python",
   "nbconvert_exporter": "python",
   "pygments_lexer": "ipython3",
   "version": "3.6.4"
  }
 },
 "nbformat": 4,
 "nbformat_minor": 2
}
